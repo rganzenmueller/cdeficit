{
 "cells": [
  {
   "cell_type": "markdown",
   "id": "1a7082b8-b1cd-40c4-8967-2d80b201fd7b",
   "metadata": {},
   "source": [
    "# Prepare soil carbon data"
   ]
  },
  {
   "cell_type": "code",
   "execution_count": null,
   "id": "ba28c5db-b417-41ab-be08-93582fdc1537",
   "metadata": {},
   "outputs": [],
   "source": [
    "dir01 = '../paper_deficit/output/01_prep/'\n",
    "dir02 = '../paper_deficit/output/02_dbase/'"
   ]
  },
  {
   "cell_type": "code",
   "execution_count": null,
   "id": "3444fc14-95a7-4230-be75-91c8fba62409",
   "metadata": {},
   "outputs": [],
   "source": [
    "import xarray as xr\n",
    "import matplotlib.pyplot as plt"
   ]
  },
  {
   "cell_type": "markdown",
   "id": "d928ea85-35cb-42c2-b021-d01ffeb3e25c",
   "metadata": {},
   "source": [
    "---"
   ]
  },
  {
   "cell_type": "code",
   "execution_count": null,
   "id": "32623149-05bd-4c00-a254-0e2cb8296b73",
   "metadata": {},
   "outputs": [],
   "source": [
    "# Load datasets\n",
    "ds_soilgrids = xr.open_zarr(dir01 + 'ds_prep_soilgrids2020_ocs_0-30cm.zarr')\n",
    "ds_gsoc = xr.open_zarr(dir01 + 'ds_prep_gsoc_ocs_0-30cm.zarr')"
   ]
  },
  {
   "cell_type": "code",
   "execution_count": null,
   "id": "beb54828-957b-423b-8bc7-d8215d658442",
   "metadata": {},
   "outputs": [],
   "source": [
    "# Merge data to one array\n",
    "da_soc = xr.merge([ds_soilgrids['soilgrids2020_ocs_0-30cm'], \n",
    "                   ds_gsoc['gsoc_ocs_0-30cm']]) \\\n",
    "    .to_array('soc')\n",
    "\n",
    "# Create SOC dataset\n",
    "# Calculate arrays with min, mean, and max values for each grid cell\n",
    "ds_soc = xr.Dataset({\n",
    "    'soc_min': da_soc.min('soc'),\n",
    "    'soc_mean': da_soc.mean('soc'),\n",
    "    'soc_max': da_soc.max('soc')\n",
    "})\n",
    "\n",
    "# Export SOC dataset\n",
    "ds_soc.to_zarr(dir02 + 'ds_prep_soc.zarr', mode='w');"
   ]
  },
  {
   "cell_type": "markdown",
   "id": "40bf2a83-1a71-42f6-98ab-c65143841777",
   "metadata": {},
   "source": [
    "---"
   ]
  },
  {
   "cell_type": "markdown",
   "id": "1d294f49-ba3c-4c44-8911-cc3c431899e3",
   "metadata": {},
   "source": [
    "### Check"
   ]
  },
  {
   "cell_type": "code",
   "execution_count": null,
   "id": "802c4e7c-5c20-4f14-9128-4d5c7da6c6b5",
   "metadata": {},
   "outputs": [],
   "source": [
    "ds_soc = xr.open_zarr(dir02 + 'ds_prep_soc.zarr')\n",
    "ds_area = xr.open_zarr(dir01 + 'ds_prep_area_ha.zarr')"
   ]
  },
  {
   "cell_type": "code",
   "execution_count": null,
   "id": "fc059f7b-e4c9-4e51-a7d3-f728eb417cab",
   "metadata": {},
   "outputs": [],
   "source": [
    "for i in list(ds_soc.data_vars):\n",
    "    fig, ax = plt.subplots(figsize=(10, 5), ncols=1, nrows=1)\n",
    "    ds_soc[i].plot.imshow(ax=ax, robust=True)\n",
    "    ax.set_title(i)"
   ]
  },
  {
   "cell_type": "code",
   "execution_count": null,
   "id": "da85ed77-cafe-4506-8fdb-e9bab44cbea2",
   "metadata": {},
   "outputs": [],
   "source": [
    "def get_pgc(da):\n",
    "    v_pgc = ((da * ds_area.area_ha).sum(['lat', 'lon']) * 0.000000001) \\\n",
    "        .compute().item() \n",
    "    return round(v_pgc, 1)"
   ]
  },
  {
   "cell_type": "code",
   "execution_count": null,
   "id": "3620cf02-f1ab-4679-a42f-d93107366fa9",
   "metadata": {},
   "outputs": [],
   "source": [
    "print('Soilgrids 2020: ' + str(get_pgc(ds_soilgrids['soilgrids2020_ocs_0-30cm'])))\n",
    "print('GSOC: ' + str(get_pgc(ds_gsoc['gsoc_ocs_0-30cm'])))"
   ]
  },
  {
   "cell_type": "code",
   "execution_count": null,
   "id": "9aa95221-cbf0-41f7-8096-ce0fd293e301",
   "metadata": {},
   "outputs": [],
   "source": [
    "print('Max Scenario')\n",
    "print('SOC max: ' + str(get_pgc(ds_soc.soc_max)))\n",
    "print('SOC mean: ' + str(get_pgc(ds_soc.soc_mean)))\n",
    "print('SOC min: ' + str(get_pgc(ds_soc.soc_min)))"
   ]
  },
  {
   "cell_type": "code",
   "execution_count": null,
   "id": "4f780f19-7a60-4efc-a96f-1b399d0abbba",
   "metadata": {},
   "outputs": [],
   "source": [
    "ds_soilgrids['soilgrids2020_ocs_0-30cm'].plot.imshow(robust=True)"
   ]
  },
  {
   "cell_type": "code",
   "execution_count": null,
   "id": "f014f311-a4b5-48dd-a2f8-3151f4662734",
   "metadata": {},
   "outputs": [],
   "source": [
    "ds_gsoc['gsoc_ocs_0-30cm'].plot.imshow(robust=True)"
   ]
  },
  {
   "cell_type": "markdown",
   "id": "97900154-7993-4272-8f37-36affa20f5ad",
   "metadata": {},
   "source": [
    "---"
   ]
  },
  {
   "cell_type": "code",
   "execution_count": null,
   "id": "d125e1db-f9a0-482c-a076-65f3ef68e865",
   "metadata": {},
   "outputs": [],
   "source": [
    "dir_old = '../paper_carbon_densities/output/03_fill_nans/'"
   ]
  },
  {
   "cell_type": "code",
   "execution_count": null,
   "id": "02b0e483-89a3-4bdd-b627-c4c789f6108b",
   "metadata": {},
   "outputs": [],
   "source": [
    "da_sgrids_old = xr.open_zarr(dir_old + 'ds_fillnan_sgrids_ocs_2020_0-30cm.zarr') \\\n",
    "    ['sgrids_ocs_2020_0-30cm']\n",
    "\n",
    "da_sgrids_old.plot.imshow(robust=True)\n",
    "print(get_pgc(da_sgrids_old))"
   ]
  },
  {
   "cell_type": "code",
   "execution_count": null,
   "id": "a259c576-9a50-4d1d-868a-308313feac89",
   "metadata": {},
   "outputs": [],
   "source": [
    "da_gsoc_old = xr.open_zarr(dir_old + 'ds_fillnan_gsoc_ocs_0-30cm.zarr') \\\n",
    "    ['gsoc_ocs_0-30cm']\n",
    "\n",
    "da_gsoc_old.plot.imshow(robust=True)\n",
    "print(get_pgc(da_gsoc_old))"
   ]
  },
  {
   "cell_type": "code",
   "execution_count": null,
   "id": "0df5261f-6fc6-48bf-80de-364d66a6b07f",
   "metadata": {},
   "outputs": [],
   "source": [
    "da_gsoc_reg = xr.open_zarr(dir01 + 'ds_regridded_gsoc_ocs_0-30cm.zarr') \\\n",
    "    ['regridded_gsoc_ocs_0-30cm']\n",
    "\n",
    "da_gsoc_reg.plot.imshow(robust=True)"
   ]
  },
  {
   "cell_type": "code",
   "execution_count": null,
   "id": "d273870b-0989-4241-85dc-b70fcf623461",
   "metadata": {},
   "outputs": [],
   "source": [
    "fig, ax = plt.subplots(figsize=(20, 10))\n",
    "(ds_gsoc['gsoc_ocs_0-30cm'] - da_gsoc_old) \\\n",
    "    .plot.imshow(ax=ax, robust=True)"
   ]
  }
 ],
 "metadata": {
  "kernelspec": {
   "display_name": "Python 3.12 (deficit)",
   "language": "python",
   "name": "deficit_python312"
  },
  "language_info": {
   "codemirror_mode": {
    "name": "ipython",
    "version": 3
   },
   "file_extension": ".py",
   "mimetype": "text/x-python",
   "name": "python",
   "nbconvert_exporter": "python",
   "pygments_lexer": "ipython3",
   "version": "3.12.6"
  }
 },
 "nbformat": 4,
 "nbformat_minor": 5
}
