{
 "cells": [
  {
   "cell_type": "markdown",
   "id": "bc45f6e5-7ca7-40ef-b794-149d079ef20e",
   "metadata": {},
   "source": [
    "# Prepare potential training grid cells"
   ]
  },
  {
   "cell_type": "code",
   "execution_count": null,
   "id": "a804ca25-e2ba-48b1-a7b0-552fd0e87e51",
   "metadata": {},
   "outputs": [],
   "source": [
    "dir01 = '../paper_deficit/output/01_prep/'\n",
    "dir02 = '../paper_deficit/output/02_dbase/'"
   ]
  },
  {
   "cell_type": "code",
   "execution_count": null,
   "id": "840b2bdf-2973-4731-9867-06c6bb9b34c7",
   "metadata": {},
   "outputs": [],
   "source": [
    "import xarray as xr\n",
    "import matplotlib.pyplot as plt"
   ]
  },
  {
   "cell_type": "markdown",
   "id": "85a2e137-5169-4a90-8cb6-cc45bb7c8f31",
   "metadata": {},
   "source": [
    "---"
   ]
  },
  {
   "cell_type": "code",
   "execution_count": null,
   "id": "c6a8002a-6ce1-49ab-bd4a-1661e331212f",
   "metadata": {},
   "outputs": [],
   "source": [
    "# Read data\n",
    "ds_hilda_stable_fso = xr.open_zarr(dir01 + 'ds_prep_hilda_stable_fso.zarr')\n",
    "ds_esacci_stable_fso = xr.open_zarr(dir01 + 'ds_prep_esacci_stable_fso.zarr')\n",
    "ds_cop_crops = xr.open_zarr(dir01 + 'ds_prep_cop_crops.zarr')\n",
    "ds_cop_builtup = xr.open_zarr(dir01 + 'ds_prep_cop_builtup.zarr')\n",
    "ds_riggio_vlhi0 = xr.open_zarr(dir01 + 'ds_prep_riggio_vlhi0.zarr')\n",
    "ds_riggio_vlhi4 = xr.open_zarr(dir01 + 'ds_prep_riggio_vlhi4.zarr')\n",
    "ds_wdpa_ia = xr.open_zarr(dir01 + 'ds_prep_wdpa_ia.zarr')\n",
    "ds_wdpa_ib = xr.open_zarr(dir01 + 'ds_prep_wdpa_ib.zarr')\n",
    "ds_wdpa_ii = xr.open_zarr(dir01 + 'ds_prep_wdpa_ii.zarr')\n",
    "ds_wdpa_iii = xr.open_zarr(dir01 + 'ds_prep_wdpa_iii.zarr')\n",
    "ds_wdpa_iv = xr.open_zarr(dir01 + 'ds_prep_wdpa_iv.zarr')\n",
    "ds_wdpa_v = xr.open_zarr(dir01 + 'ds_prep_wdpa_v.zarr')\n",
    "ds_wdpa_vi = xr.open_zarr(dir01 + 'ds_prep_wdpa_vi.zarr')\n",
    "\n",
    "ds_land = xr.open_zarr(dir01 + 'ds_prep_copernicus_land_mask.zarr')"
   ]
  },
  {
   "cell_type": "code",
   "execution_count": null,
   "id": "12c6cf47-7db0-4c24-832d-0a534f5c78ec",
   "metadata": {},
   "outputs": [],
   "source": [
    "# Select potential training grid cells for primary land simulations\n",
    "da_pot_prim = xr.where((ds_hilda_stable_fso.hilda_stable_fso > 0.9) &\n",
    "                       (ds_esacci_stable_fso.esacci_stable_fso > 0.9) &\n",
    "                       (ds_cop_crops.cop_crops == 0) &\n",
    "                       (ds_cop_builtup.cop_builtup == 0) &\n",
    "                       (ds_riggio_vlhi0.riggio_vlhi0 > 0.9), 1, 0) \\\n",
    "    .where(ds_land.copernicus_land_mask == True) \\\n",
    "    .rename('pot_prim')\n",
    "\n",
    "# Export as zarr\n",
    "da_pot_prim.to_zarr(dir02 + 'ds_prep_pot_prim.zarr', mode='w');"
   ]
  },
  {
   "cell_type": "code",
   "execution_count": null,
   "id": "a5febd73-5c07-42d3-bd8c-64e3be7e7fc1",
   "metadata": {},
   "outputs": [],
   "source": [
    "# Select grid cells where wdpa protection is at least 90%\n",
    "da_wdpa = xr.where(\n",
    "    xr.where(ds_wdpa_ia.wdpa_ia > 0.9, 1, 0) |\n",
    "    xr.where(ds_wdpa_ib.wdpa_ib > 0.9, 1, 0) |\n",
    "    xr.where(ds_wdpa_ii.wdpa_ii > 0.9, 1, 0) |\n",
    "    xr.where(ds_wdpa_iii.wdpa_iii > 0.9, 1, 0) |\n",
    "    xr.where(ds_wdpa_iv.wdpa_iv > 0.9, 1, 0) |\n",
    "    xr.where(ds_wdpa_v.wdpa_v > 0.9, 1, 0) |\n",
    "    xr.where(ds_wdpa_vi.wdpa_vi > 0.9, 1, 0),\n",
    "    1, 0)\n",
    "\n",
    "# Select potential training grid cells for primary land simulations\n",
    "da_pot_secd = xr.where((ds_hilda_stable_fso.hilda_stable_fso > 0.9) &\n",
    "                       (ds_esacci_stable_fso.esacci_stable_fso > 0.9) &\n",
    "                       (ds_cop_crops.cop_crops == 0) &\n",
    "                       (ds_cop_builtup.cop_builtup == 0) &\n",
    "                       (ds_riggio_vlhi4.riggio_vlhi4 > 0.9) &\n",
    "                       (da_wdpa == 1), 1, 0) \\\n",
    "    .where(ds_land.copernicus_land_mask == True) \\\n",
    "    .rename('pot_secd')\n",
    "\n",
    "# Export as zarr\n",
    "da_pot_secd.to_zarr(dir02 + 'ds_prep_pot_secd.zarr', mode='w');"
   ]
  },
  {
   "cell_type": "markdown",
   "id": "62ab0c7f-79a2-4050-844c-301592793c9e",
   "metadata": {},
   "source": [
    "---"
   ]
  },
  {
   "cell_type": "markdown",
   "id": "826e9f3d-46d2-4503-b0a6-528f50bb0e09",
   "metadata": {},
   "source": [
    "### Check"
   ]
  },
  {
   "cell_type": "code",
   "execution_count": null,
   "id": "00f86a22-3ee7-4b9f-a879-6396d14fdc59",
   "metadata": {},
   "outputs": [],
   "source": [
    "da_pot_prim.sum().values.item()"
   ]
  },
  {
   "cell_type": "code",
   "execution_count": null,
   "id": "9fcc8dc9-f4da-43fb-b25f-50730d38083e",
   "metadata": {},
   "outputs": [],
   "source": [
    "da_pot_secd.sum().values.item()"
   ]
  },
  {
   "cell_type": "code",
   "execution_count": null,
   "id": "b98ddf56-75d7-4f25-87a7-18010e776c16",
   "metadata": {},
   "outputs": [],
   "source": [
    "fig, ax = plt.subplots(figsize=(20, 10), ncols=1, nrows=1)\n",
    "da_pot_prim.plot.imshow(ax=ax)"
   ]
  },
  {
   "cell_type": "code",
   "execution_count": null,
   "id": "57627d78-735c-4c7b-a5da-feb99058ea2b",
   "metadata": {},
   "outputs": [],
   "source": [
    "fig, ax = plt.subplots(figsize=(20, 10), ncols=1, nrows=1)\n",
    "da_pot_secd.plot.imshow(ax=ax)"
   ]
  },
  {
   "cell_type": "markdown",
   "id": "b8bd987a-eb8d-4c3c-9ae3-70219f2a4898",
   "metadata": {},
   "source": [
    "---"
   ]
  },
  {
   "cell_type": "code",
   "execution_count": null,
   "id": "e59880fb-3a6d-43ca-9927-fd3572a90eb1",
   "metadata": {},
   "outputs": [],
   "source": [
    "dir_nearth = '../data/naturalearth/'"
   ]
  },
  {
   "cell_type": "code",
   "execution_count": null,
   "id": "77177994-3d6a-4664-9e6c-678bd44bf9b3",
   "metadata": {},
   "outputs": [],
   "source": [
    "import geopandas as gpd\n",
    "from mpl_toolkits.axes_grid1 import make_axes_locatable"
   ]
  },
  {
   "cell_type": "code",
   "execution_count": null,
   "id": "68c340c6-73b4-4d82-be12-6e0fbd8a9cfa",
   "metadata": {},
   "outputs": [],
   "source": [
    "# Read coastline data\n",
    "coastline110 = gpd.read_file(\n",
    "    dir_nearth + 'ne_110m_coastline/ne_110m_coastline.shp')"
   ]
  },
  {
   "cell_type": "code",
   "execution_count": null,
   "id": "d8bbb762-1824-4941-949a-b574662b424a",
   "metadata": {},
   "outputs": [],
   "source": [
    "def plot_hexbin_pot_train(df):\n",
    "\n",
    "    fig, ax = plt.subplots(figsize=(20, 10), ncols=1, nrows=1)\n",
    "    \n",
    "    coastline110.plot(ax=ax, color='#000000', linewidth=0.5)\n",
    "    \n",
    "    im = ax.hexbin(x=df.lon, y=df.lat, C=df.iloc[:,2], \n",
    "                       gridsize=150, reduce_C_function=sum, linewidths=0.2,\n",
    "                       cmap='inferno', bins='log')\n",
    "        \n",
    "    cbar_ticks = [1, 5, 10, 25, 50]\n",
    "            \n",
    "    divider = make_axes_locatable(ax)\n",
    "    cax = divider.append_axes(\"right\", size=\"2%\", pad=0.2)\n",
    "    cbar = fig.colorbar(im, cax=cax, label='Grid cells for training')\n",
    "    cbar.set_ticks(cbar_ticks)\n",
    "    cbar.set_ticklabels(cbar_ticks)"
   ]
  },
  {
   "cell_type": "code",
   "execution_count": null,
   "id": "2e4759b9-63e0-4394-aa33-45b8baa07eea",
   "metadata": {},
   "outputs": [],
   "source": [
    "df_prim = da_pot_prim \\\n",
    "    .to_dask_dataframe(dim_order=['lat', 'lon']) \\\n",
    "    [['lat', 'lon', 'pot_prim']]\n",
    "\n",
    "df_prim = df_prim[df_prim.pot_prim == 1]\n",
    "\n",
    "plot_hexbin_pot_train(df_prim)"
   ]
  },
  {
   "cell_type": "code",
   "execution_count": null,
   "id": "e93d4185-9f69-452e-a3da-6d817ce722c7",
   "metadata": {},
   "outputs": [],
   "source": [
    "df_secd = da_pot_secd \\\n",
    "    .to_dask_dataframe(dim_order=['lat', 'lon']) \\\n",
    "    [['lat', 'lon', 'pot_secd']]\n",
    "\n",
    "df_secd = df_secd[df_secd.pot_secd == 1]\n",
    "\n",
    "plot_hexbin_pot_train(df_secd)"
   ]
  }
 ],
 "metadata": {
  "kernelspec": {
   "display_name": "Python 3.12 (deficit)",
   "language": "python",
   "name": "deficit_python312"
  },
  "language_info": {
   "codemirror_mode": {
    "name": "ipython",
    "version": 3
   },
   "file_extension": ".py",
   "mimetype": "text/x-python",
   "name": "python",
   "nbconvert_exporter": "python",
   "pygments_lexer": "ipython3",
   "version": "3.12.6"
  }
 },
 "nbformat": 4,
 "nbformat_minor": 5
}
