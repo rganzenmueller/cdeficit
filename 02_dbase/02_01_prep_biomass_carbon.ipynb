{
 "cells": [
  {
   "cell_type": "markdown",
   "id": "3294b44f-0067-47c7-8307-71ad2e4c60c1",
   "metadata": {},
   "source": [
    "# Prepare biomass carbon data"
   ]
  },
  {
   "cell_type": "code",
   "execution_count": null,
   "id": "513d621d-1b62-4d45-ba92-fdbd18ea3490",
   "metadata": {},
   "outputs": [],
   "source": [
    "dir01 = '../paper_deficit/output/01_prep/'\n",
    "dir02 = '../paper_deficit/output/02_dbase/'"
   ]
  },
  {
   "cell_type": "code",
   "execution_count": null,
   "id": "01e64439-5b31-40f9-bfc8-ff35e72c3777",
   "metadata": {},
   "outputs": [],
   "source": [
    "import xarray as xr\n",
    "import matplotlib.pyplot as plt"
   ]
  },
  {
   "cell_type": "markdown",
   "id": "6111a8c6-4e34-4e7a-a1bb-40bc4eba44f3",
   "metadata": {},
   "source": [
    "---"
   ]
  },
  {
   "cell_type": "code",
   "execution_count": null,
   "id": "f9ea9892-6cfc-462a-af7d-0cff260212a3",
   "metadata": {},
   "outputs": [],
   "source": [
    "# Load datasets\n",
    "ds_esabio_agb = xr.open_mfdataset(dir01 + 'ds_prep_esabio_agb*.zarr', \n",
    "                                  engine='zarr')\n",
    "ds_spawn_agbc = xr.open_zarr(dir01 + 'ds_prep_spawn_agbc.zarr')\n",
    "ds_spawn_bgbc = xr.open_zarr(dir01 + 'ds_prep_spawn_bgbc.zarr')\n",
    "ds_huang_agb = xr.open_zarr(dir01 + 'ds_prep_huang_agb.zarr')\n",
    "ds_huang_bgb = xr.open_zarr(dir01 + 'ds_prep_huang_bgb.zarr')"
   ]
  },
  {
   "cell_type": "code",
   "execution_count": null,
   "id": "84690352-b426-4ea6-96b7-a77150ef3ed9",
   "metadata": {},
   "outputs": [],
   "source": [
    "# Calculate mean esabio carbon of 2015-2021 using IPCC default\n",
    "vars_esabio_agb = [i for i in ds_esabio_agb.data_vars \n",
    "                   if i.startswith('esabio_agb20')]\n",
    "\n",
    "da_esabio_agbc = ds_esabio_agb[vars_esabio_agb] \\\n",
    "    .to_array('a') \\\n",
    "    .mean('a') \\\n",
    "    .rename('esabio_agbc') * 0.47\n",
    "\n",
    "# Merge esabio and spawn data into a single array\n",
    "da_agbc = xr.merge([da_esabio_agbc, ds_spawn_agbc.spawn_agbc]) \\\n",
    "    .to_array('agbc')\n",
    "\n",
    "# Calculate arrays with min, mean, and max values for each grid cell\n",
    "da_agbc_min = da_agbc.min('agbc')\n",
    "da_agbc_mean = da_agbc.mean('agbc')\n",
    "da_agbc_max = da_agbc.max('agbc')\n",
    "\n",
    "# Create AGBC dataset\n",
    "ds_agbc = xr.Dataset({\n",
    "    'agbc_min': da_agbc_min,\n",
    "    'agbc_mean': da_agbc_mean,\n",
    "    'agbc_max': da_agbc_max\n",
    "})\n",
    "\n",
    "# Export AGBC dataset\n",
    "ds_agbc.to_zarr(dir02 + 'ds_prep_agbc.zarr', mode='w');"
   ]
  },
  {
   "cell_type": "code",
   "execution_count": null,
   "id": "7d1fce7a-c19d-44d7-855b-c93de33b1d47",
   "metadata": {},
   "outputs": [],
   "source": [
    "# Get Huang bgb/agb ratio data\n",
    "ds_huang_ratio = xr.open_zarr(dir01 + \"ds_prep_huang_bgbagbratio.zarr\")\n",
    "da_huang_ratio = ds_huang_ratio.huang_bgbagbratio\n",
    "\n",
    "# Calculate BGBC carbon values using AGBC and Huang ratio\n",
    "ds_bgbc = xr.Dataset({\n",
    "    'bgbc_min': da_agbc_min * da_huang_ratio, \n",
    "    'bgbc_mean': da_agbc_mean * da_huang_ratio,\n",
    "    'bgbc_max': da_agbc_max * da_huang_ratio \n",
    "})\n",
    "\n",
    "# Export BGBC dataset\n",
    "ds_bgbc.to_zarr(dir02 + 'ds_prep_bgbc.zarr', mode='w');"
   ]
  },
  {
   "cell_type": "markdown",
   "id": "6bd42669-7de8-46b1-8af8-3afcbbea9124",
   "metadata": {},
   "source": [
    "---"
   ]
  },
  {
   "cell_type": "markdown",
   "id": "958ce1e8-d922-460d-8331-4d146b12fea8",
   "metadata": {},
   "source": [
    "### Check"
   ]
  },
  {
   "cell_type": "code",
   "execution_count": null,
   "id": "8287147f-4b41-4d95-a1cb-18235bc30f8b",
   "metadata": {},
   "outputs": [],
   "source": [
    "ds_agbc = xr.open_zarr(dir02 + 'ds_prep_agbc.zarr')\n",
    "ds_bgbc = xr.open_zarr(dir02 + 'ds_prep_bgbc.zarr')\n",
    "ds_area = xr.open_zarr(dir01 + 'ds_prep_area_ha.zarr')"
   ]
  },
  {
   "cell_type": "code",
   "execution_count": null,
   "id": "3e77a078-e021-4931-ade0-772358c2b627",
   "metadata": {},
   "outputs": [],
   "source": [
    "for i in list(ds_agbc.data_vars):\n",
    "    fig, ax = plt.subplots(figsize=(10, 5), ncols=1, nrows=1)\n",
    "    ds_agbc[i].plot.imshow(ax=ax, robust=True)\n",
    "    ax.set_title(i)"
   ]
  },
  {
   "cell_type": "code",
   "execution_count": null,
   "id": "5203607a-740f-4838-81ff-59a87e8c6016",
   "metadata": {},
   "outputs": [],
   "source": [
    "for i in list(ds_bgbc.data_vars):\n",
    "    fig, ax = plt.subplots(figsize=(10, 5), ncols=1, nrows=1)\n",
    "    ds_bgbc[i].plot.imshow(ax=ax, robust=True)\n",
    "    ax.set_title(i)"
   ]
  },
  {
   "cell_type": "code",
   "execution_count": null,
   "id": "1a516a8f-f62c-42c7-85b0-0d415f70d0ec",
   "metadata": {},
   "outputs": [],
   "source": [
    "def get_pgc(da):\n",
    "    v_pgc = ((da * ds_area.area_ha).sum(['lat', 'lon']) * 0.000000001) \\\n",
    "        .compute().item() \n",
    "    return round(v_pgc, 1)"
   ]
  },
  {
   "cell_type": "code",
   "execution_count": null,
   "id": "01ab7a11-3253-4b0e-bd41-fc446bd1d46d",
   "metadata": {},
   "outputs": [],
   "source": [
    "print('Spawn AGBC: ' + str(get_pgc(ds_spawn_agbc.spawn_agbc)))\n",
    "print('Spawn BGBC: ' + str(get_pgc(ds_spawn_bgbc.spawn_bgbc)))\n",
    "print('ESACCI: ' + str(get_pgc(da_esabio_agbc)))\n",
    "print('Huang AGBC: ' + str(get_pgc(ds_huang_agb.huang_agb * 0.47)))\n",
    "print('Huang BGBC: ' + str(get_pgc(ds_huang_bgb.huang_bgb * 0.47)))"
   ]
  },
  {
   "cell_type": "code",
   "execution_count": null,
   "id": "8bc4d8a3-9ba9-4d19-9755-748a39d3627a",
   "metadata": {},
   "outputs": [],
   "source": [
    "print('Max Scenario')\n",
    "print('AGBC: ' + str(get_pgc(ds_agbc.agbc_max)))\n",
    "print('BGBC: ' + str(get_pgc(ds_bgbc.bgbc_max)))\n",
    "print('AGBC + BGBC: ' + str(get_pgc(ds_agbc.agbc_max + ds_bgbc.bgbc_max)))"
   ]
  },
  {
   "cell_type": "code",
   "execution_count": null,
   "id": "1081ae6d-264d-40c0-82a6-f5a0486a7d2b",
   "metadata": {},
   "outputs": [],
   "source": [
    "print('Mean Scenario')\n",
    "print('AGBC: ' + str(get_pgc(ds_agbc.agbc_mean)))\n",
    "print('BGBC: ' + str(get_pgc(ds_bgbc.bgbc_mean)))\n",
    "print('AGBC + BGBC: ' + str(get_pgc(ds_agbc.agbc_mean + ds_bgbc.bgbc_mean)))"
   ]
  },
  {
   "cell_type": "code",
   "execution_count": null,
   "id": "35e801f7-6257-4c5a-80a3-dc5ef15b5eff",
   "metadata": {},
   "outputs": [],
   "source": [
    "print('Min Scenario')\n",
    "print('AGBC: ' + str(get_pgc(ds_agbc.agbc_min)))\n",
    "print('BGBC: ' + str(get_pgc(ds_bgbc.bgbc_min)))\n",
    "print('AGBC + BGBC: ' + str(get_pgc(ds_agbc.agbc_min + ds_bgbc.bgbc_min)))"
   ]
  },
  {
   "cell_type": "markdown",
   "id": "d7024f64-c2a9-4426-b523-7181d660e967",
   "metadata": {},
   "source": [
    "---"
   ]
  }
 ],
 "metadata": {
  "kernelspec": {
   "display_name": "Python 3.12 (deficit)",
   "language": "python",
   "name": "deficit_python312"
  },
  "language_info": {
   "codemirror_mode": {
    "name": "ipython",
    "version": 3
   },
   "file_extension": ".py",
   "mimetype": "text/x-python",
   "name": "python",
   "nbconvert_exporter": "python",
   "pygments_lexer": "ipython3",
   "version": "3.12.6"
  }
 },
 "nbformat": 4,
 "nbformat_minor": 5
}
