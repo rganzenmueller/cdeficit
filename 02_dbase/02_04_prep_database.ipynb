{
 "cells": [
  {
   "cell_type": "markdown",
   "id": "40ea98de-57c0-4319-be93-1a3949c806f2",
   "metadata": {},
   "source": [
    "# Create database for random forest models"
   ]
  },
  {
   "cell_type": "code",
   "execution_count": null,
   "id": "26a06372-89a0-4c7b-89ab-7299349815ca",
   "metadata": {},
   "outputs": [],
   "source": [
    "# Libraries\n",
    "import os, shutil\n",
    "import numpy as np\n",
    "import pandas as pd\n",
    "import xarray as xr\n",
    "import dask.dataframe as dd"
   ]
  },
  {
   "cell_type": "code",
   "execution_count": null,
   "id": "2a0b60bf-c550-4a1d-ad25-7ed2851babde",
   "metadata": {},
   "outputs": [],
   "source": [
    "# Directories\n",
    "dir01 = '../paper_deficit/output/01_prep/'\n",
    "dir02 = '../paper_deficit/output/02_dbase/'"
   ]
  },
  {
   "cell_type": "markdown",
   "id": "028a0fb0-874b-4047-8bb8-03f0f784bfb2",
   "metadata": {},
   "source": [
    "---"
   ]
  },
  {
   "cell_type": "code",
   "execution_count": null,
   "id": "5fd57463-5e92-434c-acce-8c5e2b1708a8",
   "metadata": {},
   "outputs": [],
   "source": [
    "# Libraries\n",
    "from dask_jobqueue import SLURMCluster\n",
    "from dask.distributed import Client\n",
    "import dask\n",
    "\n",
    "# Initialize dask\n",
    "cluster = SLURMCluster(\n",
    "    queue='compute',                      # SLURM queue to use\n",
    "    cores=24,                             # Number of CPU cores per job\n",
    "    memory='256 GB',                      # Memory per job\n",
    "    account='bm0891',                     # Account allocation\n",
    "    interface=\"ib0\",                      # Network interface for communication\n",
    "    walltime='00:30:00',                  # Maximum runtime per job\n",
    "    local_directory='../dask/',           # Directory for local storage\n",
    "    job_extra_directives=[                # Additional SLURM directives for logging\n",
    "        '-o ../dask/LOG_worker_%j.o',     # Output log\n",
    "        '-e ../dask/LOG_worker_%j.e'      # Error log\n",
    "    ]\n",
    ")\n",
    "\n",
    "# Scale dask cluster\n",
    "cluster.scale(jobs=19)\n",
    "\n",
    "# Configurate dashboard url\n",
    "dask.config.config.get('distributed').get('dashboard').update(\n",
    "    {'link': '{JUPYTERHUB_SERVICE_PREFIX}/proxy/{port}/status'}\n",
    ")\n",
    "\n",
    "# Create client\n",
    "client = Client(cluster)\n",
    "\n",
    "client"
   ]
  },
  {
   "cell_type": "code",
   "execution_count": null,
   "id": "513e9408-06eb-45ac-8279-6d876c4a4352",
   "metadata": {},
   "outputs": [],
   "source": [
    "# Remove output file if exists\n",
    "if os.path.exists(dir02 + 'df_dbase.parquet'):\n",
    "    shutil.rmtree(dir02 + 'df_dbase.parquet')"
   ]
  },
  {
   "cell_type": "code",
   "execution_count": null,
   "id": "c3a966e5-10dc-49ce-8ba8-b67445dc841b",
   "metadata": {},
   "outputs": [],
   "source": [
    "# Read data\n",
    "ds_prep_geom90m = xr.open_mfdataset(dir01 + 'ds_prep_geom90m_*.zarr', engine='zarr')\n",
    "ds_prep_soilgrids2017 = xr.open_mfdataset(dir01 + 'ds_prep_soilgrids2017_*.zarr', engine='zarr')\n",
    "ds_prep_soilgrids2020 = xr.open_mfdataset(dir01 + 'ds_prep_soilgrids2020_*.zarr', engine='zarr')\n",
    "ds_prep_worldclim =  xr.open_mfdataset(dir01 + 'ds_prep_worldclim_*.zarr', engine='zarr')\n",
    "ds_prep_agbc = xr.open_zarr(dir02 + 'ds_prep_agbc.zarr')\n",
    "ds_prep_bgbc = xr.open_zarr(dir02 + 'ds_prep_bgbc.zarr')\n",
    "ds_prep_soc = xr.open_zarr(dir02 + 'ds_prep_soc.zarr')\n",
    "ds_prep_pot_prim = xr.open_zarr(dir02 + 'ds_prep_pot_prim.zarr')\n",
    "ds_prep_pot_secd = xr.open_zarr(dir02 + 'ds_prep_pot_secd.zarr')"
   ]
  },
  {
   "cell_type": "code",
   "execution_count": null,
   "id": "75ce9bec-7b42-4e54-96c4-23d734978a0a",
   "metadata": {},
   "outputs": [],
   "source": [
    "ds_prep_geom90m"
   ]
  },
  {
   "cell_type": "code",
   "execution_count": null,
   "id": "7cf5bdf1-4d3b-4c4b-a557-d50707488f10",
   "metadata": {},
   "outputs": [],
   "source": [
    "ds_prep_soilgrids2017"
   ]
  },
  {
   "cell_type": "code",
   "execution_count": null,
   "id": "4ee15fb8-732b-4944-a9ff-25011d2ba61b",
   "metadata": {},
   "outputs": [],
   "source": [
    "ds_prep_soilgrids2020"
   ]
  },
  {
   "cell_type": "code",
   "execution_count": null,
   "id": "19094fbd-8ecd-41c4-b2c1-3a053988ac9d",
   "metadata": {},
   "outputs": [],
   "source": [
    "ds_prep_worldclim"
   ]
  },
  {
   "cell_type": "code",
   "execution_count": null,
   "id": "c0c67f81-a304-41e5-a533-5457461edb78",
   "metadata": {},
   "outputs": [],
   "source": [
    "ds_prep_agbc"
   ]
  },
  {
   "cell_type": "code",
   "execution_count": null,
   "id": "53807b64-6684-47ef-9470-b9bbe3eab75a",
   "metadata": {},
   "outputs": [],
   "source": [
    "ds_prep_bgbc"
   ]
  },
  {
   "cell_type": "code",
   "execution_count": null,
   "id": "a8a2f93c-23e5-40dc-8683-d5255f5be912",
   "metadata": {},
   "outputs": [],
   "source": [
    "ds_prep_soc"
   ]
  },
  {
   "cell_type": "code",
   "execution_count": null,
   "id": "2b3b677b-ec14-4869-988e-cd37d8a6bdfa",
   "metadata": {},
   "outputs": [],
   "source": [
    "ds_prep_pot_prim"
   ]
  },
  {
   "cell_type": "code",
   "execution_count": null,
   "id": "6f3f5e51-821b-49fb-a78e-7383d195ab0b",
   "metadata": {},
   "outputs": [],
   "source": [
    "ds_prep_pot_secd"
   ]
  },
  {
   "cell_type": "code",
   "execution_count": null,
   "id": "fa1fd5a3-f433-421c-9fbc-d03a3a2621b0",
   "metadata": {},
   "outputs": [],
   "source": [
    "# List with variables used in random forest models\n",
    "vars_exp = ['geom90m_convergence', 'geom90m_cti', 'geom90m_eastness',\n",
    "            'geom90m_northness', 'geom90m_slope', 'geom90m_spi',\n",
    "            'soilgrids2017_bdricm', 'soilgrids2017_bdrlog',\n",
    "            'soilgrids2017_bdticm', \n",
    "            'soilgrids2020_cec', 'soilgrids2020_cfvo', 'soilgrids2020_clay', \n",
    "            'soilgrids2020_phh2o', 'soilgrids2020_sand', 'soilgrids2020_silt',\n",
    "            'worldclim_bio1', 'worldclim_bio3', 'worldclim_bio4',\n",
    "            'worldclim_bio5', 'worldclim_bio6', 'worldclim_bio12', \n",
    "            'worldclim_bio13', 'worldclim_bio14', 'worldclim_bio15', \n",
    "            'worldclim_elev']\n",
    "\n",
    "# Create dataset with relevant variables\n",
    "ds_var = xr.merge([ds_prep_geom90m, ds_prep_soilgrids2017,\n",
    "         ds_prep_soilgrids2020, ds_prep_worldclim])[vars_exp] \\\n",
    "    .drop_vars(['band', 'spatial_ref'])\n",
    "\n",
    "# Merge with biomass, soil carbon and primary/seconary data\n",
    "ds_dbase = xr.merge([ds_prep_agbc, ds_prep_bgbc, ds_prep_soc, \n",
    "                  ds_prep_pot_prim, ds_prep_pot_secd,\n",
    "                  ds_var]) \\\n",
    "    .drop_vars(['band', 'spatial_ref'])  \\\n",
    "    .chunk(lat=5000, lon=5000)\n",
    "\n",
    "ds_dbase"
   ]
  },
  {
   "cell_type": "code",
   "execution_count": null,
   "id": "7c471b88-22d6-4c3a-8975-2cf8a1b3f0cf",
   "metadata": {},
   "outputs": [],
   "source": [
    "# Create dataframe\n",
    "df_dbase = ds_dbase.to_dask_dataframe(dim_order=['lat', 'lon'])\n",
    "\n",
    "# Drop non-land grid cells and repartition\n",
    "df_dbase = df_dbase \\\n",
    "    .dropna() \\\n",
    "    .persist()\n",
    "\n",
    "df_dbase"
   ]
  },
  {
   "cell_type": "code",
   "execution_count": null,
   "id": "ff1e7a79-bbc2-4a82-91b9-edf2da3bb527",
   "metadata": {},
   "outputs": [],
   "source": [
    "def get_train_cells(prim_secd, ncells=50):\n",
    "\n",
    "    \"\"\"Add column to dbase with training data for primary and secondary.\n",
    "    Training data is selected from potential primary/Secondary grid cells and \n",
    "    limited to ncells in each each 1*1 degree tile.\n",
    "    \"\"\"\n",
    "    \n",
    "    # Create dataframe only with potential training grid cells\n",
    "    df_sel = df_dbase[df_dbase['pot_' + prim_secd] == 1][['lat', 'lon']] \\\n",
    "        .compute()\n",
    "    \n",
    "    # Reset index from 0 to 1 (reset_index resets within partition)\n",
    "    df_sel = df_sel.assign(idx=1)\n",
    "    df_sel['idx'] = (df_sel.idx.cumsum() - 1)\n",
    "    df_sel = df_sel.set_index(df_sel.idx, drop=True)\n",
    "    \n",
    "    # Create dataframe with lat-lon identifier for each 1deg*1deg grid cell\n",
    "    df_sel_lat_lon = (np.floor(df_sel.lat).astype('int').astype('str') + '_' + \n",
    "                      np.floor(df_sel.lon).astype('int').astype('str')) \\\n",
    "        .to_frame('lat_lon')\n",
    "    \n",
    "    # Create dataframe with count of stable grid cells in 1degree*1degree tile\n",
    "    df_sel_lat_lon_count = df_sel_lat_lon \\\n",
    "        .groupby('lat_lon') \\\n",
    "        .lat_lon \\\n",
    "        .count() \\\n",
    "        .to_frame(name='ncells') \\\n",
    "        .sort_values(by='ncells') \\\n",
    "        .reset_index()\n",
    "    \n",
    "    # List with 1deg*1deg tile identifiers where count of stable grid cells <= ncells\n",
    "    list_sel_lat_lon_nlower = list(\n",
    "        df_sel_lat_lon_count[df_sel_lat_lon_count.ncells <= ncells].lat_lon)\n",
    "    \n",
    "    # List with 1degree*1degree tile identifiers where count of stable grid cells > ncells\n",
    "    list_sel_lat_lon_nlarger = list(\n",
    "        df_sel_lat_lon_count[df_sel_lat_lon_count.ncells > ncells].lat_lon)\n",
    "    \n",
    "    # List with indexes from 1deg*1deg tile identifiers where count of stable grid cells <= n\n",
    "    list_sel_lat_lon_nlower_index = df_sel_lat_lon[\n",
    "        df_sel_lat_lon.lat_lon.isin(list_sel_lat_lon_nlower)] \\\n",
    "        .index \\\n",
    "        .to_list()\n",
    "    \n",
    "    # List with randomly selected indexes from 1deg*1deg tile identifiers where count of stable grid cells > n\n",
    "    list_sel_lat_lon_nlarger_index = df_sel_lat_lon[\n",
    "        df_sel_lat_lon.lat_lon.isin(list_sel_lat_lon_nlarger)] \\\n",
    "        .groupby('lat_lon') \\\n",
    "        .lat_lon \\\n",
    "        .sample(ncells) \\\n",
    "        .index \\\n",
    "        .to_list()\n",
    "    \n",
    "    # Combine index lists to define training rows\n",
    "    list_index_train = [*list_sel_lat_lon_nlower_index,\n",
    "                        *list_sel_lat_lon_nlarger_index]\n",
    "    \n",
    "    # Select rows for training data\n",
    "    return df_sel[['lat', 'lon']] \\\n",
    "        .loc[list_index_train] \\\n",
    "        .assign(train_sel = 1) \\\n",
    "        .rename(columns = dict(train_sel = 'train_' + prim_secd))"
   ]
  },
  {
   "cell_type": "code",
   "execution_count": null,
   "id": "647b4c75-5dc7-4c3b-8d69-a52415f290f5",
   "metadata": {},
   "outputs": [],
   "source": [
    "# Create columns indicating primary and secondary training grid cells\n",
    "df_dbase = df_dbase.merge(get_train_cells('prim'), how='left', on=['lat', 'lon'])\n",
    "df_dbase = df_dbase.merge(get_train_cells('secd'), how='left', on=['lat', 'lon'])\n",
    "\n",
    "# Change data type of primary and secondary training grid cell columns\n",
    "for i in ['pot_prim', 'pot_secd', 'train_prim', 'train_secd']:\n",
    "    df_dbase[i] = df_dbase[i].fillna(0).astype('bool')\n",
    "\n",
    "# Sort columns\n",
    "df_dbase = df_dbase[['lat', 'lon', \n",
    "                     'pot_prim', 'pot_secd', 'train_prim', 'train_secd',\n",
    "                     'agbc_max', 'agbc_mean', 'agbc_min', \n",
    "                     'bgbc_max','bgbc_mean', 'bgbc_min', \n",
    "                     'soc_max', 'soc_mean', 'soc_min',  \n",
    "                     *vars_exp]]\n",
    "\n",
    "# Export\n",
    "df_dbase \\\n",
    "    .repartition(partition_size='200 MiB') \\\n",
    "    .to_parquet(dir02 + 'df_dbase.parquet')"
   ]
  },
  {
   "cell_type": "code",
   "execution_count": null,
   "id": "e69f28de-62b3-45fe-b0da-80e84b6a001c",
   "metadata": {},
   "outputs": [],
   "source": [
    "# Close dask cluster\n",
    "cluster.close()"
   ]
  },
  {
   "cell_type": "markdown",
   "id": "ec240d5a-1932-4b92-9c26-67184ab23803",
   "metadata": {},
   "source": [
    "---"
   ]
  },
  {
   "cell_type": "markdown",
   "id": "84fef87c-0e86-4d86-beff-4c8454c2ea4b",
   "metadata": {},
   "source": [
    "### Check"
   ]
  },
  {
   "cell_type": "code",
   "execution_count": null,
   "id": "e10d1656-be8b-438e-88a9-d6bafd25ffae",
   "metadata": {},
   "outputs": [],
   "source": [
    "df_dbase = dd.read_parquet(dir02 + 'df_dbase.parquet')\n",
    "df_dbase.head()"
   ]
  },
  {
   "cell_type": "code",
   "execution_count": null,
   "id": "30cd2aee-7e35-4ae8-a8fe-9d704cf70cac",
   "metadata": {},
   "outputs": [],
   "source": [
    "df_dbase[['pot_prim', 'pot_secd', 'train_prim', 'train_secd']].sum().compute()"
   ]
  },
  {
   "cell_type": "markdown",
   "id": "e227904b-31e0-4ab9-b3c8-4a4300b49909",
   "metadata": {},
   "source": [
    "---"
   ]
  },
  {
   "cell_type": "markdown",
   "id": "ea20c0c1-5d89-4a8a-9b3a-815f17423f48",
   "metadata": {},
   "source": [
    "### Check - Plots"
   ]
  },
  {
   "cell_type": "code",
   "execution_count": null,
   "id": "c9336c72-6f55-4a25-a285-637c0702c51a",
   "metadata": {},
   "outputs": [],
   "source": [
    "dir_nearth = '../data/naturalearth/'"
   ]
  },
  {
   "cell_type": "code",
   "execution_count": null,
   "id": "104ea8f1-8d30-4895-903e-a4e3072ecbce",
   "metadata": {},
   "outputs": [],
   "source": [
    "import geopandas as gpd\n",
    "from mpl_toolkits.axes_grid1 import make_axes_locatable\n",
    "import matplotlib.pyplot as plt"
   ]
  },
  {
   "cell_type": "code",
   "execution_count": null,
   "id": "5a5eb517-1d01-4b93-bb2e-f60c9298f026",
   "metadata": {},
   "outputs": [],
   "source": [
    "# read coastline data\n",
    "coastline110 = gpd.read_file(\n",
    "    dir_nearth + 'ne_110m_coastline/ne_110m_coastline.shp')"
   ]
  },
  {
   "cell_type": "code",
   "execution_count": null,
   "id": "b48320a9-c133-4601-983b-6c666fec51de",
   "metadata": {},
   "outputs": [],
   "source": [
    "def plot_hexbin(df):\n",
    "\n",
    "    fig, ax = plt.subplots(figsize=(20, 10), ncols=1, nrows=1)\n",
    "    \n",
    "    coastline110.plot(ax=ax, color='#000000', linewidth=0.5)\n",
    "    \n",
    "    im = ax.hexbin(x=df.lon, y=df.lat, C=df.iloc[:,2], \n",
    "                   gridsize=150, reduce_C_function=sum, linewidths=0.2,\n",
    "                   cmap='inferno', bins='log')\n",
    "    \n",
    "    cbar_ticks = [1, 5, 10, 25, 50]\n",
    "            \n",
    "    divider = make_axes_locatable(ax)\n",
    "    cax = divider.append_axes(\"right\", size=\"2%\", pad=0.2)\n",
    "    cbar = fig.colorbar(im, cax=cax, label='Grid cells for training')\n",
    "    cbar.set_ticks(cbar_ticks)\n",
    "    cbar.set_ticklabels(cbar_ticks)"
   ]
  },
  {
   "cell_type": "code",
   "execution_count": null,
   "id": "d5f6172f-ac97-4bd3-a008-0e822a7a9e50",
   "metadata": {},
   "outputs": [],
   "source": [
    "plot_hexbin(df_dbase[['lat', 'lon', 'train_prim']][df_dbase.train_prim == 1])"
   ]
  },
  {
   "cell_type": "code",
   "execution_count": null,
   "id": "0d992356-9bcf-45a5-8443-e1e0cd52528c",
   "metadata": {},
   "outputs": [],
   "source": [
    "plot_hexbin(df_dbase[['lat', 'lon', 'pot_prim']][df_dbase.pot_prim == 1])"
   ]
  },
  {
   "cell_type": "code",
   "execution_count": null,
   "id": "525125a5-239d-4857-bb28-c000765da623",
   "metadata": {},
   "outputs": [],
   "source": [
    "plot_hexbin(df_dbase[['lat', 'lon', 'pot_secd']][df_dbase.pot_secd == 1])"
   ]
  },
  {
   "cell_type": "code",
   "execution_count": null,
   "id": "25e2a5ca-2781-425a-b90e-829b9483aea7",
   "metadata": {},
   "outputs": [],
   "source": [
    "plot_hexbin(df_dbase[['lat', 'lon', 'train_secd']][df_dbase.train_secd == 1])"
   ]
  }
 ],
 "metadata": {
  "kernelspec": {
   "display_name": "Python 3.12 (deficit)",
   "language": "python",
   "name": "deficit_python312"
  },
  "language_info": {
   "codemirror_mode": {
    "name": "ipython",
    "version": 3
   },
   "file_extension": ".py",
   "mimetype": "text/x-python",
   "name": "python",
   "nbconvert_exporter": "python",
   "pygments_lexer": "ipython3",
   "version": "3.12.6"
  }
 },
 "nbformat": 4,
 "nbformat_minor": 5
}
