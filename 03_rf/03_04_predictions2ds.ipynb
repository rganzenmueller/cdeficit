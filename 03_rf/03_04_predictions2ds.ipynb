{
 "cells": [
  {
   "cell_type": "markdown",
   "id": "cd07e069-6290-45e7-9760-ee44fb4e0566",
   "metadata": {},
   "source": [
    "# Convert predictions to dataarray"
   ]
  },
  {
   "cell_type": "code",
   "execution_count": null,
   "id": "e88b0e5f-1c4d-492e-a344-5d1901633632",
   "metadata": {},
   "outputs": [],
   "source": [
    "# Libraries\n",
    "import os, shutil\n",
    "import dask.dataframe as dd\n",
    "import xarray as xr"
   ]
  },
  {
   "cell_type": "code",
   "execution_count": null,
   "id": "4e20ae4b-ceed-40e2-bdd2-b722961c72e2",
   "metadata": {},
   "outputs": [],
   "source": [
    "# Directories\n",
    "dir01 = '../paper_deficit/output/01_prep/'\n",
    "dir03 = '../paper_deficit/output/03_rf/'\n",
    "dir03p = os.path.join(dir03, 'files_predicted/')"
   ]
  },
  {
   "cell_type": "markdown",
   "id": "8f2c3948-ef63-406d-9b73-7bf772a19ee8",
   "metadata": {},
   "source": [
    "---"
   ]
  },
  {
   "cell_type": "code",
   "execution_count": null,
   "id": "3eb4a64d-ff93-43f2-a1b2-359133bc1da5",
   "metadata": {},
   "outputs": [],
   "source": [
    "# Dataset with orig lat and lon for reindexing\n",
    "ds_worldclim_elev = xr.open_zarr(dir01 + 'ds_prep_worldclim_elev.zarr')"
   ]
  },
  {
   "cell_type": "code",
   "execution_count": null,
   "id": "06e04141-e761-43fa-b675-269cfcee220e",
   "metadata": {},
   "outputs": [],
   "source": [
    "def df_rfpred2ds(var_tar, prim):\n",
    "\n",
    "    \"\"\"\n",
    "    Calculate soc mean, min and max values of predictions from 10 best \n",
    "    performing models and export as zarr file\n",
    "    \"\"\"\n",
    "        \n",
    "    # Get rf data\n",
    "    file_rfpred = os.path.join(dir03p, f\"df_rfpred_{var_tar}_{scen}.parquet\")\n",
    "    df_rfpred  = dd.read_parquet(file_rfpred)\n",
    "    # Get quantile rf data\n",
    "    file_rfqpred = os.path.join(dir03p, f\"df_rfqpred_{var_tar}_{scen}.parquet\")\n",
    "    df_rfqpred  = dd.read_parquet(file_rfqpred)\n",
    "    \n",
    "    # Calculate mean values for each grid cell from rf predicition\n",
    "    rfr_cols = ['rfr_' + str(i) for i in range(1, 11)]\n",
    "    df_rfpred = df_rfpred.assign(rfr_mean = df_rfpred[rfr_cols].mean(axis=1))\n",
    "    \n",
    "    # Transform to dataset and export as intermediate file\n",
    "    def df2ds(df, i):\n",
    "        \"\"\"Transform each variable of dataframe to variable of dataset,\n",
    "        ensure correct lat and lon (reindex_like) and export as intermediate file\n",
    "        \"\"\"\n",
    "        \n",
    "        # Name of output file\n",
    "        file_out = f\"ds_interm_{var_tar}_{scen}_{i}.zarr\"\n",
    "    \n",
    "        # Tranfsform and export\n",
    "        df[['lat', 'lon', i]] \\\n",
    "            .compute() \\\n",
    "            .set_index(['lat', 'lon']) \\\n",
    "            .to_xarray() \\\n",
    "            .chunk(dict(lat=5000, lon=5000)) \\\n",
    "            .sortby('lat', ascending=False) \\\n",
    "            .fillna(-32768) \\\n",
    "            .round(0) \\\n",
    "            .astype('int16') \\\n",
    "            .reindex_like(ds_worldclim_elev, method=None, fill_value=-32768) \\\n",
    "            .chunk(dict(lat=5000, lon=5000)) \\\n",
    "            .to_zarr(os.path.join(dir03p, file_out), mode='w')\n",
    "\n",
    "    # Transform Random Forest predictions\n",
    "    df2ds(df_rfpred, 'rfr_mean')\n",
    "    # Transform Quantile Random Forest predictions\n",
    "    for i in ['qrfr_005', 'qrfr_010', 'qrfr_090', 'qrfr_095']:\n",
    "        df2ds(df_rfqpred, i)\n",
    "\n",
    "    # Import datasets, merge and export as zarr\n",
    "    xr.open_mfdataset(\n",
    "        os.path.join(dir03p, f\"ds_interm_{var_tar}_{scen}_*.zarr\"),\n",
    "        engine='zarr') \\\n",
    "        .to_zarr(\n",
    "            os.path.join(dir03p, f\"ds_rfpred_{var_tar}_{scen}.zarr\"),\n",
    "            mode='w')\n",
    "    \n",
    "    # Delete intermediate datasets\n",
    "    for i in ['rfr_mean', 'qrfr_005', 'qrfr_010', 'qrfr_090', 'qrfr_095']:\n",
    "        shutil.rmtree(\n",
    "            os.path.join(dir03p, f\"ds_interm_{var_tar}_{scen}_{i}.zarr\"))"
   ]
  },
  {
   "cell_type": "code",
   "execution_count": null,
   "id": "3ce8b4b5-c213-4f17-90b4-757560d9d7df",
   "metadata": {},
   "outputs": [],
   "source": [
    "# Calculate agbc mean, min and max values of predictions from 10 best performing models\n",
    "# Export as zarr file\n",
    "for var_tar in ['agbc_min', 'agbc_mean', 'agbc_max']:\n",
    "    for scen in ['prim', 'secd']:\n",
    "        %time df_rfpred2ds(var_tar, scen)"
   ]
  },
  {
   "cell_type": "code",
   "execution_count": null,
   "id": "9f1472ab-2d4a-42a3-826a-178d19bf80c0",
   "metadata": {},
   "outputs": [],
   "source": [
    "# Calculate bgbc mean, min and max values of predictions from 10 best performing models\n",
    "# Export as zarr file\n",
    "for var_tar in ['bgbc_min', 'bgbc_mean', 'bgbc_max']:\n",
    "    for scen in ['prim', 'secd']:\n",
    "        %time df_rfpred2ds(var_tar, scen)"
   ]
  },
  {
   "cell_type": "code",
   "execution_count": null,
   "id": "105787bd-4311-47f4-b1fb-74b59a66ce54",
   "metadata": {},
   "outputs": [],
   "source": [
    "# Calculate soc mean, min and max values of predictions from 10 best performing models\n",
    "# Export as zarr file\n",
    "for var_tar in ['soc_min', 'soc_mean', 'soc_max']:\n",
    "    for scen in ['prim', 'secd']:\n",
    "        %time df_rfpred2ds(var_tar, scen)"
   ]
  },
  {
   "cell_type": "markdown",
   "id": "946d4fd0-cd63-4a6e-b2f0-2b2f7e1ce12a",
   "metadata": {},
   "source": [
    "---"
   ]
  },
  {
   "cell_type": "markdown",
   "id": "3b6c6bd5-2c85-43ee-b58c-209c22b28e8b",
   "metadata": {},
   "source": [
    "### Check"
   ]
  },
  {
   "cell_type": "code",
   "execution_count": null,
   "id": "3ed5113e-02f8-442f-855e-2a5c58f7645e",
   "metadata": {},
   "outputs": [],
   "source": [
    "def plot_check(var_tar, scen):\n",
    "    ds_a = xr.open_zarr(os.path.join(dir03p, f\"ds_rfpred_{var_tar}_{scen}.zarr\"))\n",
    "    ds_a.where(ds_a != -32768).rfr_mean.plot.imshow(robust=True)"
   ]
  },
  {
   "cell_type": "code",
   "execution_count": null,
   "id": "4d0a8dc5-0942-42e6-85b7-ec73bb0bace4",
   "metadata": {},
   "outputs": [],
   "source": [
    "plot_check('agbc_max', 'prim')"
   ]
  },
  {
   "cell_type": "code",
   "execution_count": null,
   "id": "7468c29d-1305-405f-ab6a-7d58f266fb72",
   "metadata": {},
   "outputs": [],
   "source": [
    "plot_check('agbc_max', 'secd')"
   ]
  },
  {
   "cell_type": "code",
   "execution_count": null,
   "id": "f01ab845-6268-41d8-9cdd-18048be6e7bc",
   "metadata": {},
   "outputs": [],
   "source": [
    "plot_check('bgbc_max', 'prim')"
   ]
  },
  {
   "cell_type": "code",
   "execution_count": null,
   "id": "ea2c39fe-35c0-4d18-bf3c-4b84ee4de1af",
   "metadata": {},
   "outputs": [],
   "source": [
    "plot_check('bgbc_max', 'secd')"
   ]
  },
  {
   "cell_type": "code",
   "execution_count": null,
   "id": "b39c3ffb-9b84-43d1-9267-9695037d1f09",
   "metadata": {},
   "outputs": [],
   "source": [
    "plot_check('soc_mean', 'prim')"
   ]
  },
  {
   "cell_type": "code",
   "execution_count": null,
   "id": "0394deb7-8079-4a72-82cc-e9a5c834eea4",
   "metadata": {},
   "outputs": [],
   "source": [
    "plot_check('soc_mean', 'secd')"
   ]
  }
 ],
 "metadata": {
  "kernelspec": {
   "display_name": "Python 3.12 (deficit)",
   "language": "python",
   "name": "deficit_python312"
  },
  "language_info": {
   "codemirror_mode": {
    "name": "ipython",
    "version": 3
   },
   "file_extension": ".py",
   "mimetype": "text/x-python",
   "name": "python",
   "nbconvert_exporter": "python",
   "pygments_lexer": "ipython3",
   "version": "3.12.6"
  }
 },
 "nbformat": 4,
 "nbformat_minor": 5
}
