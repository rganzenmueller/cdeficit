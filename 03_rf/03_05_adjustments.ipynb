{
 "cells": [
  {
   "cell_type": "markdown",
   "id": "b22da1ad-b746-4394-a748-c6d4904b2493",
   "metadata": {},
   "source": [
    "# Adjust random forest predictions to resolve internal inconsistencies"
   ]
  },
  {
   "cell_type": "code",
   "execution_count": null,
   "id": "4422ca32-78ee-4a17-85c3-a774ae71d3dc",
   "metadata": {},
   "outputs": [],
   "source": [
    "# Libraries\n",
    "import os, shutil\n",
    "import xarray as xr"
   ]
  },
  {
   "cell_type": "code",
   "execution_count": null,
   "id": "ac30e21d-bc9e-4ea0-861b-bd9478c4ef7b",
   "metadata": {},
   "outputs": [],
   "source": [
    "# Directories\n",
    "dir01 = '../paper_deficit/output/01_prep/'\n",
    "dir02 = '../paper_deficit/output/02_dbase/'\n",
    "dir03 = '../paper_deficit/output/03_rf/'\n",
    "dir03a = '../paper_deficit/output/03_rf/files_adjusted/'"
   ]
  },
  {
   "cell_type": "markdown",
   "id": "2ce8546f-ed3a-405b-91db-8f9239135183",
   "metadata": {},
   "source": [
    "---"
   ]
  },
  {
   "cell_type": "code",
   "execution_count": null,
   "id": "edd15b0d-80c4-4b3d-ae61-bebb29427e53",
   "metadata": {},
   "outputs": [],
   "source": [
    "def rf_adjust_step1(var_tar, scen):\n",
    "    \n",
    "    \"\"\" Adjust that (1) primary is larger than orig and \n",
    "    (2) secdondary larger than original where not primary \"\"\"\n",
    "    \n",
    "    # Get Carbon type\n",
    "    ctype = var_tar.split('_')[0]\n",
    "    \n",
    "    # Get dataset with original carbon values\n",
    "    ds_orig = xr.open_zarr(os.path.join(dir02, f\"ds_prep_{ctype}.zarr\"))\n",
    "    da_orig = ds_orig[var_tar].fillna(-32768).round(0).astype('int16')\n",
    "    \n",
    "    # Get predicted carbon values\n",
    "    ds_rf = xr.open_zarr(\n",
    "        os.path.join(dir03, f\"files_predicted/ds_rfpred_{var_tar}_{scen}.zarr\"))\n",
    "    da_rf = ds_rf['rfr_mean']\n",
    "    \n",
    "    # Adjust that primary is larger than original\n",
    "    if scen == 'prim':\n",
    "        da_rfa = xr.where(da_rf < da_orig, da_orig, da_rf) \\\n",
    "            .rename('rfa_mean')\n",
    "    # Adjust that secondary is larger than original where not primary\n",
    "    if scen == 'secd':\n",
    "        # Get primary land data\n",
    "        ds_riggio_vlhi0 = xr.open_zarr(\n",
    "            os.path.join(dir01, \"ds_prep_riggio_vlhi0.zarr\"))\n",
    "        da_prim = ds_riggio_vlhi0.riggio_vlhi0\n",
    "        # Adjust\n",
    "        da_rfa = xr.where((da_rf < da_orig) & (da_prim != True), \n",
    "                          da_orig, da_rf) \\\n",
    "            .rename('rfa_mean')\n",
    "    \n",
    "    # Export as zarr file\n",
    "    da_rfa.to_zarr(os.path.join(dir03a, f\"ds_rfpred_{var_tar}_{scen}_rfa.zarr\"),\n",
    "                   mode='w')"
   ]
  },
  {
   "cell_type": "code",
   "execution_count": null,
   "id": "32a94338-4e3f-4902-bc46-072e387995d3",
   "metadata": {},
   "outputs": [],
   "source": [
    "def rf_adjust_step2(var_tar, scen):\n",
    "    \n",
    "    \"\"\" Adjust that secondary is always smaller than primary\"\"\"\n",
    "    \n",
    "    # Get data\n",
    "    ds_rf_prim = xr.open_zarr(\n",
    "        os.path.join(dir03a, f\"ds_rfpred_{var_tar}_prim_rfa.zarr\"))\n",
    "    ds_rf_secd = xr.open_zarr(\n",
    "        os.path.join(dir03a, f\"ds_rfpred_{var_tar}_secd_rfa.zarr\"))\n",
    "    \n",
    "    # If primary: No change\n",
    "    if scen == 'prim':\n",
    "        da_out = ds_rf_prim.rfa_mean\n",
    "    \n",
    "    # If secondary: Adjust values, \n",
    "    if scen == 'secd':\n",
    "        # Adjust that secondary is always smaller than primary\n",
    "        da_out = xr.where(ds_rf_secd.rfa_mean > ds_rf_prim.rfa_mean, \n",
    "                          ds_rf_prim.rfa_mean, ds_rf_secd.rfa_mean)\n",
    "\n",
    "    # Rename and export as zarr file\n",
    "    da_out \\\n",
    "        .rename('rfaa_mean') \\\n",
    "        .to_zarr(os.path.join(dir03a, f\"ds_rfpred_{var_tar}_{scen}_rfaa.zarr\"),\n",
    "                 mode='w')"
   ]
  },
  {
   "cell_type": "code",
   "execution_count": null,
   "id": "07e34af7-339d-4a0d-95eb-dac903f9d9ae",
   "metadata": {},
   "outputs": [],
   "source": [
    "def rf_adjust_step3(var_tar, scen):\n",
    "    \n",
    "    \"\"\"Adjust that min is lower or equal than mean and\n",
    "    mean is lower or equal than max\"\"\"    \n",
    "\n",
    "    # Get carbon type\n",
    "    ctype = var_tar.split('_')[0]\n",
    "\n",
    "    # Get data of min, mean and max data\n",
    "    ds_rf_min = xr.open_zarr(\n",
    "            os.path.join(dir03a, f\"ds_rfpred_{ctype}_min_{scen}_rfaa.zarr\"))\n",
    "    ds_rf_mean = xr.open_zarr(\n",
    "            os.path.join(dir03a, f\"ds_rfpred_{ctype}_mean_{scen}_rfaa.zarr\"))\n",
    "    ds_rf_max = xr.open_zarr(\n",
    "            os.path.join(dir03a, f\"ds_rfpred_{ctype}_max_{scen}_rfaa.zarr\"))\n",
    "\n",
    "    # Adjust that min =< mean =< max\n",
    "    if var_tar.split('_')[1] == 'min':\n",
    "        da_out = ds_rf_min.rfaa_mean\n",
    "    \n",
    "    if var_tar.split('_')[1] == 'mean':\n",
    "        da_out = xr.concat([ds_rf_min.rfaa_mean, ds_rf_mean.rfaa_mean], \n",
    "                           dim='a') \\\n",
    "            .max('a')\n",
    "    \n",
    "    if var_tar.split('_')[1] == 'max':\n",
    "        da_out = xr.concat([ds_rf_min.rfaa_mean, ds_rf_mean.rfaa_mean, \n",
    "                            ds_rf_max.rfaa_mean], dim='a') \\\n",
    "            .max('a')\n",
    "\n",
    "    # Rename and export as zarr\n",
    "    da_out \\\n",
    "        .rename('rfaaa_mean') \\\n",
    "        .to_zarr(os.path.join(dir03a, f\"ds_rfpred_{var_tar}_{scen}_rfaaa.zarr\"),\n",
    "                 mode='w')"
   ]
  },
  {
   "cell_type": "code",
   "execution_count": null,
   "id": "9b2388b1-fa70-4258-a9ef-0f10de09f02b",
   "metadata": {},
   "outputs": [],
   "source": [
    "%%time\n",
    "# Adjust AGBC\n",
    "# Step 1\n",
    "for var_tar in ['agbc_min', 'agbc_mean', 'agbc_max']:\n",
    "    for scen in ['prim', 'secd']:\n",
    "        rf_adjust_step1(var_tar, scen)\n",
    "\n",
    "# Step 2\n",
    "for var_tar in ['agbc_min', 'agbc_mean', 'agbc_max']:\n",
    "    for scen in ['prim', 'secd']:\n",
    "        rf_adjust_step2(var_tar, scen)\n",
    "\n",
    "# Step 3\n",
    "for var_tar in ['agbc_min', 'agbc_mean', 'agbc_max']:\n",
    "    for scen in ['prim', 'secd']:\n",
    "        rf_adjust_step3(var_tar, scen)"
   ]
  },
  {
   "cell_type": "code",
   "execution_count": null,
   "id": "29a7bc42-466a-466e-8097-c5a49c8afe70",
   "metadata": {},
   "outputs": [],
   "source": [
    "%%time\n",
    "# Adjust BGBC\n",
    "# Step 1\n",
    "for var_tar in ['bgbc_min', 'bgbc_mean', 'bgbc_max']:\n",
    "    for scen in ['prim', 'secd']:\n",
    "        rf_adjust_step1(var_tar, scen)\n",
    "\n",
    "# Step 2\n",
    "for var_tar in ['bgbc_min', 'bgbc_mean', 'bgbc_max']:\n",
    "    for scen in ['prim', 'secd']:\n",
    "        rf_adjust_step2(var_tar, scen)\n",
    "\n",
    "# Step 3\n",
    "for var_tar in ['bgbc_min', 'bgbc_mean', 'bgbc_max']:\n",
    "    for scen in ['prim', 'secd']:\n",
    "        rf_adjust_step3(var_tar, scen)"
   ]
  },
  {
   "cell_type": "code",
   "execution_count": null,
   "id": "d75c48c4-e770-4510-b712-6a8377adcc70",
   "metadata": {},
   "outputs": [],
   "source": [
    "%%time\n",
    "# Adjust SOC\n",
    "# Step 1\n",
    "for var_tar in ['soc_min', 'soc_mean', 'soc_max']:\n",
    "    for scen in ['prim', 'secd']:\n",
    "        rf_adjust_step1(var_tar, scen)\n",
    "\n",
    "# Step 2\n",
    "for var_tar in ['soc_min', 'soc_mean', 'soc_max']:\n",
    "    for scen in ['prim', 'secd']:\n",
    "        rf_adjust_step2(var_tar, scen)\n",
    "\n",
    "# Step 3\n",
    "for var_tar in ['soc_min', 'soc_mean', 'soc_max']:\n",
    "    for scen in ['prim', 'secd']:\n",
    "        rf_adjust_step3(var_tar, scen)"
   ]
  },
  {
   "cell_type": "markdown",
   "id": "94f233f8-328c-47a3-937c-abb435296385",
   "metadata": {},
   "source": [
    "---"
   ]
  },
  {
   "cell_type": "markdown",
   "id": "6e941fe4-e02d-46e1-9709-9f921ec455ee",
   "metadata": {},
   "source": [
    "### Check"
   ]
  },
  {
   "cell_type": "code",
   "execution_count": null,
   "id": "cb72f0f9-2624-4dcc-a661-748e88980543",
   "metadata": {},
   "outputs": [],
   "source": [
    "import pandas as pd"
   ]
  },
  {
   "cell_type": "code",
   "execution_count": null,
   "id": "2eb8bf07-36a7-4c52-a35c-ee4c51f00546",
   "metadata": {},
   "outputs": [],
   "source": [
    "dir03p = '../paper_deficit/output/03_rf/files_predicted/'"
   ]
  },
  {
   "cell_type": "code",
   "execution_count": null,
   "id": "fb4673d8-8620-4225-814e-3fbbcab0ee8b",
   "metadata": {},
   "outputs": [],
   "source": [
    "ds_area = xr.open_zarr('../paper_deficit/output/01_prep/ds_prep_area_ha.zarr')\n",
    "da_area = ds_area.area_ha"
   ]
  },
  {
   "cell_type": "code",
   "execution_count": null,
   "id": "54fe0b86-c4e1-41b2-a38b-aa31104b6464",
   "metadata": {},
   "outputs": [],
   "source": [
    "def get_carbon(var_tar, scen):\n",
    "\n",
    "    ctype = var_tar.split('_')[0]\n",
    "    ds_orig = xr.open_zarr(os.path.join(dir02, f\"ds_prep_{ctype}.zarr\"))\n",
    "    da_orig = ds_orig[var_tar]\n",
    "    \n",
    "    ds_rf = xr.open_zarr(dir03p + f\"ds_rfpred_{var_tar}_{scen}.zarr\")\n",
    "    da_rf = ds_rf.where(ds_rf != -32768).rfr_mean\n",
    "    \n",
    "    ds_rfa = xr.open_zarr(dir03a + f\"ds_rfpred_{var_tar}_{scen}_rfa.zarr\")\n",
    "    da_rfa = ds_rfa.where(ds_rfa != -32768).rfa_mean\n",
    "    \n",
    "    ds_rfaa = xr.open_zarr(dir03a + f\"ds_rfpred_{var_tar}_{scen}_rfaa.zarr\")\n",
    "    da_rfaa = ds_rfaa.where(ds_rfaa != -32768).rfaa_mean\n",
    "    \n",
    "    ds_rfaaa = xr.open_zarr(dir03a + f\"ds_rfpred_{var_tar}_{scen}_rfaaa.zarr\")\n",
    "    da_rfaaa = ds_rfaaa.where(ds_rfaaa != -32768).rfaaa_mean\n",
    "\n",
    "    \n",
    "    v_orig = (da_orig * da_area).sum(['lat', 'lon'])\n",
    "    v_rfr = (da_rf * da_area).sum(['lat', 'lon'])\n",
    "    v_rfa = (da_rfa * da_area).sum(['lat', 'lon'])\n",
    "    v_rfaa = (da_rfaa * da_area).sum(['lat', 'lon'])\n",
    "    v_rfaaa = (da_rfaaa * da_area).sum(['lat', 'lon'])\n",
    "\n",
    "    v_list = [int(round((i.compute() * 1E-09).item(),0)) for i in \n",
    "              [v_orig, v_rfr, v_rfa, v_rfaa, v_rfaaa]]\n",
    "    return [var_tar, scen, *v_list]\n",
    "\n",
    "\n",
    "def get_carbon_sum_df(ctype):\n",
    "    columns=[\"var_tar\", \"scen\", \"v_orig\", \"v_rfr\", \"v_rfa\", \"v_rfaa\", \"v_rfaaa\"]\n",
    "    df_carbon_sum = pd.DataFrame(columns=columns)\n",
    "    \n",
    "    for var_tar in [ctype + i for i in ['_min', '_mean', '_max']]:\n",
    "        for scen in ['prim', 'secd']:\n",
    "            df_carbon_sum.loc[len(df_carbon_sum)] = get_carbon(var_tar, scen)\n",
    "\n",
    "    df_carbon_sum = df_carbon_sum.assign(\n",
    "        v_deficit_pgc = df_carbon_sum.v_rfaaa - df_carbon_sum.v_orig,\n",
    "        v_deficit_percent = \\\n",
    "            round(((1 - df_carbon_sum.v_orig / df_carbon_sum.v_rfaaa) * 100), 1),\n",
    "        v_imp_a_percent = \\\n",
    "            round((1 - (df_carbon_sum.v_rfr / df_carbon_sum.v_rfaaa)) * 100, 1)\n",
    "    )\n",
    "    \n",
    "    return df_carbon_sum"
   ]
  },
  {
   "cell_type": "code",
   "execution_count": null,
   "id": "78426dcc-8441-4cdb-afe2-07d969cff669",
   "metadata": {},
   "outputs": [],
   "source": [
    "df_agbc = get_carbon_sum_df('agbc')\n",
    "df_agbc"
   ]
  },
  {
   "cell_type": "code",
   "execution_count": null,
   "id": "3d33e6fe-e59d-487a-97d6-38f31c30c821",
   "metadata": {},
   "outputs": [],
   "source": [
    "df_bgbc = get_carbon_sum_df('bgbc')\n",
    "df_bgbc"
   ]
  },
  {
   "cell_type": "code",
   "execution_count": null,
   "id": "10448294-c4ac-48f8-b81e-807b6805a80e",
   "metadata": {},
   "outputs": [],
   "source": [
    "df_soc = get_carbon_sum_df('soc')\n",
    "df_soc"
   ]
  },
  {
   "cell_type": "code",
   "execution_count": null,
   "id": "de269fd2-8761-4739-a58f-076c8408bdea",
   "metadata": {},
   "outputs": [],
   "source": [
    "def get_value(var_tar, scen, value):\n",
    "    if 'agbc' in var_tar:\n",
    "        df = df_agbc\n",
    "    if 'bgbc' in var_tar:\n",
    "        df = df_bgbc\n",
    "    if 'soc' in var_tar:\n",
    "        df = df_soc\n",
    "\n",
    "    return df[(df.var_tar == var_tar) & (df.scen == scen)][value].item()"
   ]
  },
  {
   "cell_type": "code",
   "execution_count": null,
   "id": "55de6e0a-9ab5-4dd3-b9c0-07b3f0f61b95",
   "metadata": {},
   "outputs": [],
   "source": [
    "value = 'v_orig'\n",
    "for scen in ['secd', 'prim']:\n",
    "    print('Actual AGBC + BGBC + SOC')\n",
    "    print(get_value('agbc_max', scen, value) + \n",
    "          get_value('bgbc_max', scen, value) + \n",
    "          get_value('soc_mean', scen, value))"
   ]
  },
  {
   "cell_type": "code",
   "execution_count": null,
   "id": "cbe0d491-57f2-4612-9cf3-10add2933166",
   "metadata": {},
   "outputs": [],
   "source": [
    "value = 'v_rfaaa'\n",
    "for scen in ['secd', 'prim']:\n",
    "    print('Potential AGBC + BGBC + SOC')\n",
    "    print(get_value('agbc_max', scen, value) + \n",
    "          get_value('bgbc_max', scen, value) + \n",
    "          get_value('soc_mean', scen, value))"
   ]
  },
  {
   "cell_type": "code",
   "execution_count": null,
   "id": "4aeb800f-a352-4f48-9de6-d3cdf6b24406",
   "metadata": {},
   "outputs": [],
   "source": [
    "value = 'v_deficit_pgc'\n",
    "for scen in ['secd', 'prim']:\n",
    "    print('Deficit AGBC + BGBC + SOC')\n",
    "    print(get_value('agbc_max', scen, value) + \n",
    "          get_value('bgbc_max', scen, value) + \n",
    "          get_value('soc_mean', scen, value))"
   ]
  },
  {
   "cell_type": "code",
   "execution_count": null,
   "id": "1c4dacd9-4de4-448a-bda7-30c00365b722",
   "metadata": {},
   "outputs": [],
   "source": [
    "value = 'v_orig'\n",
    "for scen in ['secd', 'prim']:\n",
    "    print('Actual AGBC + BGBC')\n",
    "    print(get_value('agbc_max', scen, value) + \n",
    "          get_value('bgbc_max', scen, value))"
   ]
  },
  {
   "cell_type": "code",
   "execution_count": null,
   "id": "1a095b79-9855-4fda-86ca-b6d13096f6dd",
   "metadata": {},
   "outputs": [],
   "source": [
    "value = 'v_rfaaa'\n",
    "for scen in ['secd', 'prim']:\n",
    "    print('Potential AGBC + BGBC')\n",
    "    print(get_value('agbc_max', scen, value) + \n",
    "          get_value('bgbc_max', scen, value))"
   ]
  },
  {
   "cell_type": "code",
   "execution_count": null,
   "id": "a471db63-cd86-42bd-af67-b8f06bde7954",
   "metadata": {},
   "outputs": [],
   "source": [
    "value = 'v_deficit_pgc'\n",
    "for scen in ['secd', 'prim']:\n",
    "    print('Deficit AGBC + BGBC')\n",
    "    print(get_value('agbc_max', scen, value) + \n",
    "          get_value('bgbc_max', scen, value))"
   ]
  }
 ],
 "metadata": {
  "kernelspec": {
   "display_name": "Python 3.12 (deficit)",
   "language": "python",
   "name": "deficit_python312"
  },
  "language_info": {
   "codemirror_mode": {
    "name": "ipython",
    "version": 3
   },
   "file_extension": ".py",
   "mimetype": "text/x-python",
   "name": "python",
   "nbconvert_exporter": "python",
   "pygments_lexer": "ipython3",
   "version": "3.12.6"
  }
 },
 "nbformat": 4,
 "nbformat_minor": 5
}
