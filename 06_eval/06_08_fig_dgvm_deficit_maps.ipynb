{
 "cells": [
  {
   "cell_type": "markdown",
   "id": "bb55655b-20ec-4bc6-91aa-a010fea27868",
   "metadata": {},
   "source": [
    "# Figure DGVM carbon deficit maps"
   ]
  },
  {
   "cell_type": "code",
   "execution_count": null,
   "id": "23d55a34-bd3a-4c3b-a68e-6e0fa7e7764a",
   "metadata": {},
   "outputs": [],
   "source": [
    "# Libraries\n",
    "import os\n",
    "import numpy as np\n",
    "import xarray as xr\n",
    "import rioxarray\n",
    "import matplotlib.pyplot as plt\n",
    "import geopandas as gpd\n",
    "import cartopy.crs as ccrs"
   ]
  },
  {
   "cell_type": "code",
   "execution_count": null,
   "id": "3aa84e3d-cc15-4140-a10c-048cab5b7f3e",
   "metadata": {},
   "outputs": [],
   "source": [
    "# Directories\n",
    "dir05x = '../paper_deficit/output/05_prep_other/fig_dgvm/'\n",
    "dir06 = '../paper_deficit/output/06_eval/'\n",
    "dir_nearth = '../data/naturalearth/'"
   ]
  },
  {
   "cell_type": "markdown",
   "id": "94de3890-00bf-4d71-a56a-1b794e85d8fe",
   "metadata": {},
   "source": [
    "---"
   ]
  },
  {
   "cell_type": "code",
   "execution_count": null,
   "id": "257672e7-d18a-4149-b5a1-0d188fd1234f",
   "metadata": {},
   "outputs": [],
   "source": [
    "# Get coastline data\n",
    "coastline110 = gpd.read_file(\n",
    "    os.path.join(dir_nearth, 'ne_110m_coastline/ne_110m_coastline.shp'))\n",
    "\n",
    "# Get data on primary land in 1700\n",
    "ds_prim = xr.open_dataset(os.path.join(dir05x, 'luh2', 'ds_luh2_prim_1700.nc'),\n",
    "                          chunks=dict(lat=5000, lon=5000))"
   ]
  },
  {
   "cell_type": "code",
   "execution_count": null,
   "id": "7edd905e-61a7-4a76-86fa-c1d309b60722",
   "metadata": {},
   "outputs": [],
   "source": [
    "# Get and prepare dgvm data\n",
    "\n",
    "def prep_dgvm(m):\n",
    "    # Get dgvm data\n",
    "    ds = xr.open_dataset(os.path.join(dir05x, m, f'ds_{m}.nc'),\n",
    "                         chunks=dict(lat=5000, lon=5000))\n",
    "    # Get primary land data at resolution of dgvm\n",
    "    ds_prim_x = xr.open_dataset(os.path.join(dir05x, m, f'ds_{m}_prim.nc'),\n",
    "                         chunks=dict(lat=5000, lon=5000))\n",
    "    # Create dataset with deficit variables\n",
    "    ds_out = xr.Dataset()\n",
    "    ds_out['def_cveg'] = (ds[m + '_s2_cveg'] - ds[m + '_s3_cveg'])\n",
    "    ds_out['def_csoil'] = (ds[m + '_s2_csoil'] - ds[m + '_s3_csoil'])\n",
    "    # Multiply dgvm deficits with primary land in 1700 array\n",
    "    ds_out = ds_out * ds_prim_x.prim_1700\n",
    "    # Set crs\n",
    "    ds_out.rio.write_crs(\"epsg:4326\", inplace=True)\n",
    "    # Add attributes\n",
    "    ds_out.attrs['model'] = m.upper()\n",
    "    # Adjust x axis if necessary\n",
    "    if m in ['clm', 'isam', 'jules']:\n",
    "        ds_out['lon'] = (ds_out['lon'] + 180) % 360 - 180\n",
    "        ds_out = ds_out.sortby(ds_out.lon)\n",
    "    \n",
    "    return ds_out\n",
    "\n",
    "\n",
    "ds_cablepop = prep_dgvm('cablepop').persist()\n",
    "ds_classic = prep_dgvm('classic').persist()\n",
    "ds_clm = prep_dgvm('clm').persist()\n",
    "ds_dlem = prep_dgvm('dlem').persist()\n",
    "ds_ibis = prep_dgvm('ibis').persist()\n",
    "ds_isam = prep_dgvm('isam').persist()\n",
    "ds_jsbach = prep_dgvm('jsbach').persist()\n",
    "ds_jules = prep_dgvm('jules').persist()\n",
    "ds_lpjguess = prep_dgvm('lpjguess').persist()\n",
    "ds_lpjwsl = prep_dgvm('lpjwsl').persist()\n",
    "ds_orchidee = prep_dgvm('orchidee').persist()\n",
    "\n",
    "# Adjust attributes if ncessary\n",
    "ds_cablepop.attrs['model'] = 'CABLE-POP'\n",
    "ds_lpjguess.attrs['model'] = 'LPJ-GUESS'\n",
    "ds_lpjwsl.attrs['model'] = 'LPJ-WSL'"
   ]
  },
  {
   "cell_type": "code",
   "execution_count": null,
   "id": "31349dfa-2e7e-43ff-b686-636e449a85b9",
   "metadata": {},
   "outputs": [],
   "source": [
    "# Prepare data from random forest\n",
    "def prep_pot():\n",
    "    # Get predicted data\n",
    "    ds = xr.open_zarr(os.path.join(dir05x, 'pot', 'ds_pot.zarr'),\n",
    "                      chunks=dict(lat=5000, lon=5000))\n",
    "    # Get primary land data\n",
    "    ds_prim_x = xr.open_zarr(os.path.join(dir05x, 'pot', 'ds_pot_prim.zarr'),\n",
    "                             chunks=dict(lat=5000, lon=5000))\n",
    "    # Create dataset with deficit variables\n",
    "    ds_out = xr.Dataset()\n",
    "    ds_out['def_cveg'] = ds.pot_s2_cveg - ds.pot_s3_cveg\n",
    "    ds_out['def_csoil'] = ds.pot_s2_csoil - ds.pot_s3_csoil\n",
    "\n",
    "    # Multiply dgvm deficits with primary land in 1700 array\n",
    "    ds_out = ds_out * ds_prim_x.prim_1700\n",
    "    # Set crs\n",
    "    ds_out.rio.write_crs(\"epsg:4326\", inplace=True)\n",
    "    # Add attributes\n",
    "    ds_out.attrs['model'] = 'This study'\n",
    "    \n",
    "    return ds_out\n",
    "\n",
    "\n",
    "ds_pot = prep_pot().persist()"
   ]
  },
  {
   "cell_type": "code",
   "execution_count": null,
   "id": "7780537d-b06e-4df4-82d9-a7fb517a023a",
   "metadata": {},
   "outputs": [],
   "source": [
    "# Get dgvm data at luh2 resolution to calculate ensemble average\n",
    "def get_dgvm_mean():\n",
    "    # Create dataset with deficit variables\n",
    "    ds2 = xr.Dataset()\n",
    "    for m in ['cablepop', 'classic', 'clm', 'dlem', 'ibis', 'isam', 'jsbach', \n",
    "                 'jules', 'lpjguess', 'lpjwsl', 'orchidee']:\n",
    "        ds = xr.open_dataset(os.path.join(dir05x, m, f'ds_{m}_luh2res.nc'))\n",
    "        ds2[f'{m}_def_cveg'] = (ds[f'{m}_s2_cveg'] - ds[f'{m}_s3_cveg'])\n",
    "        ds2[f'{m}_def_csoil'] = (ds[f'{m}_s2_csoil'] - ds[f'{m}_s3_csoil'])\n",
    "    \n",
    "    # Get luh2 primary land 1700 data\n",
    "    ds_prim = xr.open_dataset(os.path.join(dir05x, 'luh2', f'ds_luh2_prim_1700.nc'))\n",
    "    \n",
    "    # Create dataset with mean deficit of dgvms and multiply with primary land in 1700 array\n",
    "    ds_mean = xr.Dataset()\n",
    "    for ctype in ['cveg', 'csoil']:\n",
    "        ds_mean['def_' + ctype] = ds2[[i for i in ds2.data_vars if i.endswith(ctype)]] \\\n",
    "            .to_array().mean('variable') * ds_prim.prim_1700\n",
    "    \n",
    "    # Add attributes\n",
    "    ds_mean.attrs['model'] = 'DGVM mean'\n",
    "\n",
    "    return ds_mean\n",
    "    \n",
    "\n",
    "ds_mean = get_dgvm_mean().persist()"
   ]
  },
  {
   "cell_type": "code",
   "execution_count": null,
   "id": "6c3050b6-fb04-45fe-885d-8d56c2256f27",
   "metadata": {},
   "outputs": [],
   "source": [
    "# List of datasets of dgvms, ds_mean, and ds_pot\n",
    "list_ds = [ds_mean,ds_cablepop, ds_classic, ds_clm, ds_dlem, ds_ibis, ds_isam, \n",
    "           ds_jsbach, ds_jules, ds_lpjguess, ds_lpjwsl, ds_orchidee, ds_pot]"
   ]
  },
  {
   "cell_type": "code",
   "execution_count": null,
   "id": "31e527e3-1e1a-489a-be43-574570954c90",
   "metadata": {},
   "outputs": [],
   "source": [
    "# Plot\n",
    "def plot_dgvm(v, label, fstr_out, vmin, vmax):\n",
    "\n",
    "    fig = plt.figure(figsize=(9, 9), dpi=600, constrained_layout=True)\n",
    "    fig.set_facecolor('#ffffff')\n",
    "    \n",
    "    gs = fig.add_gridspec(5, 3,\n",
    "                          hspace=0, wspace=0,\n",
    "                          width_ratios=(.33, .33, .33), \n",
    "                          height_ratios=(.2, .2, .2, .2, .2))\n",
    "    \n",
    "    ax0 = fig.add_subplot(gs[0], projection=ccrs.Robinson(central_longitude=10), aspect='auto')\n",
    "    ax1 = fig.add_subplot(gs[1], projection=ccrs.Robinson(central_longitude=10), aspect='auto')\n",
    "    ax2 = fig.add_subplot(gs[2], projection=ccrs.Robinson(central_longitude=10), aspect='auto')\n",
    "    ax3 = fig.add_subplot(gs[3], projection=ccrs.Robinson(central_longitude=10), aspect='auto')\n",
    "    ax4 = fig.add_subplot(gs[4], projection=ccrs.Robinson(central_longitude=10), aspect='auto')\n",
    "    ax5 = fig.add_subplot(gs[5], projection=ccrs.Robinson(central_longitude=10), aspect='auto')\n",
    "    ax6 = fig.add_subplot(gs[6], projection=ccrs.Robinson(central_longitude=10), aspect='auto')\n",
    "    ax7 = fig.add_subplot(gs[7], projection=ccrs.Robinson(central_longitude=10), aspect='auto')\n",
    "    ax8 = fig.add_subplot(gs[8], projection=ccrs.Robinson(central_longitude=10), aspect='auto')\n",
    "    ax9 = fig.add_subplot(gs[9], projection=ccrs.Robinson(central_longitude=10), aspect='auto')\n",
    "    ax10 = fig.add_subplot(gs[10], projection=ccrs.Robinson(central_longitude=10), aspect='auto')\n",
    "    ax11 = fig.add_subplot(gs[11], projection=ccrs.Robinson(central_longitude=10), aspect='auto')\n",
    "    ax12 = fig.add_subplot(gs[12], projection=ccrs.Robinson(central_longitude=10), aspect='auto')\n",
    "    ax13 = fig.add_subplot(gs[13], projection=ccrs.Robinson(central_longitude=10), aspect='auto')\n",
    "    ax14 = fig.add_subplot(gs[14], projection=ccrs.Robinson(central_longitude=10), aspect='auto')\n",
    "    \n",
    "    axs = [ax0, ax1, ax2, ax3, ax4, ax5, ax6, ax7, ax8, ax9, ax10, ax11, ax12, ax13, ax14]\n",
    "    \n",
    "    for i in range(0, 13):\n",
    "        # Coastline data\n",
    "        coastline110.plot(ax=axs[i], transform=ccrs.PlateCarree(), \n",
    "                          color='#000000', linewidth=0.5)\n",
    "        # Dgvm data\n",
    "        im0 = list_ds[i][v] \\\n",
    "            .plot.imshow(ax=axs[i], transform=ccrs.PlateCarree(),\n",
    "                         vmin=vmin, vmax=vmax, cmap='coolwarm', add_colorbar=False)\n",
    "        # Subplot settings\n",
    "        axs[i].set_title(list_ds[i].attrs['model'])\n",
    "        \n",
    "        axs[i].set_extent((-180, 180, -60, 90), ccrs.PlateCarree())\n",
    "        axs[i].axis('off')\n",
    "    \n",
    "    # Switch off axis of last two plots\n",
    "    for i in [ax13, ax14]:\n",
    "        i.axis('off')\n",
    "    \n",
    "    # Colorbar\n",
    "    cbar_ax = fig.add_axes([0.4, 0.1, 0.55, 0.015])\n",
    "    cbar0 = fig.colorbar(im0, cax=cbar_ax, \n",
    "                 orientation = 'horizontal', \n",
    "                 extend='both',\n",
    "                 label = label + ': Deficit (tC ha$^{-1}$)', \n",
    "                 shrink = 0.6, aspect = 60, pad=0.1)\n",
    "        \n",
    "    cbar0.ax.tick_params(size=0)\n",
    "    \n",
    "    # Export\n",
    "    plt.savefig(os.path.join(dir06, f'pdf/{fstr_out}.pdf'), dpi=600)\n",
    "    plt.savefig(os.path.join(dir06, f'png/{fstr_out}.png'), dpi=600);"
   ]
  },
  {
   "cell_type": "code",
   "execution_count": null,
   "id": "b8b51d30-2f70-46d6-94c7-94f04fe6b858",
   "metadata": {},
   "outputs": [],
   "source": [
    "plot_dgvm('def_cveg', 'Vegetation carbon', 'figs04_dgvm_carbon_deficit_maps_vegetation', -50, 50)"
   ]
  },
  {
   "cell_type": "code",
   "execution_count": null,
   "id": "43e73c09-899d-4ac7-b93b-d2e42b8206a4",
   "metadata": {},
   "outputs": [],
   "source": [
    "plot_dgvm('def_csoil', 'Soil organic carbon', 'figs05_dgvm_carbon_deficit_maps_soil', -50, 50)"
   ]
  }
 ],
 "metadata": {
  "kernelspec": {
   "display_name": "Python 3.12 (deficit)",
   "language": "python",
   "name": "deficit_python312"
  },
  "language_info": {
   "codemirror_mode": {
    "name": "ipython",
    "version": 3
   },
   "file_extension": ".py",
   "mimetype": "text/x-python",
   "name": "python",
   "nbconvert_exporter": "python",
   "pygments_lexer": "ipython3",
   "version": "3.12.6"
  }
 },
 "nbformat": 4,
 "nbformat_minor": 5
}
