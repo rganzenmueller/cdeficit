{
 "cells": [
  {
   "cell_type": "markdown",
   "id": "f997ea71-c4a7-42e6-ad7c-52d31ad31699",
   "metadata": {},
   "source": [
    "# Figure Feature Importance"
   ]
  },
  {
   "cell_type": "code",
   "execution_count": null,
   "id": "3ea24522-d9ff-4f16-85f0-7437803135d6",
   "metadata": {},
   "outputs": [],
   "source": [
    "# Libraries\n",
    "import os\n",
    "import numpy as np\n",
    "import pandas as pd\n",
    "import matplotlib.pyplot as plt\n",
    "from palettable.cartocolors.qualitative import Safe_10 as cpal"
   ]
  },
  {
   "cell_type": "code",
   "execution_count": null,
   "id": "04a1a85f-40e2-4f0f-b295-c3332a87082b",
   "metadata": {},
   "outputs": [],
   "source": [
    "# Directories\n",
    "dir03 = '../paper_deficit/output/03_rf/'\n",
    "dir06 = '../paper_deficit/output/06_eval/'"
   ]
  },
  {
   "cell_type": "markdown",
   "id": "c54a9e45-e4d7-4f93-b899-19b58e291b55",
   "metadata": {},
   "source": [
    "---"
   ]
  },
  {
   "cell_type": "code",
   "execution_count": null,
   "id": "b4d5e9f4-8b93-4d28-95f6-90c957d957ee",
   "metadata": {},
   "outputs": [],
   "source": [
    "def load_and_merge_data(list_var_tar, scen):\n",
    "    \n",
    "    \"\"\"Loads and merges data from multiple CSV files based on 'var_exp'.\"\"\"\n",
    "    \n",
    "    # Load the base dataframe with 'var_exp' only from the first CSV\n",
    "    df_all = pd.read_csv(\n",
    "        os.path.join(dir03, 'files_importance', f'df_feature_imp_{list_var_tar[0]}_{scen}.csv'), \n",
    "        usecols=['var_exp'])\n",
    "    \n",
    "    # Load and merge data for each run string\n",
    "    for var_tar in list_var_tar:\n",
    "        file_in = f'df_feature_imp_{var_tar}_{scen}.csv'\n",
    "        dfx = pd.read_csv(os.path.join(dir03, 'files_importance', file_in), \n",
    "                          usecols=['var_exp', 'imp_mean']) \\\n",
    "            .rename(columns=lambda col: f'{var_tar}_{scen}_{col}' if col != 'var_exp' else col)\n",
    "            \n",
    "        df_all = df_all.merge(dfx, on='var_exp')\n",
    "     \n",
    "    \n",
    "    # Create var label\n",
    "    df_all['var_label'] = df_all['var_exp'] \\\n",
    "        .str.replace('worldclim_bio', 'worldclim_clim') \\\n",
    "        .str.split('_').str[1]\n",
    "    \n",
    "    return df_all"
   ]
  },
  {
   "cell_type": "code",
   "execution_count": null,
   "id": "67ebc19c-8980-458e-b2f5-e533224e04aa",
   "metadata": {},
   "outputs": [],
   "source": [
    "# Define subplot\n",
    "def plot_sub(ax, var_tar, scen, title, show_legend=False):\n",
    "    if var_tar in ['agbc_min', 'agbc_mean', 'agbc_max']:\n",
    "        list_var_tar = ['agbc_min', 'agbc_mean', 'agbc_max']\n",
    "    if var_tar in ['bgbc_min', 'bgbc_mean', 'bgbc_max']:\n",
    "        list_var_tar = ['bgbc_min', 'bgbc_mean', 'bgbc_max']\n",
    "    if var_tar in ['soc_min', 'soc_mean', 'soc_max']:\n",
    "        list_var_tar = ['soc_min', 'soc_mean', 'soc_max']\n",
    "\n",
    "    df_all = load_and_merge_data(list_var_tar, scen)\n",
    "\n",
    "    col_mean = f'{var_tar.split('_')[0]}_mean_{scen}_imp_mean'\n",
    "    col_min = f'{var_tar.split('_')[0]}_min_{scen}_imp_mean'\n",
    "    col_max = f'{var_tar.split('_')[0]}_max_{scen}_imp_mean'\n",
    "\n",
    "    df_all = df_all.sort_values(by=col_mean, ascending=False)\n",
    "    \n",
    "    labels = df_all['var_label']\n",
    "    x = np.arange(len(labels))\n",
    "\n",
    "    width=0.25\n",
    "    colors=cpal.mpl_colors[:3]\n",
    "    \n",
    "    ax.bar(x-width, df_all[col_mean], width=width, label=\"Mean scenario\", color=colors[0])\n",
    "    ax.bar(x, df_all[col_min], width=width, label=\"Min scenario\", color=colors[1])\n",
    "    ax.bar(x+width, df_all[col_max], width=width, label=\"Max scenario\", color=colors[2])\n",
    "    \n",
    "    if show_legend:\n",
    "        ax.legend(frameon=False)\n",
    "    ax.set_title(title)\n",
    "    ax.set_xticks(x)\n",
    "    ax.set_xticklabels(labels, rotation=90, ha='center')\n",
    "\n",
    "    ax.set_ylabel('MDI Feature Importance')\n",
    "    ax.spines['right'].set_visible(False)\n",
    "    ax.spines['top'].set_visible(False)\n",
    "    ax.spines['left'].set_linewidth(1.5)\n",
    "    ax.spines['bottom'].set_linewidth(1.5)\n",
    "    ax.xaxis.set_tick_params(width=1.5)\n",
    "    ax.yaxis.set_tick_params(width=1.5)"
   ]
  },
  {
   "cell_type": "code",
   "execution_count": null,
   "id": "135c2c65-3095-4f61-8c24-f66f261237fe",
   "metadata": {},
   "outputs": [],
   "source": [
    "# Plot\n",
    "fig, axs = plt.subplots(figsize=(12, 12), ncols=2, nrows=3, dpi=600)\n",
    "axs = axs.ravel()\n",
    "\n",
    "plot_sub(axs[0], 'agbc_max', 'prim', 'AGBC - Pristine land assumption', True)\n",
    "plot_sub(axs[1], 'agbc_max', 'secd', 'AGBC - Low human influence assumption')\n",
    "\n",
    "plot_sub(axs[2], 'bgbc_max', 'prim', 'BGBC - Pristine land assumption')\n",
    "plot_sub(axs[3], 'bgbc_max', 'secd', 'BGBC - Low human influence assumption')\n",
    "\n",
    "plot_sub(axs[4], 'soc_mean', 'prim', 'SOC 0-30 cm - Pristine land assumption')\n",
    "plot_sub(axs[5], 'soc_mean', 'secd', 'SOC 0-30 cm - Low human influence assumption')\n",
    "\n",
    "plt.tight_layout()\n",
    "\n",
    "# Export\n",
    "plt.savefig(os.path.join(dir06, 'pdf/figs15_feature_importance.pdf'), dpi=600)\n",
    "plt.savefig(os.path.join(dir06, 'png/figs15_feature_importance.png'), dpi=600);"
   ]
  }
 ],
 "metadata": {
  "kernelspec": {
   "display_name": "Python 3.12 (deficit)",
   "language": "python",
   "name": "deficit_python312"
  },
  "language_info": {
   "codemirror_mode": {
    "name": "ipython",
    "version": 3
   },
   "file_extension": ".py",
   "mimetype": "text/x-python",
   "name": "python",
   "nbconvert_exporter": "python",
   "pygments_lexer": "ipython3",
   "version": "3.12.6"
  }
 },
 "nbformat": 4,
 "nbformat_minor": 5
}
