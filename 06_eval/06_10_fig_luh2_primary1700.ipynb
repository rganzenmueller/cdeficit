{
 "cells": [
  {
   "cell_type": "markdown",
   "id": "bb56961a-01a7-427a-933f-2b8b7e8d6c0a",
   "metadata": {},
   "source": [
    "# Figure LUH2 Primary 1700"
   ]
  },
  {
   "cell_type": "code",
   "execution_count": null,
   "id": "2c730025-da23-4dac-9634-ac05d4293cee",
   "metadata": {},
   "outputs": [],
   "source": [
    "# Libraries\n",
    "import os\n",
    "import xarray as xr\n",
    "import geopandas as gpd\n",
    "import matplotlib.pyplot as plt\n",
    "import cartopy.crs as ccrs"
   ]
  },
  {
   "cell_type": "code",
   "execution_count": null,
   "id": "36699387-aecb-4ab0-bcc6-60fbabec5b5e",
   "metadata": {},
   "outputs": [],
   "source": [
    "# Directories\n",
    "dir05x = '../paper_deficit/output/05_prep_other/fig_dgvm/'\n",
    "dir06 = '../paper_deficit/output/06_eval/'\n",
    "dir_nearth = '../data/naturalearth/'"
   ]
  },
  {
   "cell_type": "markdown",
   "id": "f906075f-dc5f-4936-bd89-752f5f793ef6",
   "metadata": {},
   "source": [
    "---"
   ]
  },
  {
   "cell_type": "code",
   "execution_count": null,
   "id": "8f8558c1-8c5e-4cfc-ac30-9f7a249925eb",
   "metadata": {},
   "outputs": [],
   "source": [
    "# Get coastline data\n",
    "coastline110 = gpd.read_file(\n",
    "    os.path.join(dir_nearth, 'ne_110m_coastline/ne_110m_coastline.shp'))\n",
    "\n",
    "# Get data on primary land in 1700\n",
    "ds_prim = xr.open_dataset(os.path.join(dir05x, 'luh2', 'ds_luh2_prim_1700.nc'),\n",
    "                          chunks=dict(lat=5000, lon=5000))"
   ]
  },
  {
   "cell_type": "code",
   "execution_count": null,
   "id": "437f5b03-b003-4190-ac5e-ff02f4ab8a03",
   "metadata": {},
   "outputs": [],
   "source": [
    "# Plot primary land in 1700\n",
    "fig = plt.figure(figsize=(6, 3.5), dpi=600, constrained_layout=True)\n",
    "fig.set_facecolor('#ffffff')\n",
    "\n",
    "gs = fig.add_gridspec(1, 1)\n",
    "\n",
    "ax0 = fig.add_subplot(gs[0], projection=ccrs.Robinson(central_longitude=10), aspect='auto')\n",
    "# Coastline\n",
    "coastline110.plot(ax=ax0, transform=ccrs.PlateCarree(), \n",
    "                      color='#000000', linewidth=0.5)\n",
    "# Primary land data\n",
    "im0 = (ds_prim.prim_1700 * 100) \\\n",
    "    .plot.imshow(ax=ax0, transform=ccrs.PlateCarree(), \n",
    "                 cmap='Greens', add_colorbar=False)\n",
    "\n",
    "# Plot settings\n",
    "ax0.set_extent((-180, 180, -60, 90), ccrs.PlateCarree())\n",
    "ax0.axis('off')\n",
    "# Colorbar\n",
    "cbar0 = fig.colorbar(im0, ax=ax0, \n",
    "                     orientation = 'horizontal', \n",
    "                     label = 'Primary land in 1700 (%)', \n",
    "                     shrink = 0.9, aspect = 50, pad=0.05)\n",
    "cbar0.ax.tick_params(size=0)\n",
    "\n",
    "# Export\n",
    "plt.savefig(os.path.join(dir06, f'pdf/figs07_luh2_primary1700.pdf'), bbox_inches='tight', dpi=600)\n",
    "plt.savefig(os.path.join(dir06, f'png/figs07_luh2_primary1700.png'), bbox_inches='tight', dpi=600);"
   ]
  }
 ],
 "metadata": {
  "kernelspec": {
   "display_name": "Python 3.12 (deficit)",
   "language": "python",
   "name": "deficit_python312"
  },
  "language_info": {
   "codemirror_mode": {
    "name": "ipython",
    "version": 3
   },
   "file_extension": ".py",
   "mimetype": "text/x-python",
   "name": "python",
   "nbconvert_exporter": "python",
   "pygments_lexer": "ipython3",
   "version": "3.12.6"
  }
 },
 "nbformat": 4,
 "nbformat_minor": 5
}
