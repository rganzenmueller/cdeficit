{
 "cells": [
  {
   "cell_type": "markdown",
   "id": "29988be7-02c7-4bff-a4a4-0ce1e3cdc49c",
   "metadata": {},
   "source": [
    "# Figures Performance of Random Forest Models Scatter"
   ]
  },
  {
   "cell_type": "code",
   "execution_count": null,
   "id": "f46651f5-aff9-4938-8d67-d6c4b80ecd39",
   "metadata": {},
   "outputs": [],
   "source": [
    "# Libraries\n",
    "import os\n",
    "import numpy as np\n",
    "import dask.dataframe as dd\n",
    "import sklearn.metrics as metrics\n",
    "import matplotlib.pyplot as plt\n",
    "from scipy.stats import gaussian_kde"
   ]
  },
  {
   "cell_type": "code",
   "execution_count": null,
   "id": "1743f5d8-cba6-41bd-a567-f1c1d80073ec",
   "metadata": {},
   "outputs": [],
   "source": [
    "# Directories\n",
    "dir02 = '../paper_deficit/output/02_dbase/'\n",
    "dir03p = '../paper_deficit/output/03_rf/files_predicted/'\n",
    "dir06 = '../paper_deficit/output/06_eval/'"
   ]
  },
  {
   "cell_type": "markdown",
   "id": "cebcb103-398b-4b96-8db1-75aa298ea49b",
   "metadata": {},
   "source": [
    "---"
   ]
  },
  {
   "cell_type": "code",
   "execution_count": null,
   "id": "40a1b8a9-9532-4dd9-aec8-4fc6126b0bdd",
   "metadata": {},
   "outputs": [],
   "source": [
    "# Libraries\n",
    "from dask_jobqueue import SLURMCluster\n",
    "from dask.distributed import Client\n",
    "import dask\n",
    "\n",
    "# Initialize dask\n",
    "cluster = SLURMCluster(\n",
    "    queue='compute',                      # SLURM queue to use\n",
    "    cores=2,                             # Number of CPU cores per job\n",
    "    memory='256 GB',                      # Memory per job\n",
    "    account='bm0891',                     # Account allocation\n",
    "    interface=\"ib0\",                      # Network interface for communication\n",
    "    walltime='00:30:00',                  # Maximum runtime per job\n",
    "    local_directory='../dask/',           # Directory for local storage\n",
    "    job_extra_directives=[                # Additional SLURM directives for logging\n",
    "        '-o ../dask/LOG_worker_%j.o',     # Output log\n",
    "        '-e ../dask/LOG_worker_%j.e'      # Error log\n",
    "    ]\n",
    ")\n",
    "\n",
    "# Scale dask cluster\n",
    "cluster.scale(jobs=4)\n",
    "\n",
    "# Configurate dashboard url\n",
    "dask.config.config.get('distributed').get('dashboard').update(\n",
    "    {'link': '{JUPYTERHUB_SERVICE_PREFIX}/proxy/{port}/status'}\n",
    ")\n",
    "\n",
    "# Create client\n",
    "client = Client(cluster)\n",
    "\n",
    "client"
   ]
  },
  {
   "cell_type": "code",
   "execution_count": null,
   "id": "aed70719-5b1f-48e6-8191-41542dd62cf1",
   "metadata": {},
   "outputs": [],
   "source": [
    "# Get dbase file\n",
    "df_dbase = dd.read_parquet(os.path.join(dir02, 'df_dbase.parquet'))"
   ]
  },
  {
   "cell_type": "code",
   "execution_count": null,
   "id": "f0ba5f2a-8f96-4a62-9b17-a6bf6265d7e8",
   "metadata": {},
   "outputs": [],
   "source": [
    "def prep_data(var_tar, scen):\n",
    "\n",
    "    \"\"\"Prepare scatter data\"\"\"\n",
    "    \n",
    "    # Get predicted random forest data\n",
    "    df_rfpred = dd.read_parquet(\n",
    "        os.path.join(dir03p, f'df_rfpred_{var_tar}_{scen}.parquet'))\n",
    "\n",
    "    # Prepare dataframe with predicted values\n",
    "    rfr_cols = ['rfr_' + str(i) for i in range(1, 11)]\n",
    "    \n",
    "    df_rfpred_sel = df_rfpred \\\n",
    "        .assign(rfr_mean = df_rfpred[rfr_cols].mean(axis=1)) \\\n",
    "        [['lat', 'lon', 'rfr_mean']]\n",
    "\n",
    "    # Prepare dataframe with testing values\n",
    "    df_test = df_dbase[((df_dbase[f'pot_{scen}'] == True) &\n",
    "                        (df_dbase[f'train_{scen}'] == False))] \\\n",
    "        [['lat', 'lon', var_tar]]\n",
    "\n",
    "    return dd.merge(df_test, df_rfpred_sel,\n",
    "                    how='left', on=['lat', 'lon']).compute()"
   ]
  },
  {
   "cell_type": "code",
   "execution_count": null,
   "id": "c2deb029-ab12-4579-8138-80ba7c41a9fa",
   "metadata": {},
   "outputs": [],
   "source": [
    "def plot_scatter(ax, var_tar, scen, title):\n",
    "\n",
    "    #Get data\n",
    "    df_sel = prep_data(var_tar, scen)\n",
    "\n",
    "    # Sample the data for plotting\n",
    "    n_sample=25000\n",
    "    df_sam = df_sel.sample(n=n_sample)\n",
    "\n",
    "    # Convert to pandas for faster operations\n",
    "    x_sam, y_sam = df_sam[var_tar], df_sam['rfr_mean']\n",
    "\n",
    "    # Calculate the point density using Gaussian Kernel Density Estimation\n",
    "    xy = np.vstack([x_sam, y_sam])\n",
    "    z = np.log(gaussian_kde(xy)(xy))\n",
    "\n",
    "    # Perform linear regression\n",
    "    m, b = np.polyfit(x_sam, y_sam, deg=1)\n",
    "\n",
    "    # Calculate metrics on the full dataset (using Dask for larger data)\n",
    "    x_full, y_full = df_sel[var_tar], df_sel.rfr_mean\n",
    "    metrics_dict = {\n",
    "        \"R2\": metrics.r2_score(x_full, y_full),\n",
    "        \"RMSE\": metrics.root_mean_squared_error(x_full, y_full),\n",
    "    }\n",
    "\n",
    "    # Plotting\n",
    "    ax.scatter(x_sam, y_sam, c=z, s=1)\n",
    "    ax.axline((0, 0), (1, 1), c='#636363', linestyle='--')\n",
    "    ax.axline(xy1=(0, b), slope=m, c='#000000')\n",
    "\n",
    "    # Display metrics in the plot\n",
    "    metric_text = f\"R2: {metrics_dict['R2']:.2f}\\nRMSE: {metrics_dict['RMSE']:.2f}\"\n",
    "    ax.text(0, y_sam.max(), va='top', bbox=dict(facecolor='#ffffff', alpha=0.5), s=metric_text)\n",
    "\n",
    "    # Set titles and labels\n",
    "    ax.set_title(title)\n",
    "    ax.set_ylabel('Prediction (tC ha$^{-1}$)')\n",
    "    ax.set_xlabel('Testing (tC ha$^{-1}$)')"
   ]
  },
  {
   "cell_type": "code",
   "execution_count": null,
   "id": "ede38032-5961-472a-a4b3-da8f94c07eca",
   "metadata": {},
   "outputs": [],
   "source": [
    "# List of parameters for the plots\n",
    "plot_params = [\n",
    "    ('agbc_min', 'prim', 'AGBC, min'),\n",
    "    ('agbc_mean', 'prim', 'AGBC, mean'),\n",
    "    ('agbc_max', 'prim', 'AGBC, max'),\n",
    "    ('bgbc_min', 'prim', 'BGBC, min'),\n",
    "    ('bgbc_mean', 'prim', 'BGBC, mean'),\n",
    "    ('bgbc_max', 'prim', 'BGBC, max'),\n",
    "    ('soc_min', 'prim', 'SOC 0-30 cm, min'),\n",
    "    ('soc_mean', 'prim', 'SOC 0-30 cm, mean'),\n",
    "    ('soc_max', 'prim', 'SOC 0-30 cm, max'),\n",
    "\n",
    "]\n",
    "\n",
    "# Create the figure and axes in a single step\n",
    "fig, axs = plt.subplots(figsize=(9, 9), ncols=3, nrows=3, dpi=600)\n",
    "axs = axs.ravel()\n",
    "\n",
    "# Loop over the parameters and axes to create the plots\n",
    "for ax, (var_tar, scen, label) in zip(axs, plot_params):\n",
    "    plot_scatter(ax, var_tar, scen, label)\n",
    "\n",
    "# Adjust layout\n",
    "plt.tight_layout()\n",
    "\n",
    "# Export\n",
    "plt.savefig(os.path.join(dir06, 'pdf/figs13_scatter_performance_primary.pdf'), dpi=600)\n",
    "plt.savefig(os.path.join(dir06, 'png/figs13_scatter_performance_primary.png'), dpi=600);"
   ]
  },
  {
   "cell_type": "code",
   "execution_count": null,
   "id": "a2627bf4-1bb0-4d3e-9fad-72093ca149cd",
   "metadata": {},
   "outputs": [],
   "source": [
    "# List of parameters for the plots\n",
    "plot_params = [\n",
    "    ('agbc_min', 'secd', 'AGBC, min'),\n",
    "    ('agbc_mean', 'secd', 'AGBC, mean'),\n",
    "    ('agbc_max', 'secd', 'AGBC, max'),\n",
    "    ('bgbc_min', 'secd', 'BGBC, min'),\n",
    "    ('bgbc_mean', 'secd', 'BGBC, mean'),\n",
    "    ('bgbc_max', 'secd', 'BGBC, max'),\n",
    "    ('soc_min', 'secd', 'SOC 0-30 cm, min'),\n",
    "    ('soc_mean', 'secd', 'SOC 0-30 cm, mean'),\n",
    "    ('soc_max', 'secd', 'SOC 0-30 cm, max'),\n",
    "\n",
    "]\n",
    "\n",
    "# Create the figure and axes in a single step\n",
    "fig, axs = plt.subplots(figsize=(9, 9), ncols=3, nrows=3, dpi=600)\n",
    "axs = axs.ravel()\n",
    "\n",
    "# Loop over the parameters and axes to create the plots\n",
    "for ax, (var_tar, scen, label) in zip(axs, plot_params):\n",
    "    plot_scatter(ax, var_tar, scen, label)\n",
    "\n",
    "# Adjust layout\n",
    "plt.tight_layout()\n",
    "\n",
    "# Export\n",
    "plt.savefig(os.path.join(dir06, 'pdf/figs14_scatter_performance_secondary.pdf'), dpi=600)\n",
    "plt.savefig(os.path.join(dir06, 'png/figs14_scatter_performance_secondary.png'), dpi=600);"
   ]
  },
  {
   "cell_type": "code",
   "execution_count": null,
   "id": "99b30ee1-53d7-4a07-87f6-119e173b8338",
   "metadata": {},
   "outputs": [],
   "source": [
    "cluster.close()"
   ]
  }
 ],
 "metadata": {
  "kernelspec": {
   "display_name": "Python 3.12 (deficit)",
   "language": "python",
   "name": "deficit_python312"
  },
  "language_info": {
   "codemirror_mode": {
    "name": "ipython",
    "version": 3
   },
   "file_extension": ".py",
   "mimetype": "text/x-python",
   "name": "python",
   "nbconvert_exporter": "python",
   "pygments_lexer": "ipython3",
   "version": "3.12.6"
  }
 },
 "nbformat": 4,
 "nbformat_minor": 5
}
