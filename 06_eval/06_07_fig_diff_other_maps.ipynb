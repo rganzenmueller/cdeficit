{
 "cells": [
  {
   "cell_type": "markdown",
   "id": "654183a6-8934-4e16-9fa7-ad02348680ee",
   "metadata": {},
   "source": [
    "# Figure Carbon difference other studies"
   ]
  },
  {
   "cell_type": "code",
   "execution_count": null,
   "id": "1cd56c71-7fa7-41e2-b80d-b35255a816ee",
   "metadata": {},
   "outputs": [],
   "source": [
    "# Libraries\n",
    "import os\n",
    "import xarray as xr\n",
    "import rioxarray\n",
    "import geopandas as gpd\n",
    "import matplotlib.pyplot as plt\n",
    "import cartopy.crs as ccrs"
   ]
  },
  {
   "cell_type": "code",
   "execution_count": null,
   "id": "48341383-7762-4160-8410-da3163b18d6c",
   "metadata": {},
   "outputs": [],
   "source": [
    "# Directories\n",
    "dir5d = '../paper_deficit/output/05_prep_other/fig_dgvm/'\n",
    "dir06 = '../paper_deficit/output/06_eval/'\n",
    "dir_nearth = '../data/naturalearth/'"
   ]
  },
  {
   "cell_type": "markdown",
   "id": "f670bfc5-ec0d-4bc7-adbc-21d08848fde2",
   "metadata": {},
   "source": [
    "---"
   ]
  },
  {
   "cell_type": "code",
   "execution_count": null,
   "id": "e7a3db2f-20c2-4b8f-97c8-035aafb9fe49",
   "metadata": {},
   "outputs": [],
   "source": [
    "# Get coastline data\n",
    "coastline110 = gpd.read_file(\n",
    "    os.path.join(dir_nearth, 'ne_110m_coastline/ne_110m_coastline.shp'))"
   ]
  },
  {
   "cell_type": "code",
   "execution_count": null,
   "id": "431d58f9-c2e4-47eb-b279-f1d34233f15e",
   "metadata": {},
   "outputs": [],
   "source": [
    "# Get data\n",
    "def get_data_luh2res(m):\n",
    "    return xr.open_dataset(os.path.join(dir5d, m, f'ds_{m}_luh2res.nc'))\n",
    "\n",
    "ds_pot = get_data_luh2res('pot')\n",
    "ds_erb = get_data_luh2res('erb')\n",
    "ds_mo = get_data_luh2res('mo')\n",
    "ds_walker = get_data_luh2res('walker')\n",
    "ds_sand = get_data_luh2res('sanderman030')"
   ]
  },
  {
   "cell_type": "code",
   "execution_count": null,
   "id": "ce4f95ec-4bf0-46aa-807c-5349ba2328ed",
   "metadata": {},
   "outputs": [],
   "source": [
    "# Plot\n",
    "fig = plt.figure(figsize=(9, 7), dpi=600, constrained_layout=True)\n",
    "fig.set_facecolor('#ffffff')\n",
    "\n",
    "gs = fig.add_gridspec(5, 3,\n",
    "                      hspace=0, wspace=0,\n",
    "                      width_ratios=(0.33, 0.33, 0.33), \n",
    "                      height_ratios=(0.001, 0.25, 0.25, 0.25, 0.25))\n",
    "\n",
    "ax0 = fig.add_subplot(gs[0], aspect='auto')\n",
    "ax1 = fig.add_subplot(gs[1], aspect='auto')\n",
    "ax2 = fig.add_subplot(gs[2], aspect='auto')\n",
    "ax3 = fig.add_subplot(gs[3], projection=ccrs.Robinson(central_longitude=10), aspect='auto')\n",
    "ax4 = fig.add_subplot(gs[4], projection=ccrs.Robinson(central_longitude=10), aspect='auto')\n",
    "ax5 = fig.add_subplot(gs[5], projection=ccrs.Robinson(central_longitude=10), aspect='auto')\n",
    "ax6 = fig.add_subplot(gs[6], projection=ccrs.Robinson(central_longitude=10), aspect='auto')\n",
    "ax7 = fig.add_subplot(gs[7], projection=ccrs.Robinson(central_longitude=10), aspect='auto')\n",
    "ax8 = fig.add_subplot(gs[8], projection=ccrs.Robinson(central_longitude=10), aspect='auto')\n",
    "ax9 = fig.add_subplot(gs[9], projection=ccrs.Robinson(central_longitude=10), aspect='auto')\n",
    "ax10 = fig.add_subplot(gs[10], projection=ccrs.Robinson(central_longitude=10), aspect='auto')\n",
    "ax11 = fig.add_subplot(gs[11], projection=ccrs.Robinson(central_longitude=10), aspect='auto')\n",
    "ax12 = fig.add_subplot(gs[12], projection=ccrs.Robinson(central_longitude=10), aspect='auto')\n",
    "ax13 = fig.add_subplot(gs[13], projection=ccrs.Robinson(central_longitude=10), aspect='auto')\n",
    "ax14 = fig.add_subplot(gs[14], projection=ccrs.Robinson(central_longitude=10), aspect='auto')\n",
    "\n",
    "for i in [ax3, ax4, ax5, ax6, ax7, ax8, ax9, ax10, ax11, ax12, ax13, ax14]:\n",
    "    coastline110.plot(ax=i, transform=ccrs.PlateCarree(), \n",
    "                      color='#000000', linewidth=0.5)\n",
    "    i.set_extent((-180, 180, -60, 90), ccrs.PlateCarree())\n",
    "    i.axis('off')\n",
    "\n",
    "def plot_act(ax, da0, da1):\n",
    "    return (da0 - da1).plot.imshow(ax=ax, transform=ccrs.PlateCarree(), \n",
    "                            cmap='coolwarm', vmax=80, add_colorbar=False)    \n",
    "def add_cbar(im, axi, axii, axiii):\n",
    "    cbar = fig.colorbar(\n",
    "        im, ax=[axi, axii, axiii], \n",
    "        orientation = 'vertical', extend='both', ticks=[-80, -40, 0, 40, 80],\n",
    "        label = 'tC ha$^{-1}$', shrink = 0.9, aspect = 20, pad=0.02)   \n",
    "    cbar.ax.tick_params(size=0)\n",
    "    return cbar\n",
    "\n",
    "im3 = plot_act(ax3, ds_mo.mo_s3_cveg, ds_pot.pot_s3_cveg)\n",
    "plot_act(ax4, ds_mo.mo_s2_cveg, ds_pot.pot_s2_cveg)\n",
    "plot_act(ax5, (ds_mo.mo_s2_cveg - ds_mo.mo_s3_cveg), \n",
    "         (ds_pot.pot_s2_cveg - ds_pot.pot_s3_cveg))\n",
    "add_cbar(im3, ax3, ax4, ax5)\n",
    "\n",
    "im6 = plot_act(ax6, ds_walker.walker_s3_cveg, ds_pot.pot_s3_cveg)\n",
    "plot_act(ax7, ds_walker.walker_s2_cveg, ds_pot.pot_s2_cveg)\n",
    "plot_act(ax8, (ds_walker.walker_s2_cveg - ds_walker.walker_s3_cveg), \n",
    "         (ds_pot.pot_s2_cveg - ds_pot.pot_s3_cveg))\n",
    "add_cbar(im6, ax6, ax7, ax8)\n",
    "\n",
    "im9 = plot_act(ax9, ds_erb.erb_s3_cveg, ds_pot.pot_s3_cveg)\n",
    "plot_act(ax10, ds_erb.erb_s2_cveg, ds_pot.pot_s2_cveg)\n",
    "plot_act(ax11, (ds_erb.erb_s2_cveg - ds_erb.erb_s3_cveg), \n",
    "         (ds_pot.pot_s2_cveg - ds_pot.pot_s3_cveg))\n",
    "add_cbar(im9, ax9, ax10, ax11)\n",
    "\n",
    "im12 = plot_act(ax12, ds_sand.sanderman030_s3_csoil, ds_pot.pot_s3_csoil)\n",
    "plot_act(ax13, ds_sand.sanderman030_s2_csoil, ds_pot.pot_s2_csoil)\n",
    "plot_act(ax14, (ds_sand.sanderman030_s2_csoil - ds_sand.sanderman030_s3_csoil), \n",
    "         (ds_pot.pot_s2_csoil - ds_pot.pot_s3_csoil))\n",
    "add_cbar(im12, ax12, ax13, ax14)\n",
    "\n",
    "ax0.set_title('Actual', size='large', weight='bold')\n",
    "ax1.set_title('Potential', size='large', weight='bold')\n",
    "ax2.set_title('Deficit', size='large', weight='bold')\n",
    "ax0.axis('off')\n",
    "ax1.axis('off')\n",
    "ax2.axis('off')\n",
    "ax3.set_title('AGBC + BGBC: Mo et al. 2023 [S1] (forest biomass only) - This study', loc='left', size='large')\n",
    "ax6.set_title('AGBC + BGBC: Walker et al. 2022 [S2] - This study', loc='left', size='large')\n",
    "ax9.set_title('AGBC + BGBC: Erb et al. 2018 [S3] - This study', loc='left', size='large')\n",
    "ax12.set_title('SOC 0-30 cm: Sanderman et al. 2017 [S4] - This study', loc='left', size='large')\n",
    "\n",
    "plt.savefig(os.path.join(dir06, 'pdf/figs02_carbon_difference_other_maps.pdf'), dpi=600)\n",
    "plt.savefig(os.path.join(dir06, 'png/figs02_carbon_difference_other_maps.png'), dpi=600);"
   ]
  }
 ],
 "metadata": {
  "kernelspec": {
   "display_name": "Python 3.12 (deficit)",
   "language": "python",
   "name": "deficit_python312"
  },
  "language_info": {
   "codemirror_mode": {
    "name": "ipython",
    "version": 3
   },
   "file_extension": ".py",
   "mimetype": "text/x-python",
   "name": "python",
   "nbconvert_exporter": "python",
   "pygments_lexer": "ipython3",
   "version": "3.12.6"
  }
 },
 "nbformat": 4,
 "nbformat_minor": 5
}
