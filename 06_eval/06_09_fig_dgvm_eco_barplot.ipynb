{
 "cells": [
  {
   "cell_type": "markdown",
   "id": "3f741f86-8cac-4568-a46c-ce8de789e13d",
   "metadata": {},
   "source": [
    "# Figure DGVM Deficit Ecosystem Barplot"
   ]
  },
  {
   "cell_type": "code",
   "execution_count": null,
   "id": "f86aa47a-5eed-4b98-9faa-29eb0bac3945",
   "metadata": {},
   "outputs": [],
   "source": [
    "# Libraries\n",
    "import os\n",
    "import pandas as pd\n",
    "import matplotlib.pyplot as plt\n",
    "from matplotlib.lines import Line2D\n",
    "from matplotlib.patches import Patch"
   ]
  },
  {
   "cell_type": "code",
   "execution_count": null,
   "id": "ccb0dd44-33e3-49e3-8630-e2ad156d470b",
   "metadata": {},
   "outputs": [],
   "source": [
    "# Directories\n",
    "dir05x = '../paper_deficit/output/05_prep_other/fig_dgvm/'\n",
    "dir06 = '../paper_deficit/output/06_eval/'"
   ]
  },
  {
   "cell_type": "markdown",
   "id": "a1e8007e-65ff-44cd-bf83-2c594b757f78",
   "metadata": {},
   "source": [
    "---"
   ]
  },
  {
   "cell_type": "code",
   "execution_count": null,
   "id": "20bec10b-776d-4e4b-8479-7bcd4f46e50e",
   "metadata": {},
   "outputs": [],
   "source": [
    "# List of DGVMs\n",
    "list_dgvm = ['cablepop', 'classic', 'clm', 'dlem', 'ibis', 'isam', 'jsbach', \n",
    "             'jules', 'lpjguess', 'lpjwsl', 'orchidee']"
   ]
  },
  {
   "cell_type": "code",
   "execution_count": null,
   "id": "0b49c30f-32b1-4176-aef9-cfd0604f3790",
   "metadata": {},
   "outputs": [],
   "source": [
    "# Get data\n",
    "df_g = pd.read_csv(os.path.join(dir05x, 'data_dgvm_global.csv'))\n",
    "df_e = pd.read_csv(os.path.join(dir05x, 'data_dgvm_ecozone.csv'))\n",
    "\n",
    "# Create individual dataframes for each data source\n",
    "df_pot = df_g[df_g.model == 'ganzenmueller'].drop('model', axis=1)\n",
    "df_erb = df_g[df_g.model == 'erb'].drop('model', axis=1)\n",
    "df_mo = df_g[df_g.model == 'mo'].drop('model', axis=1)\n",
    "df_walker = df_g[df_g.model == 'walker'].drop('model', axis=1)\n",
    "df_sand030 = df_g[df_g.model == 'sanderman030'].drop('model', axis=1)\n",
    "df_sand100 = df_g[df_g.model == 'sanderman100'].drop('model', axis=1)\n",
    "df_sand200 = df_g[df_g.model == 'sanderman200'].drop('model', axis=1)\n",
    "df_dgvm_m = df_g[df_g.model == 'dgvm_mean'].drop('model', axis=1)\n",
    "df_dgvm = df_g[df_g.model.isin(list_dgvm)]\n",
    "\n",
    "# Merge df_g and df_e\n",
    "df_all = pd.concat([df_e, df_g.assign(cat='global')])"
   ]
  },
  {
   "cell_type": "code",
   "execution_count": null,
   "id": "72416c5a-583a-4efc-a477-fded38f8b076",
   "metadata": {},
   "outputs": [],
   "source": [
    "# colors for vegetation and soil carbon\n",
    "# selected with https://color.adobe.com/ and https://projects.susielu.com/viz-palette\n",
    "c_cveg, c_soc = '#73bd83', '#8f6358' \n",
    "c_edge = '#000000'\n",
    "\n",
    "# x-axis order\n",
    "list_xaxis = list_dgvm\n",
    "# x-axis labels\n",
    "list_xlabels = ['CABLE-POP', 'CLASSIC', 'CLM', 'DLEM', 'IBIS', 'ISAM', 'JSBACH',\n",
    "                'JULES', 'LPJ-GUESS', 'LPJ-WSL', 'ORCHIDEE']"
   ]
  },
  {
   "cell_type": "code",
   "execution_count": null,
   "id": "ab93369e-05cd-4bf4-8baa-88fa453d2a93",
   "metadata": {},
   "outputs": [],
   "source": [
    "# Plot\n",
    "fig, axs = plt.subplots(figsize=(9,4.5), ncols=3, nrows=2, sharex=True, dpi=600)\n",
    "axs = axs.ravel()\n",
    "\n",
    "for i in range(0, 6):\n",
    "    cat = ['global', 'trop1', 'trop2', 'subt', 'temp', 'bore'][i]  # polar not shown\n",
    "    subtitle = ['Global', 'Tropical Rainforest', 'Other Tropical', \n",
    "                'Subtropical', 'Temperate', 'Boreal'][i]\n",
    "        \n",
    "    df_sel = df_all[(df_all.cat == cat)] \\\n",
    "        .set_index('model') \\\n",
    "        .reindex(list_xaxis) \\\n",
    "        .reset_index() \\\n",
    "        .assign(xlabels=list_xlabels)\n",
    "\n",
    "    df_sel_mean = df_all[(df_all.cat == cat) & (df_all.model == 'dgvm_mean')]\n",
    "    df_sel_ganz = df_all[(df_all.cat == cat) & (df_all.model == 'ganzenmueller')]    \n",
    "\n",
    "    axs[i].axvspan(-0.5, 0.5, facecolor='#bdbdbd', alpha=0.5)\n",
    "    axs[i].axvspan(1.5, 2.5, facecolor='#bdbdbd', alpha=0.5)\n",
    "    axs[i].axvspan(3.5, 4.5, facecolor='#bdbdbd', alpha=0.5)\n",
    "    axs[i].axvspan(5.5, 6.5, facecolor='#bdbdbd', alpha=0.5)\n",
    "    axs[i].axvspan(7.5, 8.5, facecolor='#bdbdbd', alpha=0.5)    \n",
    "    axs[i].axvspan(9.5, 10.5, facecolor='#bdbdbd', alpha=0.5)\n",
    "\n",
    "    axs[i].bar(df_sel.index-0.2, df_sel.cveg_d * -1, width=0.4, \n",
    "               color=c_cveg, edgecolor=c_edge, zorder=2)\n",
    "    axs[i].bar(df_sel.index+0.2, df_sel.csoil_d * -1, width=0.4, \n",
    "               color=c_soc, edgecolor=c_edge, zorder=2)\n",
    "\n",
    "    axs[i].axhline(df_sel_mean.cveg_d.item() * -1, color=c_cveg, ls='--', zorder=1)\n",
    "    axs[i].axhline(df_sel_mean.csoil_d.item() * -1, color=c_soc, ls='--', zorder=1)\n",
    "    axs[i].axhline(df_sel_ganz.cveg_d.item() * -1, color=c_cveg, ls=':', zorder=1)\n",
    "    axs[i].axhline(df_sel_ganz.csoil_d.item() * -1, color=c_soc, ls=':', zorder=1)\n",
    "    \n",
    "    axs[i].set_title(subtitle)\n",
    "    \n",
    "    axs[i].set_xticks(df_sel.index)\n",
    "    axs[i].set_xticklabels(df_sel.xlabels, rotation=90, ha='center')\n",
    "    \n",
    "    axs[i].set_xlim(-0.6, 10.5)       \n",
    "    axs[i].hlines(0, -1, 16, colors='#000000', linewidth=2)   \n",
    "    axs[i].tick_params(left=True, bottom=False)\n",
    "    \n",
    "for ax in axs:\n",
    "    linewidth = 2\n",
    "    ax.spines['right'].set_visible(False)  # remove right plot boundary\n",
    "    ax.spines['top'].set_visible(False)  # remove top plot boundary\n",
    "    ax.spines['left'].set_linewidth(linewidth)  # make left axis thicker\n",
    "    ax.spines['bottom'].set_linewidth(linewidth)  # make bottom axis thicker\n",
    "    ax.xaxis.set_tick_params(width=linewidth)  # make x-axis tick marks thicker\n",
    "    ax.yaxis.set_tick_params(width=linewidth)  # make y-axis tick marks thicker\n",
    "\n",
    "fig.supylabel('Carbon deficit (PgC)')\n",
    "\n",
    "# Define legend elements\n",
    "legend_elements = [\n",
    "    Patch(facecolor=c_cveg, edgecolor=c_edge, label='AGBC + BGBC'),\n",
    "    Patch(facecolor=c_soc, edgecolor=c_edge, label='SOC'),\n",
    "    Line2D([0], [0], color=c_cveg, linestyle='--', label='DGVM mean'),\n",
    "    Line2D([0], [0], color=c_cveg, linestyle=':', label='This study')\n",
    "]\n",
    "\n",
    "# Add legend below the plot\n",
    "fig.legend(handles=legend_elements, loc='lower center', ncol=4, frameon=False, bbox_to_anchor=(0.5, -0.08))\n",
    "\n",
    "plt.tight_layout()\n",
    "\n",
    "# Export\n",
    "fstr_out = 'figs06_dgvm_deficit_ecosystem_bar'\n",
    "plt.savefig(os.path.join(dir06, f'pdf/{fstr_out}.pdf'), bbox_inches='tight', dpi=600)\n",
    "plt.savefig(os.path.join(dir06, f'png/{fstr_out}.png'), bbox_inches='tight', dpi=600);"
   ]
  }
 ],
 "metadata": {
  "kernelspec": {
   "display_name": "Python 3.12 (deficit)",
   "language": "python",
   "name": "deficit_python312"
  },
  "language_info": {
   "codemirror_mode": {
    "name": "ipython",
    "version": 3
   },
   "file_extension": ".py",
   "mimetype": "text/x-python",
   "name": "python",
   "nbconvert_exporter": "python",
   "pygments_lexer": "ipython3",
   "version": "3.12.6"
  }
 },
 "nbformat": 4,
 "nbformat_minor": 5
}
