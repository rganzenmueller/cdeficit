{
 "cells": [
  {
   "cell_type": "markdown",
   "id": "9779c1cd-e149-4ff4-8c67-0d7b73258993",
   "metadata": {},
   "source": [
    "# Figure Training data maps"
   ]
  },
  {
   "cell_type": "code",
   "execution_count": null,
   "id": "3330b603-b16b-4152-9036-8eaab45fe176",
   "metadata": {},
   "outputs": [],
   "source": [
    "# Libraries\n",
    "import os\n",
    "import numpy as np\n",
    "import geopandas as gpd\n",
    "import dask.dataframe as dd\n",
    "import matplotlib.pyplot as plt\n",
    "import matplotlib.colors as colors\n",
    "from shapely.geometry import box\n",
    "import cartopy.crs as ccrs"
   ]
  },
  {
   "cell_type": "code",
   "execution_count": null,
   "id": "655c98a8-dbea-42c9-bb82-4aa9adcb017d",
   "metadata": {},
   "outputs": [],
   "source": [
    "# Directories\n",
    "dir02 = '../paper_deficit/output/02_dbase/'\n",
    "dir06 = '../paper_deficit/output/06_eval/'\n",
    "dir_nearth = '../data/naturalearth/'"
   ]
  },
  {
   "cell_type": "markdown",
   "id": "3fe3d3b3-ea18-4146-9e3d-b4c618a54e2b",
   "metadata": {},
   "source": [
    "---"
   ]
  },
  {
   "cell_type": "code",
   "execution_count": null,
   "id": "39842e18-d1d8-4c57-a229-aed9542193a4",
   "metadata": {},
   "outputs": [],
   "source": [
    "# Get coastline data\n",
    "coastline110 = gpd.read_file(\n",
    "    os.path.join(dir_nearth, 'ne_110m_coastline', 'ne_110m_coastline.shp'))\n",
    "\n",
    "land110 = gpd.read_file(\n",
    "    os.path.join(dir_nearth, 'ne_110m_land', 'ne_110m_land.shp'))"
   ]
  },
  {
   "cell_type": "code",
   "execution_count": null,
   "id": "33d936c2-0b7a-4bd6-a56b-1454bf7b3fa7",
   "metadata": {},
   "outputs": [],
   "source": [
    "# Get df_dbase file\n",
    "df = dd.read_parquet(os.path.join(dir02, 'df_dbase.parquet'))\n",
    "\n",
    "df = df[['lat', 'lon', 'train_prim', 'train_secd']].compute()"
   ]
  },
  {
   "cell_type": "code",
   "execution_count": null,
   "id": "e688bc5f-3f9b-4e08-b924-3787442412f0",
   "metadata": {},
   "outputs": [],
   "source": [
    "def plot_train_grid(ax, scen, ymin=-60, ymax=90, xmin=-180, xmax=180, add_points=False, dpi=600):\n",
    "    \"\"\"\n",
    "    Plots a training grid on a map, showing the density of training points within 1°x1° grid cells.\n",
    "    \n",
    "    Parameters:\n",
    "        ax (matplotlib.axes.Axes): The matplotlib Axes instance with a Cartopy projection.\n",
    "        scen (str): The scenario identifier to filter the training data (column name suffix).\n",
    "        ymin, ymax, xmin, xmax (float): The latitudinal and longitudinal bounds of the map.\n",
    "        add_points (bool): Whether to overlay individual training points on the map.\n",
    "    \"\"\"\n",
    "    \n",
    "    # Filter the training data for the specified scenario\n",
    "    df_scen = df[df[f'train_{scen}'] == True][['lat', 'lon', f'train_{scen}']]\n",
    "    \n",
    "    # Create a GeoDataFrame with point geometries from the training data\n",
    "    gdf_geometry = gpd.points_from_xy(df_scen.lon, df_scen.lat)\n",
    "    gdf = gpd.GeoDataFrame(df_scen, geometry=gdf_geometry, crs='EPSG:4326')\n",
    "\n",
    "    # Get the geographical bounds of the data\n",
    "    minx, miny, maxx, maxy = gdf.total_bounds\n",
    "        \n",
    "    # Generate a 1°x1° grid covering the extent of the data\n",
    "    grid_cells = []\n",
    "    for x in np.arange(np.floor(minx), np.ceil(maxx), 1):\n",
    "        for y in np.arange(np.floor(miny), np.ceil(maxy), 1):\n",
    "            grid_cells.append(box(x, y, x + 1, y + 1))\n",
    "    \n",
    "    # Create a GeoDataFrame for the grid\n",
    "    grid = gpd.GeoDataFrame(grid_cells, columns=[\"geometry\"], crs=\"EPSG:4326\")\n",
    "    \n",
    "    # Perform a spatial join to assign each point to a grid cell\n",
    "    joined = gpd.sjoin(gdf, grid, how=\"left\", predicate=\"within\")\n",
    "    \n",
    "    # Count the number of points in each grid cell\n",
    "    grid[\"count\"] = joined.groupby(\"index_right\").size()\n",
    "\n",
    "    # Plot land with color of colorbar equals 0 training grid cells\n",
    "    land110.plot(ax=ax, transform=ccrs.PlateCarree(), color='#fff7ec', linewidth=0.5)\n",
    "    # Plot training grid cell count\n",
    "    grid.plot(ax=ax, column=\"count\", cmap=\"OrRd\", legend=False, transform=ccrs.PlateCarree())\n",
    "    # Plot coastline\n",
    "    coastline110.plot(ax=ax, transform=ccrs.PlateCarree(), color='#000000', linewidth=0.5)\n",
    "\n",
    "    # Optionally overlay individual training points\n",
    "    if add_points:\n",
    "        gdf.plot(ax=ax, transform=ccrs.PlateCarree(), markersize=0.1, marker='+')\n",
    "    \n",
    "    # Set the map extent and remove axes\n",
    "    ax.set_extent((xmin, xmax, ymin, ymax), ccrs.PlateCarree())\n",
    "    ax.axis('off')\n",
    "\n",
    "    # Add a colorbar to indicate the density of points in grid cells\n",
    "    norm = colors.Normalize(vmin=grid['count'].min(), vmax=grid['count'].max())\n",
    "    cbar = plt.cm.ScalarMappable(norm=norm, cmap='OrRd')\n",
    "\n",
    "    # Ensure the colorbar is tied to the figure containing the axes\n",
    "    fig = ax.get_figure()\n",
    "    ax_cbar = fig.colorbar(cbar, ax=ax, shrink=0.65)\n",
    "    ax_cbar.set_label('Training points in 1°x1° grid cells')"
   ]
  },
  {
   "cell_type": "code",
   "execution_count": null,
   "id": "a5f46613-c9cd-47b3-aa60-da9ca4c77826",
   "metadata": {},
   "outputs": [],
   "source": [
    "# Plot the grid with point counts\n",
    "fig = plt.figure(figsize=(9, 9), dpi=600)\n",
    "fig.set_facecolor('#ffffff')\n",
    "\n",
    "ax0 = fig.add_subplot(2,1,1, projection=ccrs.Robinson(central_longitude=10), aspect='auto')\n",
    "ax1 = fig.add_subplot(2,1,2, projection=ccrs.Robinson(central_longitude=10), aspect='auto')\n",
    "\n",
    "plot_train_grid(ax0, 'prim')\n",
    "plot_train_grid(ax1, 'secd')\n",
    "\n",
    "# Add title and legend\n",
    "ax0.set_title('Pristine land assumption', fontsize=14)\n",
    "ax1.set_title('Low human influence assumption', fontsize=14)\n",
    "\n",
    "plt.savefig(os.path.join(dir06, f'pdf/figs10_training_data_maps.pdf'), bbox_inches='tight', dpi=600)\n",
    "plt.savefig(os.path.join(dir06, f'png/figs10_training_data_maps.png'), bbox_inches='tight', dpi=600);"
   ]
  }
 ],
 "metadata": {
  "kernelspec": {
   "display_name": "Python 3.12 (deficit)",
   "language": "python",
   "name": "deficit_python312"
  },
  "language_info": {
   "codemirror_mode": {
    "name": "ipython",
    "version": 3
   },
   "file_extension": ".py",
   "mimetype": "text/x-python",
   "name": "python",
   "nbconvert_exporter": "python",
   "pygments_lexer": "ipython3",
   "version": "3.12.6"
  }
 },
 "nbformat": 4,
 "nbformat_minor": 5
}
