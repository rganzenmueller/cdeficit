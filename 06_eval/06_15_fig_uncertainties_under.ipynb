{
 "cells": [
  {
   "cell_type": "markdown",
   "id": "2c42f06f-9e4b-4acf-bfa1-79c288781dad",
   "metadata": {},
   "source": [
    "# Figure Uncertainties underlying carbon"
   ]
  },
  {
   "cell_type": "code",
   "execution_count": null,
   "id": "fd034b57-5445-41ed-b4bd-4958ab603ae2",
   "metadata": {},
   "outputs": [],
   "source": [
    "# Libraries\n",
    "import os\n",
    "import xarray as xr\n",
    "import rioxarray\n",
    "import geopandas as gpd\n",
    "import matplotlib.pyplot as plt\n",
    "import cartopy.crs as ccrs"
   ]
  },
  {
   "cell_type": "code",
   "execution_count": null,
   "id": "371c965f-7f95-4a03-936a-d487ac0b3fe0",
   "metadata": {},
   "outputs": [],
   "source": [
    "# Directories\n",
    "dir_data = '../data/'\n",
    "dir_nearth = '../data/naturalearth/'\n",
    "dir01 = '../paper_deficit/output/01_prep/'\n",
    "dir06 = '../paper_deficit/output/06_eval/'"
   ]
  },
  {
   "cell_type": "markdown",
   "id": "e4c669e1-69af-47e8-a1cd-7e4a4831b1e4",
   "metadata": {},
   "source": [
    "---"
   ]
  },
  {
   "cell_type": "code",
   "execution_count": null,
   "id": "7a502b14-ef57-49d0-8b55-c8a3913b4062",
   "metadata": {},
   "outputs": [],
   "source": [
    "# Libraries\n",
    "from dask_jobqueue import SLURMCluster\n",
    "from dask.distributed import Client\n",
    "import dask\n",
    "\n",
    "# Initialize dask\n",
    "cluster = SLURMCluster(\n",
    "    queue='compute',                      # SLURM queue to use\n",
    "    cores=24,                             # Number of CPU cores per job\n",
    "    memory='256 GB',                      # Memory per job\n",
    "    account='bm0891',                     # Account allocation\n",
    "    interface=\"ib0\",                      # Network interface for communication\n",
    "    walltime='01:00:00',                  # Maximum runtime per job\n",
    "    local_directory='../dask/',           # Directory for local storage\n",
    "    job_extra_directives=[                # Additional SLURM directives for logging\n",
    "        '-o ../dask/LOG_worker_%j.o',     # Output log\n",
    "        '-e ../dask/LOG_worker_%j.e'      # Error log\n",
    "    ]\n",
    ")\n",
    "\n",
    "# Scale dask cluster\n",
    "cluster.scale(jobs=5)\n",
    "\n",
    "# Configurate dashboard url\n",
    "dask.config.config.get('distributed').get('dashboard').update(\n",
    "    {'link': '{JUPYTERHUB_SERVICE_PREFIX}/proxy/{port}/status'}\n",
    ")\n",
    "\n",
    "# Create client\n",
    "client = Client(cluster)\n",
    "\n",
    "client"
   ]
  },
  {
   "cell_type": "code",
   "execution_count": null,
   "id": "093581d3-b108-4f62-96ea-e9ae2333f50e",
   "metadata": {},
   "outputs": [],
   "source": [
    "# Get coastline data\n",
    "coastline110 = gpd.read_file(\n",
    "    os.path.join(dir_data, 'naturalearth', 'ne_110m_coastline/ne_110m_coastline.shp'))"
   ]
  },
  {
   "cell_type": "code",
   "execution_count": null,
   "id": "89789601-ad65-4662-8086-7d9d629354db",
   "metadata": {},
   "outputs": [],
   "source": [
    "# Get prepared data\n",
    "ds_spawn_agbcunc = xr.open_zarr(\n",
    "    os.path.join(dir01, 'ds_regridded_spawn_agbcunc.zarr'))\n",
    "ds_spawn_bgbcunc = xr.open_zarr(\n",
    "    os.path.join(dir01, 'ds_regridded_spawn_bgbcunc.zarr'))\n",
    "ds_esabio_agbunc = xr.open_mfdataset(\n",
    "    os.path.join(dir01, 'ds_regridded_esabio_agbsd*.zarr'), engine='zarr')\n",
    "ds_huang_bgbunc = xr.open_zarr(\n",
    "    os.path.join(dir01, 'ds_regridded_huang_bgbunc.zarr'))\n",
    "ds_sgrids_socunc = xr.open_zarr(\n",
    "    os.path.join(dir01, 'ds_regridded_soilgrids2020_ocsunc_0-30cm.zarr'))\n",
    "ds_land = xr.open_zarr(\n",
    "    os.path.join(dir01, 'ds_prep_copernicus_land_mask.zarr'))\n",
    "\n",
    "# Create da_land\n",
    "da_land = ds_land.copernicus_land_mask"
   ]
  },
  {
   "cell_type": "code",
   "execution_count": null,
   "id": "6ae6c27e-c207-470e-ae9f-4732bed91da8",
   "metadata": {},
   "outputs": [],
   "source": [
    "# Rename data variables of esabio data\n",
    "for i in range(2015, 2022):\n",
    "    ds_esabio_agbunc[i] = ds_esabio_agbunc[f'regridded_esabio_agbsd{i}'].rename(i)\n",
    "    ds_esabio_agbunc = ds_esabio_agbunc.drop_vars(f'regridded_esabio_agbsd{i}')"
   ]
  },
  {
   "cell_type": "code",
   "execution_count": null,
   "id": "e5a34333-d6f0-4ad9-b184-35013387d114",
   "metadata": {},
   "outputs": [],
   "source": [
    "# Testing (faster, no transform)\n",
    "fig, axs = plt.subplots(figsize=(15, 10), ncols=2, nrows=3)\n",
    "axs = axs.ravel()\n",
    "\n",
    "for i in range(0, 5):\n",
    "    # coastline data\n",
    "    coastline110.plot(ax=axs[i], \n",
    "                      color='#000000', linewidth=0.5)\n",
    "\n",
    "def plot_map(da, ax, cbar_label):\n",
    "    da.where(da_land == True) \\\n",
    "        .plot.imshow(ax=ax, robust=True, cmap='Reds',\n",
    "                     cbar_kwargs=dict(label=cbar_label))\n",
    "\n",
    "# Spawn agbc\n",
    "plot_map(ds_spawn_agbcunc.regridded_spawn_agbcunc, axs[0], 'tC ha$^{-1}$')\n",
    "plot_map(ds_esabio_agbunc.to_array('year').mean('year'), axs[1], 'Mg ha$^{-1}$')\n",
    "plot_map(ds_spawn_bgbcunc.regridded_spawn_bgbcunc, axs[2], 'tC ha$^{-1}$')\n",
    "plot_map(ds_huang_bgbunc.regridded_huang_bgbunc, axs[3], 'Mg ha$^{-1}$') # error data has much less datapoints than agb and bgb data, wrote email 26.08.2024\n",
    "plot_map(ds_sgrids_socunc['regridded_soilgrids2020_ocsunc_0-30cm'], axs[4], 'tC ha$^{-1}$')\n",
    "\n",
    "# Gsoc soc\n",
    "# no uncertainty layer available, wrote e-mail 26.08.2024, waiting for answer \n",
    "axs[5].axis('off')\n",
    "\n",
    "# Titles\n",
    "axs[0].set_title('Spawn et al. 2020; AGBC 2010\\nStandard error of prediction')\n",
    "axs[1].set_title('Santoro & Cartus, 2024; Mean AGB 2015-2021\\nStandard deviation')\n",
    "axs[2].set_title('Spawn et al. 2020; BGBC 2010\\nStandard error of prediction')\n",
    "axs[3].set_title('Huang et al. 2021; BGB 2010\\nStandard deviation')\n",
    "axs[4].set_title('Poggio et al. 2021; SOC 0-30 cm\\nRatio between inter-quantile range and median')\n",
    "axs[5].set_title('FAO 2022 (GSOCmap v1.6.0)\\nNo uncertainty estimates')\n",
    "plt.tight_layout()"
   ]
  },
  {
   "cell_type": "code",
   "execution_count": null,
   "id": "3190bd42-7d54-469e-b50e-d61efd4725da",
   "metadata": {},
   "outputs": [],
   "source": [
    "# Plot\n",
    "fig = plt.figure(figsize=(9, 9), dpi=600, constrained_layout=True)\n",
    "fig.set_facecolor('#ffffff')\n",
    "\n",
    "gs = fig.add_gridspec(3, 2,\n",
    "                      hspace=0, wspace=0,\n",
    "                      width_ratios=(.5, .5), \n",
    "                      height_ratios=(.33, .33, .33))\n",
    "\n",
    "ax0 = fig.add_subplot(gs[0], projection=ccrs.Robinson(central_longitude=10), aspect='auto')\n",
    "ax1 = fig.add_subplot(gs[1], projection=ccrs.Robinson(central_longitude=10), aspect='auto')\n",
    "ax2 = fig.add_subplot(gs[2], projection=ccrs.Robinson(central_longitude=10), aspect='auto')\n",
    "ax3 = fig.add_subplot(gs[3], projection=ccrs.Robinson(central_longitude=10), aspect='auto')\n",
    "ax4 = fig.add_subplot(gs[4], projection=ccrs.Robinson(central_longitude=10), aspect='auto')\n",
    "ax5 = fig.add_subplot(gs[5], projection=ccrs.Robinson(central_longitude=10), aspect='auto')\n",
    "axs = [ax0, ax1, ax2, ax3, ax4, ax5]\n",
    "\n",
    "for i in range(0, 6):\n",
    "    coastline110.plot(ax=axs[i], transform=ccrs.PlateCarree(), \n",
    "                      color='#000000', linewidth=0.5)\n",
    "    axs[i].set_extent((-180, 180, -60, 90), ccrs.PlateCarree())\n",
    "    axs[i].axis('off')\n",
    "\n",
    "def plot_map(da, ax, cbar_label):\n",
    "    da.where(da_land == True) \\\n",
    "        .plot.imshow(ax=ax, transform=ccrs.PlateCarree(), \n",
    "                     robust=True, cmap='Reds',\n",
    "                     cbar_kwargs=dict(label=cbar_label, shrink=0.6))\n",
    "\n",
    "plot_map(ds_spawn_agbcunc.regridded_spawn_agbcunc, axs[0], 'tC ha$^{-1}$')\n",
    "plot_map(ds_esabio_agbunc.to_array('year').mean('year'), axs[1], 'Mg ha$^{-1}$')\n",
    "plot_map(ds_spawn_bgbcunc.regridded_spawn_bgbcunc, axs[2], 'tC ha$^{-1}$')\n",
    "plot_map(ds_huang_bgbunc.regridded_huang_bgbunc, axs[3], 'Mg ha$^{-1}$') # error data has much less datapoints than agb and bgb data, wrote email 26.08.2024\n",
    "plot_map(ds_sgrids_socunc['regridded_soilgrids2020_ocsunc_0-30cm']/10, axs[4], '')\n",
    "\n",
    "# gsoc, soc\n",
    "# no uncertainty layer available, wrote e-mail 26.08.2024, waiting for answer\n",
    "\n",
    "# Titles\n",
    "axs[0].set_title('Spawn et al. 2020 [S6]; AGBC 2010\\nStandard error of prediction')\n",
    "axs[1].set_title('Santoro & Cartus, 2024 [S7]; Mean AGB 2015-2021\\nStandard deviation')\n",
    "axs[2].set_title('Spawn et al. 2020 [S6]; BGBC 2010\\nStandard error of prediction')\n",
    "axs[3].set_title('Huang et al. 2021 [S8]; BGB 2010\\nStandard deviation')\n",
    "axs[4].set_title('Poggio et al. 2021 [S9]; SOC 0-30 cm\\nRatio between inter-quantile range and median')\n",
    "axs[5].set_title('FAO 2022 [S10]; SOC 0-30 cm\\nNo uncertainty estimates')\n",
    "\n",
    "# Export\n",
    "plt.savefig(os.path.join(dir06, 'pdf/figs12_uncertainties_underlying_maps.pdf'), bbox_inches='tight', dpi=600)\n",
    "plt.savefig(os.path.join(dir06, 'png/figs12_uncertainties_underlying_maps.png'), bbox_inches='tight', dpi=600);"
   ]
  },
  {
   "cell_type": "code",
   "execution_count": null,
   "id": "d43b90a1-ea10-4d9e-b3e1-2b0a9c7eeadd",
   "metadata": {},
   "outputs": [],
   "source": [
    "cluster.close()"
   ]
  }
 ],
 "metadata": {
  "kernelspec": {
   "display_name": "Python 3.12 (deficit)",
   "language": "python",
   "name": "deficit_python312"
  },
  "language_info": {
   "codemirror_mode": {
    "name": "ipython",
    "version": 3
   },
   "file_extension": ".py",
   "mimetype": "text/x-python",
   "name": "python",
   "nbconvert_exporter": "python",
   "pygments_lexer": "ipython3",
   "version": "3.12.6"
  }
 },
 "nbformat": 4,
 "nbformat_minor": 5
}
