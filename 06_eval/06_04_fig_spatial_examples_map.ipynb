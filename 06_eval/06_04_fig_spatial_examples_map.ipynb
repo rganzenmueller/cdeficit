{
 "cells": [
  {
   "cell_type": "markdown",
   "id": "8b5acb64-07e6-49d7-8f38-29799b8ceb4e",
   "metadata": {},
   "source": [
    "# Figures Spatial examples"
   ]
  },
  {
   "cell_type": "code",
   "execution_count": null,
   "id": "5fc1ca97-933e-46c6-9e21-d907e41b0f15",
   "metadata": {},
   "outputs": [],
   "source": [
    "# Libraries\n",
    "import os\n",
    "import xarray as xr\n",
    "import geopandas as gpd\n",
    "import matplotlib.pyplot as plt\n",
    "import matplotlib.patches as patches\n",
    "import cartopy.crs as ccrs\n",
    "from matplotlib.ticker import FormatStrFormatter\n",
    "from matplotlib.ticker import MaxNLocator"
   ]
  },
  {
   "cell_type": "code",
   "execution_count": null,
   "id": "99fad4a6-5701-44cd-896b-c5db257baf54",
   "metadata": {},
   "outputs": [],
   "source": [
    "# Directories\n",
    "dir04 = '../paper_deficit/output/04_out/'\n",
    "dir05 = '../paper_deficit/output/05_prep_other/'\n",
    "dir06 = '../paper_deficit/output/06_eval/'\n",
    "dir_nearth = '../data/naturalearth/'"
   ]
  },
  {
   "cell_type": "markdown",
   "id": "a7dfb7e9-987f-4907-ae61-12975afbeb27",
   "metadata": {},
   "source": [
    "---"
   ]
  },
  {
   "cell_type": "code",
   "execution_count": null,
   "id": "d867f2c2-50a1-4ce1-af68-36d49f6db96f",
   "metadata": {},
   "outputs": [],
   "source": [
    "# Libraries\n",
    "from dask_jobqueue import SLURMCluster\n",
    "from dask.distributed import Client\n",
    "import dask\n",
    "\n",
    "# Initialize dask\n",
    "cluster = SLURMCluster(\n",
    "    queue='compute',                      # SLURM queue to use\n",
    "    cores=12,                             # Number of CPU cores per job\n",
    "    memory='256 GB',                      # Memory per job\n",
    "    account='bm0891',                     # Account allocation\n",
    "    interface=\"ib0\",                      # Network interface for communication\n",
    "    walltime='01:00:00',                  # Maximum runtime per job\n",
    "    local_directory='../dask/',           # Directory for local storage\n",
    "    job_extra_directives=[                # Additional SLURM directives for logging\n",
    "        '-o ../dask/LOG_worker_%j.o',     # Output log\n",
    "        '-e ../dask/LOG_worker_%j.e'      # Error log\n",
    "    ]\n",
    ")\n",
    "\n",
    "# Scale dask cluster\n",
    "cluster.scale(jobs=2)\n",
    "\n",
    "# Configurate dashboard url\n",
    "dask.config.config.get('distributed').get('dashboard').update(\n",
    "    {'link': '{JUPYTERHUB_SERVICE_PREFIX}/proxy/{port}/status'}\n",
    ")\n",
    "\n",
    "# Create client\n",
    "client = Client(cluster)\n",
    "\n",
    "client"
   ]
  },
  {
   "cell_type": "code",
   "execution_count": null,
   "id": "67b2162c-cd1b-4aad-b51f-c22055c8c866",
   "metadata": {},
   "outputs": [],
   "source": [
    "# Get coastline shapefile\n",
    "coastline110 = gpd.read_file(\n",
    "    dir_nearth + 'ne_110m_coastline/ne_110m_coastline.shp')"
   ]
  },
  {
   "cell_type": "code",
   "execution_count": null,
   "id": "fd34327e-8333-41d6-bdc3-6890f1d02b37",
   "metadata": {},
   "outputs": [],
   "source": [
    "# Get carbon densities from analysis and create cveg and csoil arrays\n",
    "ds_agbc = xr.open_dataset(os.path.join(dir04, 'agbc.nc')) \\\n",
    "    .chunk(lat=5000, lon=5000).persist()\n",
    "ds_bgbc = xr.open_dataset(os.path.join(dir04, 'bgbc.nc')) \\\n",
    "    .chunk(lat=5000, lon=5000).persist()\n",
    "ds_soc = xr.open_dataset(os.path.join(dir04, 'soc.nc')) \\\n",
    "    .chunk(lat=5000, lon=5000).persist()\n",
    "\n",
    "da_cveg_act = ds_agbc.agbc_max_act + ds_bgbc.bgbc_max_act\n",
    "da_cveg_pot = ds_agbc.agbc_max_prim + ds_bgbc.bgbc_max_prim\n",
    "\n",
    "da_soc_act = ds_soc.soc_mean_act\n",
    "da_soc_pot = ds_soc.soc_mean_prim"
   ]
  },
  {
   "cell_type": "code",
   "execution_count": null,
   "id": "27ddb0b8-d054-47c8-afa4-771f29d1ee7d",
   "metadata": {},
   "outputs": [],
   "source": [
    "# Get prepared data from other studies\n",
    "ds_erb = xr.open_zarr(\n",
    "    os.path.join(dir05, 'fig_example/ds_erb_preped.zarr')).persist()\n",
    "ds_sand = xr.open_zarr(\n",
    "    os.path.join(dir05, 'fig_example/ds_sand_preped.zarr')).persist()\n",
    "ds_walker = xr.open_zarr(\n",
    "    os.path.join(dir05, 'fig_example/ds_walker_preped.zarr')).persist()\n",
    "ds_mo = xr.open_zarr(\n",
    "    os.path.join(dir05, 'fig_example/ds_mo_preped.zarr')).persist()"
   ]
  },
  {
   "cell_type": "markdown",
   "id": "2daf5e7b-f540-4795-87bf-fa5647cc58e0",
   "metadata": {},
   "source": [
    "---"
   ]
  },
  {
   "cell_type": "code",
   "execution_count": null,
   "id": "585247c7-c62d-421e-ab8b-217072fdbcdf",
   "metadata": {},
   "outputs": [],
   "source": [
    "# Plot functions\n",
    "def plot_sub(fig, ax, da, vmax, lat_min, lat_max, lon_min, lon_max, cmap, \n",
    "             cbar=False, ax_cbar = False):\n",
    "    \"\"\"Prepare subplot\"\"\"\n",
    "    # slice data\n",
    "    da_sub = da.sel(lat=slice(lat_max, lat_min), \n",
    "                    lon=slice(lon_min, lon_max))\n",
    "\n",
    "    # plot\n",
    "    im = da_sub.plot.imshow(ax=ax, vmin=0, vmax=vmax, \n",
    "                             cmap=cmap, add_colorbar=False)\n",
    "    # colorbar\n",
    "    if cbar == True:\n",
    "        cbar0 = fig.colorbar(im, ax=ax_cbar, orientation='vertical', \n",
    "                             extend='max', label='tC ha$^{-1}$', shrink=1, \n",
    "                             aspect=25, pad=0.02)   \n",
    "        cbar0.ax.tick_params(size=0)\n",
    "    return im\n",
    "\n",
    "\n",
    "def plot_example(lat_min, lat_max, lon_min, lon_max, vmax_veg, vmax_soil, \n",
    "                 name_out=None):\n",
    "    \n",
    "    \"\"\"Plot extracts of our data, Walker, Erb, and Sanderman\"\"\"\n",
    "    \n",
    "    # Coordinate selection\n",
    "    coords = lat_min, lat_max, lon_min, lon_max\n",
    "\n",
    "    # Plot\n",
    "    fig = plt.figure(figsize=(9, 9), dpi=600, constrained_layout=True)\n",
    "    fig.set_facecolor('#ffffff')\n",
    "\n",
    "    gs = fig.add_gridspec(5, 4, \n",
    "                          hspace=0.1, wspace=0.1,\n",
    "                          width_ratios=(0.25, 0.25, 0.25, 0.25), \n",
    "                          height_ratios=(0.2, 0.2, 0.2, 0.2, 0.2))\n",
    "\n",
    "    axes = [fig.add_subplot(gs[i, j], aspect='auto') for i in range(5) for j in range(4)]\n",
    "\n",
    "    # Subplots\n",
    "    # Define all plot configurations\n",
    "    plot_configs = [\n",
    "        {'ax': axes[0], 'data': da_cveg_act, 'vmax': vmax_veg, 'cbar': True, 'cbar_ax': [axes[0], axes[1]]},\n",
    "        {'ax': axes[1], 'data': da_cveg_pot, 'vmax': vmax_veg, 'cbar': False},\n",
    "        {'ax': axes[2], 'data': da_soc_act, 'vmax': vmax_soil, 'cbar': True, 'cbar_ax': [axes[2], axes[3]]},\n",
    "        {'ax': axes[3], 'data': da_soc_pot, 'vmax': vmax_soil, 'cbar': False},\n",
    "        {'ax': axes[4], 'data': ds_mo.mo_cveg_act, 'vmax': vmax_veg, 'cbar': True, 'cbar_ax': [axes[4], axes[5]]},\n",
    "        {'ax': axes[5], 'data': ds_mo.mo_cveg_pot, 'vmax': vmax_veg, 'cbar': False},\n",
    "        {'ax': axes[8], 'data': ds_walker.cveg_act, 'vmax': vmax_veg, 'cbar': True, 'cbar_ax': [axes[8], axes[9]]},\n",
    "        {'ax': axes[9], 'data': ds_walker.cveg_pot, 'vmax': vmax_veg, 'cbar': False},\n",
    "        {'ax': axes[10], 'data': ds_walker.csoil_act, 'vmax': vmax_soil * 4, 'cbar': True, 'cbar_ax': [axes[10], axes[11]]},\n",
    "        {'ax': axes[11], 'data': ds_walker.csoil_pot, 'vmax': vmax_soil * 4, 'cbar': False},\n",
    "        {'ax': axes[12], 'data': ds_erb.erb_cveg_act, 'vmax': vmax_veg, 'cbar': True, 'cbar_ax': [axes[12], axes[13]]},\n",
    "        {'ax': axes[13], 'data': ds_erb.erb_cveg_pot, 'vmax': vmax_veg, 'cbar': False},\n",
    "        {'ax': axes[18], 'data': ds_sand.sand_soc_act, 'vmax': vmax_soil, 'cbar': True, 'cbar_ax': [axes[18], axes[19]]},\n",
    "        {'ax': axes[19], 'data': ds_sand.sand_soc_pot, 'vmax': vmax_soil, 'cbar': False},\n",
    "    ]\n",
    "\n",
    "    # Dictionary with axes that will have data\n",
    "    used_axes_indices = {config['ax'] for config in plot_configs}\n",
    "\n",
    "    # Loop through plot_configs list and create subplots\n",
    "    for config in plot_configs:\n",
    "        cbar_axes = config.get('cbar_ax', False)\n",
    "        plot_sub(fig, config['ax'], config['data'], config['vmax'], *coords, \n",
    "                 'gist_earth_r', config['cbar'], cbar_axes)\n",
    "\n",
    "    # Subplot layout \n",
    "    for ax in axes:       \n",
    "        # Layout of subplots with data\n",
    "        if ax in used_axes_indices:\n",
    "                ax.grid(zorder=1)\n",
    "                ax.tick_params(axis='both', which='major', labelsize='medium')\n",
    "        \n",
    "        # Layout of subplots without data\n",
    "        if ax not in used_axes_indices:\n",
    "            ax.set_xlim(lon_min, lon_max)\n",
    "            ax.set_ylim(lat_min, lat_max)\n",
    "            ax.set_facecolor('#d9d9d9')\n",
    "            ax.tick_params(axis='both', which='major', labelsize='medium', \n",
    "                           labelcolor='none', color='none')\n",
    "        # General\n",
    "        ax.set_xlabel('')\n",
    "        ax.set_ylabel('')\n",
    "        ax.yaxis.set_major_locator(MaxNLocator(integer=True))\n",
    "        ax.xaxis.set_major_locator(MaxNLocator(integer=True))\n",
    "        \n",
    "        # Remove y-ticks and ticklabels of selected subplots\n",
    "        if ax in [axes[i] for i in [1, 3, 5, 7, 9, 11, 13, 15, 17, 19]]:\n",
    "            ax.tick_params(axis='y', left=False, labelleft=False)\n",
    "    \n",
    "    # Small text boxes inside subplots\n",
    "    for i in [axes[2], axes[3], axes[18], axes[19]]:\n",
    "        i.text(0.02, 0.02, '0–30 cm', transform=i.transAxes,\n",
    "               ha='left', va='bottom', size='medium', zorder=3)\n",
    "        i.add_patch(patches.Rectangle(\n",
    "            (lon_min,lat_min), 0.9, 0.32, \n",
    "            color='#ffffff', alpha=0.75, lw=1, ec='#000000', zorder=2))\n",
    "    for i in [axes[4], axes[5]]:\n",
    "        i.text(0.02, 0.02, 'Forest biomass only', transform=i.transAxes,\n",
    "               ha='left', va='bottom', size='medium', zorder=3)\n",
    "        i.add_patch(patches.Rectangle(\n",
    "            (lon_min,lat_min), 2, 0.32, \n",
    "            color='#ffffff', alpha=0.75, lw=1, ec='#000000', zorder=2))        \n",
    "    for i in [axes[10], axes[11]]:\n",
    "        i.text(0.02, 0.02, '0–200 cm', transform=i.transAxes,\n",
    "               ha='left', va='bottom', size='medium', zorder=3)\n",
    "        i.add_patch(patches.Rectangle(\n",
    "            (lon_min,lat_min), 1, 0.32, \n",
    "            color='#ffffff', alpha=0.75, lw=1, ec='#000000', zorder=2))\n",
    "    for i in [axes[6], axes[7]]:\n",
    "        i.text(0.02, 0.02, 'From Sanderman\\net al. 2017', transform=i.transAxes,\n",
    "               ha='left', va='bottom', size='medium')\n",
    "    for i in [axes[14], axes[15], axes[16], axes[17]]:\n",
    "        i.text(0.02, 0.02, 'NA', transform=i.transAxes,\n",
    "               ha='left', va='bottom', size='medium')\n",
    "        \n",
    "    # Column titles\n",
    "    axes[0].set_title('Actual\\nAGBC + BGBC', size='medium')\n",
    "    axes[1].set_title('Potential\\nAGBC + BGBC', size='medium')\n",
    "    axes[2].set_title('Actual\\nSOC', size='medium')\n",
    "    axes[3].set_title('Potential\\nSOC', size='medium')\n",
    "\n",
    "    # Row titles\n",
    "    if name_out is not None and name_out.startswith('fig04'):\n",
    "        l_mo = 'Mo et al.\\n2023$^{10}$'\n",
    "        l_walker = 'Walker et al.\\n2022$^{8}$' \n",
    "        l_erb = 'Erb et al.\\n2018$^{6}$'\n",
    "        l_sand = 'Sanderman\\net al. 2017$^{7}$'\n",
    "    elif name_out is not None and name_out.startswith('figs03'):\n",
    "        l_mo = 'Mo et al.\\n2023 [S1]'\n",
    "        l_walker = 'Walker et al.\\n2022 [S2]' \n",
    "        l_erb = 'Erb et al.\\n2018 [S3]' \n",
    "        l_sand = 'Sanderman\\net al. 2017 [S4]'\n",
    "    else:\n",
    "        l_mo = 'Mo et al.\\n2023'\n",
    "        l_walker = 'Walker et al.\\n2022' \n",
    "        l_erb = 'Erb et al.\\n2018' \n",
    "        l_sand = 'Sanderman\\net al. 2017'\n",
    "  \n",
    "    axes[0].set_ylabel('This\\nstudy', size='medium')\n",
    "    axes[4].set_ylabel(l_mo, size='medium')\n",
    "    axes[8].set_ylabel(l_walker, size='medium')\n",
    "    axes[12].set_ylabel(l_erb, size='medium')\n",
    "    axes[16].set_ylabel(l_sand, size='medium')\n",
    "\n",
    "    # Export\n",
    "    if name_out != None:\n",
    "        plt.savefig(os.path.join(dir06, f'{name_out}.pdf'), dpi=600, bbox_inches='tight', pad_inches=0.1)\n",
    "        plt.savefig(os.path.join(dir06, f'{name_out}.png'), dpi=600, bbox_inches='tight', pad_inches=0.1);"
   ]
  },
  {
   "cell_type": "code",
   "execution_count": null,
   "id": "e5c12c4c-bc1a-4ab8-9faa-3a90b8a599a2",
   "metadata": {},
   "outputs": [],
   "source": [
    "# Alps\n",
    "plot_example(45.9, 47.9, 8.9, 10.9, 190, 200, 'fig04_spatial_example_alps_map')"
   ]
  },
  {
   "cell_type": "code",
   "execution_count": null,
   "id": "abf87e89-61f3-4555-bf5a-14d2862d37d9",
   "metadata": {},
   "outputs": [],
   "source": [
    "# Amazon\n",
    "plot_example(-0.1, 1.9, -61.1, -59.1, 275, 80, 'figs03_spatial_example_brazil_map')"
   ]
  },
  {
   "cell_type": "code",
   "execution_count": null,
   "id": "0863aea8-f89d-48d3-a8ef-7b72263a69b4",
   "metadata": {},
   "outputs": [],
   "source": [
    "# Amazon\n",
    "plot_example(-10.5, -8.5, -68, -66, 320, 100)"
   ]
  },
  {
   "cell_type": "code",
   "execution_count": null,
   "id": "c2321e3a-2839-411c-89f8-b97e84b6f2bc",
   "metadata": {},
   "outputs": [],
   "source": [
    "# Amazon\n",
    "plot_example(-10.5, -8.5, -67, -65, 320, 100)"
   ]
  },
  {
   "cell_type": "code",
   "execution_count": null,
   "id": "a729163e-255d-482b-8d10-330235896d4e",
   "metadata": {},
   "outputs": [],
   "source": [
    "# Nile\n",
    "plot_example(27, 29, 30, 32, 50, 100)"
   ]
  },
  {
   "cell_type": "code",
   "execution_count": null,
   "id": "0324cad3-8ee9-4875-9156-a84b37b022df",
   "metadata": {},
   "outputs": [],
   "source": [
    "# Bangladesh\n",
    "plot_example(21.5, 23.5, 88, 90, 200, 200)"
   ]
  },
  {
   "cell_type": "code",
   "execution_count": null,
   "id": "98e49e94-2017-421b-b47f-63803d2345d5",
   "metadata": {},
   "outputs": [],
   "source": [
    "# Bangladesh\n",
    "plot_example(21, 26, 110, 115, 250, 200)"
   ]
  },
  {
   "cell_type": "code",
   "execution_count": null,
   "id": "df436706-b325-4387-b2ad-317d4769af69",
   "metadata": {},
   "outputs": [],
   "source": [
    "# Amazon\n",
    "plot_example(-8, -7, -73, -72, 320, 100)"
   ]
  },
  {
   "cell_type": "code",
   "execution_count": null,
   "id": "d4d5db18-c396-464a-8a1a-6bdbe40020f9",
   "metadata": {},
   "outputs": [],
   "source": [
    "# Amazon\n",
    "plot_example(-4.5, -2.5, -54, -52, 320, 100)"
   ]
  },
  {
   "cell_type": "code",
   "execution_count": null,
   "id": "8fa9401b-44a0-41c0-bea9-9bfb426af648",
   "metadata": {},
   "outputs": [],
   "source": [
    "# Los nevados\n",
    "plot_example(4, 6, -76, -74, 250, 300)"
   ]
  },
  {
   "cell_type": "code",
   "execution_count": null,
   "id": "f4c1f30c-9234-423a-9351-9460960f0dab",
   "metadata": {},
   "outputs": [],
   "source": [
    "# Los nevados\n",
    "plot_example(4, 6, -76, -74, 250, 300)"
   ]
  },
  {
   "cell_type": "code",
   "execution_count": null,
   "id": "8d137a65-587c-47ab-93e6-f640119caf11",
   "metadata": {},
   "outputs": [],
   "source": [
    "# Colorado\n",
    "plot_example(38.5, 40.5, -106, -104, 150, 200)"
   ]
  },
  {
   "cell_type": "code",
   "execution_count": null,
   "id": "985c1f34-06b8-45ca-a544-ddf174e1624b",
   "metadata": {},
   "outputs": [],
   "source": [
    "# Nepal\n",
    "plot_example(27, 29, 84, 86, 200, 200)"
   ]
  },
  {
   "cell_type": "code",
   "execution_count": null,
   "id": "c5ba3a79-8ddb-4c6f-a4ca-cf13dee68087",
   "metadata": {},
   "outputs": [],
   "source": [
    "# Nepal\n",
    "plot_example(27, 29, 87, 89, 200, 200)"
   ]
  },
  {
   "cell_type": "code",
   "execution_count": null,
   "id": "81c33911-0e85-4dfa-8de5-a46b05922786",
   "metadata": {},
   "outputs": [],
   "source": [
    "# Malaysia\n",
    "plot_example(0, 2, 111, 113, 300, 200)"
   ]
  },
  {
   "cell_type": "code",
   "execution_count": null,
   "id": "88284325-fc03-41c5-b86f-fa77821dcfc6",
   "metadata": {},
   "outputs": [],
   "source": [
    "# Kenia\n",
    "plot_example(-1, 1, 36, 38, 250, 200)"
   ]
  },
  {
   "cell_type": "code",
   "execution_count": null,
   "id": "e69f88ba-8e4c-425c-98e4-8016fa3dd19b",
   "metadata": {},
   "outputs": [],
   "source": [
    "# Ural\n",
    "plot_example(65, 67, 59, 61, 100, 250)"
   ]
  },
  {
   "cell_type": "code",
   "execution_count": null,
   "id": "9c892bdd-d0f0-40c3-9469-98539577f761",
   "metadata": {},
   "outputs": [],
   "source": [
    "# Iceland\n",
    "plot_example(64, 66, -21, -19, 50, 200)"
   ]
  },
  {
   "cell_type": "code",
   "execution_count": null,
   "id": "f977bebf-c7c9-4e30-8877-25eb7bc7497b",
   "metadata": {},
   "outputs": [],
   "source": [
    "# Vancouver\n",
    "plot_example(50, 52, -125, -123, 250, 200)"
   ]
  },
  {
   "cell_type": "code",
   "execution_count": null,
   "id": "902c8986-2be8-4a25-8501-be77fadf0379",
   "metadata": {},
   "outputs": [],
   "source": [
    "# Titicaca\n",
    "plot_example(-17, -15, -69, -67, 250, 200)"
   ]
  },
  {
   "cell_type": "code",
   "execution_count": null,
   "id": "ba37aaac-12a7-47bf-8ed3-a0cf54022938",
   "metadata": {},
   "outputs": [],
   "source": [
    "cluster.close()"
   ]
  }
 ],
 "metadata": {
  "kernelspec": {
   "display_name": "Python 3.12 (deficit)",
   "language": "python",
   "name": "deficit_python312"
  },
  "language_info": {
   "codemirror_mode": {
    "name": "ipython",
    "version": 3
   },
   "file_extension": ".py",
   "mimetype": "text/x-python",
   "name": "python",
   "nbconvert_exporter": "python",
   "pygments_lexer": "ipython3",
   "version": "3.12.6"
  }
 },
 "nbformat": 4,
 "nbformat_minor": 5
}
