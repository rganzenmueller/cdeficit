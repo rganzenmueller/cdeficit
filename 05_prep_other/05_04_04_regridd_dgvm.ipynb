{
 "cells": [
  {
   "cell_type": "markdown",
   "id": "902f88b8-c470-42c7-82a9-df43a3820473",
   "metadata": {},
   "source": [
    "# Prepare data for Figure \"DGVM\" - Regridd DGVMs using CDO"
   ]
  },
  {
   "cell_type": "code",
   "execution_count": null,
   "id": "f75f9266-a1ce-42b8-bfeb-8efaf38a0388",
   "metadata": {},
   "outputs": [],
   "source": [
    "%%bash\n",
    "\n",
    "module load cdo\n",
    "\n",
    "for i in cablepop classic clm dlem ibis isam jsbach jules lpjguess lpjwsl orchidee\n",
    "do \n",
    "    echo \"$i\"\n",
    "    cd ../paper_deficit/output/05_prep_other/fig_dgvm/\n",
    "    cdo -P 12 remapycon,\"$i\"/ds_\"$i\".nc luh2/ds_luh2_prim_1700.nc \"$i\"/ds_\"$i\"_prim.nc\n",
    "    cdo -P 12 remapycon,luh2/ds_luh2_prim_1700.nc \"$i\"/ds_\"$i\".nc \"$i\"/ds_\"$i\"_luh2res.nc\n",
    "    cdo -P 12 remapycon,luh2/ds_luh2_prim_1700.nc \"$i\"/ds_\"$i\"_1700_2021.nc \"$i\"/ds_\"$i\"_1700_2021_luh2res.nc\n",
    "    cdo -P 12 remapycon,luh2/ds_luh2_prim_1700.nc \"$i\"/ds_\"$i\"_land.nc \"$i\"/ds_\"$i\"_land_luh2res.nc\n",
    "    cdo -P 12 remapycon,\"$i\"/ds_\"$i\".nc luh2/ds_luh2_land.nc \"$i\"/ds_luh2_land_\"$i\"res.nc\n",
    "done"
   ]
  }
 ],
 "metadata": {
  "kernelspec": {
   "display_name": "Python 3.12 (deficit)",
   "language": "python",
   "name": "deficit_python312"
  },
  "language_info": {
   "codemirror_mode": {
    "name": "ipython",
    "version": 3
   },
   "file_extension": ".py",
   "mimetype": "text/x-python",
   "name": "python",
   "nbconvert_exporter": "python",
   "pygments_lexer": "ipython3",
   "version": "3.12.6"
  }
 },
 "nbformat": 4,
 "nbformat_minor": 5
}
