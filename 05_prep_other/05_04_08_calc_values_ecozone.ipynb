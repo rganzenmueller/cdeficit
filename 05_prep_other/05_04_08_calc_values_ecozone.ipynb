{
 "cells": [
  {
   "cell_type": "markdown",
   "id": "399ef6a2-005b-4b60-a7e3-82109671a58c",
   "metadata": {},
   "source": [
    "# Calculate ecozone carbon stocks for 1700 primary land area"
   ]
  },
  {
   "cell_type": "code",
   "execution_count": null,
   "id": "5276d716-95e2-4986-beca-a929fd0b35bf",
   "metadata": {},
   "outputs": [],
   "source": [
    "# Directories\n",
    "dir_data = '../data/'\n",
    "dir05x = '../paper_deficit/output/05_prep_other/fig_dgvm/'"
   ]
  },
  {
   "cell_type": "code",
   "execution_count": null,
   "id": "17aff018-fc24-4c69-9ee5-88af7c87630d",
   "metadata": {},
   "outputs": [],
   "source": [
    "# Libraries\n",
    "import os\n",
    "import numpy as np\n",
    "import pandas as pd\n",
    "import xarray as xr\n",
    "import geopandas as gpd"
   ]
  },
  {
   "cell_type": "markdown",
   "id": "ddb70ea3-aabb-4424-bb15-3081981361d0",
   "metadata": {},
   "source": [
    "---"
   ]
  },
  {
   "cell_type": "code",
   "execution_count": null,
   "id": "e74c469d-8319-4a3c-8fa0-b708407486c9",
   "metadata": {},
   "outputs": [],
   "source": [
    "# Get data\n",
    "ds = xr.open_dataset(os.path.join(dir05x, 'dgvms_and_other_luh2res.nc'))"
   ]
  },
  {
   "cell_type": "code",
   "execution_count": null,
   "id": "fae51afc-98d2-40a9-9fc6-fcea76fcb6eb",
   "metadata": {},
   "outputs": [],
   "source": [
    "# Ecozone shapefile\n",
    "shp = gpd.read_file(dir_data + 'fao2010gez/gez_2010_wgs84.shp')\n",
    "\n",
    "# Group regions\n",
    "list_trop1 = [11]\n",
    "list_trop2 = [12, 13, 14, 15, 16]\n",
    "list_subt = [21, 22, 23, 24, 25]\n",
    "list_temp = [31, 32, 33, 34, 35]\n",
    "list_bore = [41, 42, 43]\n",
    "list_pola = [50]\n",
    "\n",
    "# Assign unique ecozone values and names\n",
    "shp = shp.assign(code2 = np.nan)\n",
    "shp.loc[shp.gez_code.isin(list_trop1), 'code2'] = 0\n",
    "shp.loc[shp.gez_code.isin(list_trop2), 'code2'] = 1\n",
    "shp.loc[shp.gez_code.isin(list_subt), 'code2'] = 2\n",
    "shp.loc[shp.gez_code.isin(list_temp), 'code2'] = 3\n",
    "shp.loc[shp.gez_code.isin(list_bore), 'code2'] = 4\n",
    "shp.loc[shp.gez_code.isin(list_pola), 'code2'] = 5\n",
    "shp.loc[shp.gez_code.isin(list_trop1), 'name'] = 'trop1'\n",
    "shp.loc[shp.gez_code.isin(list_trop2), 'name'] = 'trop2'\n",
    "shp.loc[shp.gez_code.isin(list_subt), 'name'] = 'subt'\n",
    "shp.loc[shp.gez_code.isin(list_temp), 'name'] = 'temp'\n",
    "shp.loc[shp.gez_code.isin(list_bore), 'name'] = 'bore'\n",
    "shp.loc[shp.gez_code.isin(list_pola), 'name'] = 'pola'"
   ]
  },
  {
   "cell_type": "code",
   "execution_count": null,
   "id": "97f39a88-b021-4891-ace2-6e78d937a6f7",
   "metadata": {},
   "outputs": [],
   "source": [
    "def prep_ds_carbon_sum_luh2res(m, cat):\n",
    "    \"\"\" Calculate carbon stocks on primary land of dgvm\"\"\"\n",
    "\n",
    "    # Get data\n",
    "    dsm = ds[[i for i in ds.data_vars \n",
    "              if i.startswith(m) and i.endswith(('cveg', 'csoil'))]]\n",
    "    da_land = ds[f'{m}_land']\n",
    "    da_prim = ds.luh2_primary_1700\n",
    "    da_area = ds.grid_cell_area_ha\n",
    "    da_fao = ds[f'fao2010_{cat}']\n",
    "\n",
    "    # Create primary land mask\n",
    "    da_prim_land = xr.where(da_prim == da_prim, 1, 0)\n",
    "    \n",
    "    # Calculate carbon stocks\n",
    "    ds_sum = (dsm * da_land * da_prim * da_prim_land * da_area) \\\n",
    "        .rio.write_crs('4326') \\\n",
    "        .rename(lat='y', lon='x') \\\n",
    "        .rio.clip(shp[shp.name == cat].geometry, all_touched=False) \\\n",
    "        .sum(['y', 'x']) * 0.000000001\n",
    "\n",
    "    # Create dataframe with carbon stocks of vegetation, soil of\n",
    "    # s2 and s3 simulations\n",
    "    df_sum = pd.DataFrame()\n",
    "    df_sum = df_sum.assign(model = [m], \n",
    "                           cat = [cat])\n",
    "    for i in ['s2_cveg', 's3_cveg', 's2_csoil', 's3_csoil']:\n",
    "        if m + '_' + i in ds_sum.data_vars:\n",
    "            df_sum[i] = [ds_sum[m + '_' + i].values.astype(float).round(2)]\n",
    "        \n",
    "    return df_sum"
   ]
  },
  {
   "cell_type": "code",
   "execution_count": null,
   "id": "c0753ed3-d4c9-4eb0-8567-b2e01d8d032e",
   "metadata": {},
   "outputs": [],
   "source": [
    "# List of dgvms\n",
    "list_dgvm = ['cablepop', 'classic', 'clm', 'dlem', 'ibis', 'isam', 'jsbach', \n",
    "             'jules', 'lpjguess', 'lpjwsl', 'orchidee']\n",
    "\n",
    "# List of dgvms and other data\n",
    "list_m = ['ganzenmueller', 'erb', 'walker', 'mo', 'sanderman030', \n",
    "          'sanderman100', 'sanderman200', * list_dgvm]\n",
    "\n",
    "# List of ecozones\n",
    "list_cat = ['trop1', 'trop2', 'subt', 'temp', 'bore', 'pola']\n",
    "\n",
    "# Create dataframe with carbon stocks on primary land data of \n",
    "# dgvms, this study, walker, erb, and sanderman\n",
    "df_sum = pd.concat([prep_ds_carbon_sum_luh2res(m, cat) \n",
    "           for m in list_m \n",
    "           for cat in list_cat])\n",
    "\n",
    "df_sum_dgvm = df_sum[df_sum.model.isin(list_dgvm)]\n",
    "\n",
    "# Add rows for dgvm mean\n",
    "for cat in np.unique(df_sum.cat):\n",
    "    new_row = ['dgvm_mean', cat, \n",
    "               *df_sum_dgvm[df_sum_dgvm.cat == cat].iloc[:,2:].mean(axis=0)]\n",
    "    df_sum.loc[len(df_sum)] = new_row\n",
    "\n",
    "# Column vegetation deficit\n",
    "df_sum['cveg_d'] = df_sum.s3_cveg - df_sum.s2_cveg\n",
    "# Colum vegetationd deficit in %\n",
    "df_sum['cveg_dp'] = 1-(df_sum.s3_cveg / df_sum.s2_cveg)\n",
    "# Column soil deficit\n",
    "df_sum['csoil_d'] = df_sum.s3_csoil - df_sum.s2_csoil\n",
    "# Column soil deficit in %\n",
    "df_sum['csoil_dp'] =1-( df_sum.s3_csoil / df_sum.s2_csoil)\n",
    "# Select relevant columns\n",
    "df_sum[['model', 'cat', 's2_cveg', 's3_cveg', 'cveg_d', 'cveg_dp', \n",
    "        's2_csoil', 's3_csoil', 'csoil_d', 'csoil_dp']] \\\n",
    "    .reset_index(drop=True) \\\n",
    "    .round(2)\n",
    "# Export\n",
    "df_sum.to_csv(os.path.join(dir05x, 'data_dgvm_ecozone.csv'), index=False)\n",
    "\n",
    "df_sum"
   ]
  },
  {
   "cell_type": "markdown",
   "id": "89f3ad2f-ba02-4112-bbba-490d30058ddb",
   "metadata": {},
   "source": [
    "---"
   ]
  },
  {
   "cell_type": "markdown",
   "id": "ead5eb8d-7583-4cad-b541-427bcaf0253f",
   "metadata": {},
   "source": [
    "### Check difference between global values and sum of ecosystem values"
   ]
  },
  {
   "cell_type": "code",
   "execution_count": null,
   "id": "0ede10ae-ce6c-4862-b8bf-ad4dff3b7a75",
   "metadata": {},
   "outputs": [],
   "source": [
    "# Get data\n",
    "df_g = pd.read_csv(os.path.join(dir05x, 'data_dgvm_global.csv'))\n",
    "df_e = pd.read_csv(os.path.join(dir05x, 'data_dgvm_ecozone.csv'))\n",
    "\n",
    "# Calculate differences\n",
    "df_g = df_g.set_index('model')\n",
    "df_e2 = df_e.groupby('model').sum().drop(columns='cat').round(2)\n",
    "df_g.subtract(df_e2)[df_g.columns]\n",
    "# differences are quite small for deficit estimates"
   ]
  }
 ],
 "metadata": {
  "kernelspec": {
   "display_name": "Python 3.12 (deficit)",
   "language": "python",
   "name": "deficit_python312"
  },
  "language_info": {
   "codemirror_mode": {
    "name": "ipython",
    "version": 3
   },
   "file_extension": ".py",
   "mimetype": "text/x-python",
   "name": "python",
   "nbconvert_exporter": "python",
   "pygments_lexer": "ipython3",
   "version": "3.12.6"
  }
 },
 "nbformat": 4,
 "nbformat_minor": 5
}
