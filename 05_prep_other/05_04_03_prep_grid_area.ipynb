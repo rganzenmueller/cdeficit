{
 "cells": [
  {
   "cell_type": "markdown",
   "id": "92823758-a1ba-4802-938e-c10d22b0d475",
   "metadata": {},
   "source": [
    "# Prepare data for Figure \"DGVM\" - Prepare grid cell area data"
   ]
  },
  {
   "cell_type": "code",
   "execution_count": null,
   "id": "f6557f60-6a59-41a1-94ff-1506d727da18",
   "metadata": {},
   "outputs": [],
   "source": [
    "# Libraries\n",
    "import os\n",
    "import xarray as xr\n",
    "import rioxarray"
   ]
  },
  {
   "cell_type": "code",
   "execution_count": null,
   "id": "5f01e0d9-f0ef-45e9-a608-057ea43a7462",
   "metadata": {},
   "outputs": [],
   "source": [
    "# Directories\n",
    "dir05x = '../paper_deficit/output/05_prep_other/fig_dgvm/'"
   ]
  },
  {
   "cell_type": "markdown",
   "id": "b8f49e8a-0239-458a-8df4-6b88770e4534",
   "metadata": {},
   "source": [
    "---"
   ]
  },
  {
   "cell_type": "code",
   "execution_count": null,
   "id": "ceb87352-317c-495e-b439-a54e89752505",
   "metadata": {},
   "outputs": [],
   "source": [
    "# Import functions to calculate grid cell area and grid cell boundaries\n",
    "from xgrid_utils import grid_cell_areas\n",
    "\n",
    "def prep_da_grid_cell_area(da):\n",
    "    \"\"\"Create land-sea mask from dataarray\"\"\"\n",
    "    return xr.DataArray(data=grid_cell_areas(da.lon.data, da.lat.data),\n",
    "                 dims=('lat', 'lon'), \n",
    "                 coords=(da.lat.data, da.lon.data,)) * 0.0001 # convert from m2 to ha"
   ]
  },
  {
   "cell_type": "code",
   "execution_count": null,
   "id": "395d766e-8110-4401-9c61-3bf4914baa9e",
   "metadata": {},
   "outputs": [],
   "source": [
    "# Create dataarray with grid cell areas for luh2\n",
    "ds_luh2 = xr.open_dataset(os.path.join(dir05x, 'luh2/ds_luh2_prim_1700.nc'))\n",
    "\n",
    "prep_da_grid_cell_area(ds_luh2.prim_1700) \\\n",
    "    .rename('grid_cell_area_ha') \\\n",
    "    .to_netcdf(os.path.join(dir05x, 'luh2/ds_luh2_grid_cell_area.nc'), mode='w')"
   ]
  },
  {
   "cell_type": "code",
   "execution_count": null,
   "id": "ce2af2cd-666e-46d2-916c-222a68841659",
   "metadata": {},
   "outputs": [],
   "source": [
    "# Create dataarray with grid cell areas for dgvms\n",
    "for m in ['cablepop', 'classic', 'clm', 'dlem', 'ibis', 'isam', 'jsbach', \n",
    "          'jules', 'lpjguess', 'lpjwsl', 'orchidee']:\n",
    "    \n",
    "    ds = xr.open_dataset(os.path.join(dir05x, m, f'ds_{m}.nc'))\n",
    "\n",
    "    prep_da_grid_cell_area(ds[list(ds.data_vars)[0]]) \\\n",
    "        .rename('grid_cell_area_ha') \\\n",
    "        .to_netcdf(os.path.join(dir05x, m, f'ds_{m}_grid_cell_area.nc'), \n",
    "                                mode='w')"
   ]
  },
  {
   "cell_type": "code",
   "execution_count": null,
   "id": "9c666c4a-70f6-4869-b3d3-220f9f44712a",
   "metadata": {},
   "outputs": [],
   "source": [
    "# Create dataarray with grid cell areas for other\n",
    "for m in ['pot', 'erb', 'walker', 'sanderman030', 'sanderman100', \n",
    "          'sanderman200', 'mo']:\n",
    "    ds = xr.open_zarr(os.path.join(dir05x, m, f'ds_{m}.zarr'))\n",
    "\n",
    "    prep_da_grid_cell_area(ds[list(ds.data_vars)[0]]) \\\n",
    "        .rename('grid_cell_area_ha') \\\n",
    "        .to_zarr(os.path.join(dir05x, m, f'ds_{m}_grid_cell_area.zarr'), \n",
    "        mode='w')"
   ]
  }
 ],
 "metadata": {
  "kernelspec": {
   "display_name": "Python 3.12 (deficit)",
   "language": "python",
   "name": "deficit_python312"
  },
  "language_info": {
   "codemirror_mode": {
    "name": "ipython",
    "version": 3
   },
   "file_extension": ".py",
   "mimetype": "text/x-python",
   "name": "python",
   "nbconvert_exporter": "python",
   "pygments_lexer": "ipython3",
   "version": "3.12.6"
  }
 },
 "nbformat": 4,
 "nbformat_minor": 5
}
