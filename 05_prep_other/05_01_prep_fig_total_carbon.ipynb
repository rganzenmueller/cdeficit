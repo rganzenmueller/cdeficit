{
 "cells": [
  {
   "cell_type": "markdown",
   "id": "3fc8edf7-2a03-4024-a84b-1a2a5df362f3",
   "metadata": {},
   "source": [
    "# Prepare data for Figure \"Total carbon barplot\""
   ]
  },
  {
   "cell_type": "code",
   "execution_count": null,
   "id": "983f5629-9870-4566-8485-04b14b34126e",
   "metadata": {},
   "outputs": [],
   "source": [
    "# Libraries\n",
    "import os\n",
    "import numpy as np\n",
    "import pandas as pd\n",
    "import xarray as xr\n",
    "import rioxarray"
   ]
  },
  {
   "cell_type": "code",
   "execution_count": null,
   "id": "e301da00-da0a-4651-b686-2a9c637235b9",
   "metadata": {},
   "outputs": [],
   "source": [
    "# Directories\n",
    "dir_data = '../data/'\n",
    "dir01 = '../paper_deficit/output/01_prep/'\n",
    "dir04 = '../paper_deficit/output/04_out/'\n",
    "dir05 = '../paper_deficit/output/05_prep_other/'"
   ]
  },
  {
   "cell_type": "markdown",
   "id": "d691af45-5648-4203-9902-d9d461dda340",
   "metadata": {},
   "source": [
    "---"
   ]
  },
  {
   "cell_type": "code",
   "execution_count": null,
   "id": "1e5620c3-2f91-4d13-b0d3-75c0895dfa6b",
   "metadata": {},
   "outputs": [],
   "source": [
    "# Libraries\n",
    "from dask_jobqueue import SLURMCluster\n",
    "from dask.distributed import Client\n",
    "import dask\n",
    "\n",
    "# Initialize dask\n",
    "cluster = SLURMCluster(\n",
    "    queue='compute',                      # SLURM queue to use\n",
    "    cores=24,                             # Number of CPU cores per job\n",
    "    memory='256 GB',                      # Memory per job\n",
    "    account='bm0891',                     # Account allocation\n",
    "    interface=\"ib0\",                      # Network interface for communication\n",
    "    walltime='02:00:00',                  # Maximum runtime per job\n",
    "    local_directory='../dask/',           # Directory for local storage\n",
    "    job_extra_directives=[                # Additional SLURM directives for logging\n",
    "        '-o ../dask/LOG_worker_%j.o',     # Output log\n",
    "        '-e ../dask/LOG_worker_%j.e'      # Error log\n",
    "    ]\n",
    ")\n",
    "\n",
    "# Scale dask cluster\n",
    "cluster.scale(jobs=2)\n",
    "\n",
    "# Configurate dashboard url\n",
    "dask.config.config.get('distributed').get('dashboard').update(\n",
    "    {'link': '{JUPYTERHUB_SERVICE_PREFIX}/proxy/{port}/status'}\n",
    ")\n",
    "\n",
    "# Create client\n",
    "client = Client(cluster)\n",
    "\n",
    "client"
   ]
  },
  {
   "cell_type": "markdown",
   "id": "4387b8b0-16f5-404d-a2bb-78361a318aa0",
   "metadata": {},
   "source": [
    "---"
   ]
  },
  {
   "cell_type": "code",
   "execution_count": null,
   "id": "cfa47532-c21c-4308-a3b5-f798f8ae1a84",
   "metadata": {},
   "outputs": [],
   "source": [
    "# import functions to calculate grid cell area and grid cell boundaries\n",
    "from xgrid_utils import grid_cell_areas\n",
    "\n",
    "def prep_da_grid_cell_area(da):\n",
    "    return xr.DataArray(data=grid_cell_areas(da.lon.data, da.lat.data),\n",
    "                 dims=('lat', 'lon'), \n",
    "                 coords=(da.lat.data, da.lon.data,)) * 0.0001 # convert from m2 to ha"
   ]
  },
  {
   "cell_type": "markdown",
   "id": "95bf5c71-8c6b-48df-9e16-e84116f052ec",
   "metadata": {},
   "source": [
    "---"
   ]
  },
  {
   "cell_type": "code",
   "execution_count": null,
   "id": "30e55698-6434-4591-bad0-8d804dadeaef",
   "metadata": {},
   "outputs": [],
   "source": [
    "# Get area file\n",
    "ds_area = xr.open_zarr(os.path.join(dir01, 'ds_prep_area_ha.zarr'))\n",
    "da_area = ds_area.area_ha"
   ]
  },
  {
   "cell_type": "markdown",
   "id": "92d9b673-8ffa-4765-af55-f65a7d5e7fa6",
   "metadata": {},
   "source": [
    "---"
   ]
  },
  {
   "cell_type": "markdown",
   "id": "dd5f7ace-ffa0-4447-9356-148afd958586",
   "metadata": {},
   "source": [
    "### Predicted carbon values"
   ]
  },
  {
   "cell_type": "code",
   "execution_count": null,
   "id": "165c8540-8802-4c9b-af07-2f0fed6ea0a0",
   "metadata": {},
   "outputs": [],
   "source": [
    "# Get data\n",
    "ds_agbc = xr.open_dataset(os.path.join(dir04, 'agbc.nc')).chunk(lat=5000, lon=5000)\n",
    "ds_bgbc = xr.open_dataset(os.path.join(dir04, 'bgbc.nc')).chunk(lat=5000, lon=5000)\n",
    "ds_soc = xr.open_dataset(os.path.join(dir04, 'soc.nc')).chunk(lat=5000, lon=5000)\n",
    "\n",
    "\n",
    "def get_carbon_sum(ds):\n",
    "    \"\"\"Calculate global sums and export as dataframe\"\"\"\n",
    "    ds = ((ds.where(ds != -32768) * da_area).sum() * 1E-09) \\\n",
    "        .compute() \\\n",
    "        .drop_vars('area_ha')\n",
    "\n",
    "    df = pd.DataFrame({'variable': list(ds.data_vars.keys()),\n",
    "                       'carbon_pg': [ds[var].item() for var in ds.data_vars]\n",
    "                       })\n",
    "    return df\n",
    "\n",
    "# Calculate global sums and export as dataframe\n",
    "df_agbc_sum = get_carbon_sum(ds_agbc)\n",
    "df_bgbc_sum = get_carbon_sum(ds_bgbc)\n",
    "df_soc_sum = get_carbon_sum(ds_soc)\n",
    "\n",
    "# Merge dataframes\n",
    "df_pot_sum = pd.concat([df_agbc_sum, df_bgbc_sum, df_soc_sum])\n",
    "df_pot_sum"
   ]
  },
  {
   "cell_type": "markdown",
   "id": "79cac653-58fd-4a3f-85c9-1d0dee75d501",
   "metadata": {},
   "source": [
    "---"
   ]
  },
  {
   "cell_type": "markdown",
   "id": "e1302546-caac-460a-bf00-f0a2d914c655",
   "metadata": {},
   "source": [
    "### Erb et al. 2018"
   ]
  },
  {
   "cell_type": "code",
   "execution_count": null,
   "id": "8fc55f77-bd76-47af-8127-36201053e86b",
   "metadata": {},
   "outputs": [],
   "source": [
    "%%time\n",
    "ds_erb = xr.Dataset()\n",
    "\n",
    "def get_erb_data(fig, n):\n",
    "    \"\"\"Get and prepare erb biomass carbon data\"\"\"\n",
    "    # read data\n",
    "    da = rioxarray.open_rasterio(\n",
    "        os.path.join(dir_data, f'erb2018/ExtDat_Fig{fig}{n}_gcm.tif'), \n",
    "        chunks=True) \\\n",
    "        .rename(y='lat', x='lon')[0]\n",
    "    # mask non-land and convert to t/ha\n",
    "    da2 = (da.where(da != da.attrs['_FillValue'])  * 0.01)\n",
    "    if ((fig != 4) | (n != 'E')):\n",
    "        ds_erb[f'erb_fig{fig}_{n.lower()}'] = da2\n",
    "    else:\n",
    "        ds_erb[f'erb_fig{fig}_{n.lower()}'] = (('lat', 'lon'), da2.data)\n",
    "\n",
    "# Get prepared erb data\n",
    "for i in ['A', 'B', 'C', 'D', 'E', 'F', 'G']:\n",
    "    get_erb_data(3, i)\n",
    "for i in ['A', 'B', 'C', 'D', 'E', 'F']:\n",
    "    get_erb_data(4, i)\n",
    "\n",
    "# Create grid cell area data\n",
    "da_erb_area = prep_da_grid_cell_area(ds_erb).chunk(dict(lat=-1, lon=-1))\n",
    "\n",
    "# Calculate global sums\n",
    "ds_erb_sum = (ds_erb * da_erb_area).sum().compute() * 1e-9\n",
    "\n",
    "# Create Dataframe with values\n",
    "df_erb_sum = pd.DataFrame({\n",
    "    'variable': list(ds_erb_sum.data_vars.keys()),\n",
    "    'carbon_pg': [ds_erb_sum[var].item() for var in ds_erb_sum.data_vars]\n",
    "})\n",
    "\n",
    "df_erb_sum"
   ]
  },
  {
   "cell_type": "markdown",
   "id": "f4dfb6a3-af10-43d9-94e3-8de72f96a351",
   "metadata": {},
   "source": [
    "---"
   ]
  },
  {
   "cell_type": "markdown",
   "id": "e7d793dc-3e0d-4baa-859e-5b4b33df9d5d",
   "metadata": {},
   "source": [
    "### GSOC"
   ]
  },
  {
   "cell_type": "code",
   "execution_count": null,
   "id": "e78584f2-6f08-4082-94a2-add561ba9153",
   "metadata": {},
   "outputs": [],
   "source": [
    "%%time \n",
    "# Get data\n",
    "da_gsoc = rioxarray.open_rasterio(\n",
    "    os.path.join(dir_data, 'gsoc/GSOCmap1.6.1.tif'), chunks=True) \\\n",
    "    .rename(y='lat', x='lon')[0]\n",
    "    \n",
    "# Replace nan_value\n",
    "da_gsoc = da_gsoc.where(da_gsoc != da_gsoc.attrs.get('_FillValue')).compute()\n",
    "\n",
    "# Grid cell area\n",
    "da_gsoc_area = prep_da_grid_cell_area(da_gsoc)\n",
    "\n",
    "# Calculate carbon stocks\n",
    "value_gsoc = (da_gsoc * da_gsoc_area).sum().item() * 1e-9\n",
    "\n",
    "# Create Dataframe with values\n",
    "df_gsoc_sum = pd.DataFrame({'variable': ['gsoc'], \n",
    "                            'carbon_pg': [value_gsoc]})\n",
    "\n",
    "df_gsoc_sum"
   ]
  },
  {
   "cell_type": "markdown",
   "id": "6f725632-b678-4567-8f8f-140e70aa9140",
   "metadata": {},
   "source": [
    "---"
   ]
  },
  {
   "cell_type": "markdown",
   "id": "907182c6-6222-4848-8df9-5a049a8f9853",
   "metadata": {},
   "source": [
    "### Soilgrids 2020"
   ]
  },
  {
   "cell_type": "code",
   "execution_count": null,
   "id": "d16300d2-641b-48ac-ae23-cbb7e6f00a4c",
   "metadata": {},
   "outputs": [],
   "source": [
    "%%time\n",
    "# Get data\n",
    "ds_sgrids2020ocs = xr.open_mfdataset(\n",
    "    os.path.join(dir01, 'ds_regridded_soilgrids2020_ocs*.zarr'), \n",
    "    engine='zarr')\n",
    "\n",
    "# Create dataset with global soc data values\n",
    "def get_sgrids2020ocs_sum(da, var_str):\n",
    "    \"\"\" Calculate global sum of soc data\"\"\"\n",
    "    ds_sgrids2020ocs_sum[var_str] = ((da * da_area).sum() * 1e-9).compute()\n",
    "\n",
    "\n",
    "ds_sgrids2020ocs_sum = xr.Dataset()\n",
    "get_sgrids2020ocs_sum(ds_sgrids2020ocs['regridded_soilgrids2020_ocs_0-30cm'], \n",
    "                      'soilgrids2020_soc_030')\n",
    "get_sgrids2020ocs_sum(ds_sgrids2020ocs['regridded_soilgrids2020_ocsunc_0-30cm'], \n",
    "                      'soilgrids2020_socunc_030')\n",
    "\n",
    "# Lower uncertainty bound\n",
    "ds_sgrids2020ocs_sum['soilgrids2020_soc_030_lower'] = \\\n",
    "    (ds_sgrids2020ocs_sum.soilgrids2020_soc_030 -\n",
    "     (ds_sgrids2020ocs_sum.soilgrids2020_socunc_030 / 2))\n",
    "# Upper uncertainty bound\n",
    "ds_sgrids2020ocs_sum['soilgrids2020_soc_030_upper'] = \\\n",
    "    (ds_sgrids2020ocs_sum.soilgrids2020_soc_030 +\n",
    "     (ds_sgrids2020ocs_sum.soilgrids2020_socunc_030 / 2))\n",
    "\n",
    "# Create dataframe with values\n",
    "df_sgrids2020ocs_sum = pd.DataFrame({\n",
    "    'variable': list(ds_sgrids2020ocs_sum.data_vars.keys()),\n",
    "    'carbon_pg': [ds_sgrids2020ocs_sum[var].item() for var in ds_sgrids2020ocs_sum.data_vars]\n",
    "})\n",
    "\n",
    "df_sgrids2020ocs_sum"
   ]
  },
  {
   "cell_type": "markdown",
   "id": "05dfdfb5-52eb-4ea0-ba87-61eaf6f64083",
   "metadata": {},
   "source": [
    "---"
   ]
  },
  {
   "cell_type": "markdown",
   "id": "ec26eb5f-c1d3-4ff5-8793-2ed615bc1e15",
   "metadata": {},
   "source": [
    "### Soilgrids 2017"
   ]
  },
  {
   "cell_type": "code",
   "execution_count": null,
   "id": "a5aac077-d900-43b7-86d2-631f6e6f9b32",
   "metadata": {},
   "outputs": [],
   "source": [
    "# Get data\n",
    "ds_sgrids2017ocs = xr.open_mfdataset(\n",
    "    os.path.join(dir01, 'ds_regridded_soilgrids2017_ocs*.zarr'), \n",
    "    engine='zarr')\n",
    "\n",
    "# Create dataset with global soc data values\n",
    "def get_sgrids2017ocs_sum(da, var_str):\n",
    "    \"\"\" Calculate global sum of soc data\"\"\"\n",
    "    ds_sgrids2017ocs_sum[var_str] = ((da * da_area).sum() * 1e-9).compute()\n",
    "\n",
    "ds_sgrids2017ocs_sum = xr.Dataset()\n",
    "# 0-30cm\n",
    "get_sgrids2017ocs_sum(\n",
    "    ds_sgrids2017ocs['regridded_soilgrids2017_ocs_0-30cm'], 'soilgrids2017_soc_030')\n",
    "# 30-100cm\n",
    "get_sgrids2017ocs_sum(\n",
    "    ds_sgrids2017ocs['regridded_soilgrids2017_ocs_30-100cm'], 'soilgrids2017_soc_100')\n",
    "# 100-200cm\n",
    "get_sgrids2017ocs_sum(\n",
    "    ds_sgrids2017ocs['regridded_soilgrids2017_ocs_100-200cm'], 'soilgrids2017_soc_200')\n",
    "\n",
    "# Create dataframe with values\n",
    "df_sgrids2017ocs_sum = pd.DataFrame({\n",
    "    'variable': list(ds_sgrids2017ocs_sum.data_vars.keys()),\n",
    "    'carbon_pg': [ds_sgrids2017ocs_sum[var].item() for var in ds_sgrids2017ocs_sum.data_vars]\n",
    "})\n",
    "\n",
    "df_sgrids2017ocs_sum"
   ]
  },
  {
   "cell_type": "markdown",
   "id": "2adef490-af21-488d-8642-9c749cca5be2",
   "metadata": {},
   "source": [
    "---"
   ]
  },
  {
   "cell_type": "markdown",
   "id": "77c35802-840f-4fe3-8aa1-9f2a16218536",
   "metadata": {},
   "source": [
    "# ESA CCI Biomass"
   ]
  },
  {
   "cell_type": "code",
   "execution_count": null,
   "id": "30540a30-b6a0-4ea5-800c-d16ebca29907",
   "metadata": {},
   "outputs": [],
   "source": [
    "%%time\n",
    "\n",
    "# Get data\n",
    "ds_esabio_agb = xr.open_mfdataset(\n",
    "    os.path.join(dir01, 'ds_regridded_esabio_agb20*.zarr'), \n",
    "    engine='zarr')\n",
    "\n",
    "# Create Dataset with esabio agbc sum values\n",
    "def get_esabio_sum(da, var_str):\n",
    "    ds_esabio_sum[var_str] = ((da * da_area).sum() * 0.47 * 1e-9).compute()\n",
    "\n",
    "ds_esabio_sum = xr.Dataset()\n",
    "\n",
    "for i in [2015, 2016, 2017, 2018, 2019, 2020, 2021]:\n",
    "    da_esabio_agb_x = ds_esabio_agb[f'regridded_esabio_agb{i}']\n",
    "    get_esabio_sum(da_esabio_agb_x, f'esabio_agbc{i}')\n",
    "\n",
    "# Get mean of years\n",
    "get_esabio_sum(ds_esabio_agb.to_array('a').mean('a'), f'esabio_agbc_mean')\n",
    "# Get min of years\n",
    "get_esabio_sum(ds_esabio_agb.to_array('a').min('a'), f'esabio_agbc_min')\n",
    "# Get max of years\n",
    "get_esabio_sum(ds_esabio_agb.to_array('a').max('a'), f'esabio_agbc_max')\n",
    "\n",
    "# Create Dataframe with values\n",
    "df_esabio_sum = pd.DataFrame({\n",
    "    'variable': list(ds_esabio_sum.data_vars.keys()),\n",
    "    'carbon_pg': [ds_esabio_sum[var].item() for var in ds_esabio_sum.data_vars]\n",
    "})\n",
    "\n",
    "df_esabio_sum"
   ]
  },
  {
   "cell_type": "markdown",
   "id": "8cf4cbbc-17fd-4a04-a9d9-e38b97ef6e7b",
   "metadata": {},
   "source": [
    "---"
   ]
  },
  {
   "cell_type": "markdown",
   "id": "a601f6bf-943f-4819-8796-1976ae074c06",
   "metadata": {},
   "source": [
    "# Spawn Biomass"
   ]
  },
  {
   "cell_type": "code",
   "execution_count": null,
   "id": "db0594bf-2088-4330-8dc2-c9ebf8d78202",
   "metadata": {},
   "outputs": [],
   "source": [
    "# Get data\n",
    "ds_spawn = xr.open_mfdataset(\n",
    "    os.path.join(dir01, 'ds_regridded_spawn_*.zarr'), \n",
    "    engine='zarr')\n",
    "\n",
    "\n",
    "# Create dataset with esabio agbc sum values\n",
    "def get_spawn_sum(da, var_str):\n",
    "    ds_spawn_sum[var_str] = ((da * da_area).sum() * 1e-9).compute()\n",
    "\n",
    "ds_spawn_sum = xr.Dataset()\n",
    "\n",
    "get_spawn_sum(ds_spawn.regridded_spawn_agbc, f'spawn_agbc')\n",
    "get_spawn_sum(ds_spawn.regridded_spawn_agbcunc, f'spawn_agbcunc')\n",
    "get_spawn_sum(ds_spawn.regridded_spawn_bgbc, f'spawn_bgbc')\n",
    "get_spawn_sum(ds_spawn.regridded_spawn_bgbcunc, f'spawn_bgbcunc')\n",
    "\n",
    "ds_spawn_sum['spawn_agbc_lower'] = (ds_spawn_sum.spawn_agbc -\n",
    "                                    (ds_spawn_sum.spawn_agbcunc / 2))\n",
    "ds_spawn_sum['spawn_agbc_upper'] = (ds_spawn_sum.spawn_agbc +\n",
    "                                    (ds_spawn_sum.spawn_agbcunc / 2))\n",
    "ds_spawn_sum['spawn_bgbc_lower'] = (ds_spawn_sum.spawn_bgbc -\n",
    "                                    (ds_spawn_sum.spawn_bgbcunc / 2))\n",
    "ds_spawn_sum['spawn_bgbc_upper'] = (ds_spawn_sum.spawn_bgbc +\n",
    "                                    (ds_spawn_sum.spawn_bgbcunc / 2))\n",
    "\n",
    "# Create dataframe with values\n",
    "df_spawn_sum = pd.DataFrame({\n",
    "    'variable': list(ds_spawn_sum.data_vars.keys()),\n",
    "    'carbon_pg': [ds_spawn_sum[var].item() for var in ds_spawn_sum.data_vars]\n",
    "})\n",
    "\n",
    "df_spawn_sum"
   ]
  },
  {
   "cell_type": "markdown",
   "id": "e4e628ad-eafa-4ae9-b9d4-eaeac7c59570",
   "metadata": {},
   "source": [
    "---"
   ]
  },
  {
   "cell_type": "code",
   "execution_count": null,
   "id": "3d1235f3-631c-47b1-8ef6-14621cb46fdc",
   "metadata": {},
   "outputs": [],
   "source": [
    "# Merge and export data as csv\n",
    "file_carbon_col = 'data_carbon_pg_collected.csv'\n",
    "\n",
    "pd.concat([df_pot_sum, df_erb_sum, df_esabio_sum, df_spawn_sum, \n",
    "           df_gsoc_sum, df_sgrids2020ocs_sum, df_sgrids2017ocs_sum]) \\\n",
    "    .to_csv(os.path.join(dir05, 'fig_total_carbon', file_carbon_col),\n",
    "           index=False)"
   ]
  },
  {
   "cell_type": "markdown",
   "id": "5d27c5d5-76d6-4188-bf33-0b3d66b8afa7",
   "metadata": {},
   "source": [
    "---"
   ]
  },
  {
   "cell_type": "code",
   "execution_count": null,
   "id": "f57bac27-011c-4e47-bbb5-21e222e67343",
   "metadata": {},
   "outputs": [],
   "source": [
    "# close dask cluster\n",
    "cluster.close()"
   ]
  }
 ],
 "metadata": {
  "kernelspec": {
   "display_name": "Python 3.12 (deficit)",
   "language": "python",
   "name": "deficit_python312"
  },
  "language_info": {
   "codemirror_mode": {
    "name": "ipython",
    "version": 3
   },
   "file_extension": ".py",
   "mimetype": "text/x-python",
   "name": "python",
   "nbconvert_exporter": "python",
   "pygments_lexer": "ipython3",
   "version": "3.12.6"
  }
 },
 "nbformat": 4,
 "nbformat_minor": 5
}
