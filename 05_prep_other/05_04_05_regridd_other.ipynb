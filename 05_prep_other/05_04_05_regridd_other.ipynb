{
 "cells": [
  {
   "cell_type": "markdown",
   "id": "dad59fb2-d58d-4849-88ad-1998f7cf4160",
   "metadata": {},
   "source": [
    "# Prepare data for Figure \"DGVM\" - Regridd other"
   ]
  },
  {
   "cell_type": "code",
   "execution_count": null,
   "id": "0c005ab5-42e5-4ccc-81a1-8ba9898cb357",
   "metadata": {},
   "outputs": [],
   "source": [
    "# Libraries\n",
    "import os, shutil\n",
    "import numpy as np\n",
    "import xarray as xr"
   ]
  },
  {
   "cell_type": "code",
   "execution_count": null,
   "id": "681921a9-0ec0-453e-993f-902785c1795b",
   "metadata": {},
   "outputs": [],
   "source": [
    "# Directories\n",
    "dir01 = '../paper_deficit/output/01_prep/'\n",
    "dir05x = '../paper_deficit/output/05_prep_other/fig_dgvm/'"
   ]
  },
  {
   "cell_type": "markdown",
   "id": "dd502dd5-8700-466b-82c4-d9256b705868",
   "metadata": {},
   "source": [
    "---"
   ]
  },
  {
   "cell_type": "markdown",
   "id": "55cf2438-b8df-44de-b9aa-88c88faf2d8b",
   "metadata": {},
   "source": [
    "### Create tifs for regridding"
   ]
  },
  {
   "cell_type": "code",
   "execution_count": null,
   "id": "c486577f-3080-4426-8ad1-495dbe3601ce",
   "metadata": {},
   "outputs": [],
   "source": [
    "# Get primary data and export as tif\n",
    "xr.open_dataset(os.path.join(dir05x, 'luh2/ds_luh2_prim_1700.nc')) \\\n",
    "    .prim_1700 \\\n",
    "    .rio.to_raster(os.path.join(dir05x, 'luh2/da_luh2_prim_1700.tif'))"
   ]
  },
  {
   "cell_type": "code",
   "execution_count": null,
   "id": "538c7654-1106-47c8-8975-463c0a2029f6",
   "metadata": {},
   "outputs": [],
   "source": [
    "# Create tifs from prepared other data\n",
    "for m in ['pot', 'erb', 'walker', 'mo', \n",
    "         'sanderman030', 'sanderman100', 'sanderman200']:\n",
    "    # Get data\n",
    "    ds = xr.open_zarr(os.path.join(dir05x, m, f'ds_{m}.zarr'))\n",
    "\n",
    "    for i in list(ds.data_vars):\n",
    "        da = ds[i].rename(lat='y', lon='x')\n",
    "        # Ensure float dtype for pot (to_raster changes dtype for csoil otherwise)\n",
    "        if m == 'pot':\n",
    "            da = da.astype('float32')\n",
    "        # Export as tif\n",
    "        da.rio.to_raster(os.path.join(dir05x, m, f'da_{i}.tif'))\n",
    "\n",
    "    # Get land sea mask and export as tif\n",
    "    xr.open_zarr(os.path.join(dir05x, m, f'ds_{m}_land.zarr')) \\\n",
    "        ['land_sea_mask'] \\\n",
    "        .astype('float32') \\\n",
    "        .rename(lat='y', lon='x') \\\n",
    "        .rio.to_raster(os.path.join(dir05x, m, f'da_{m}_land.tif'))\n",
    "\n",
    "# Create tifs from prepared land sea masks of mo\n",
    "for l in ['land_act', 'land_pot']:\n",
    "    xr.open_zarr(os.path.join(dir05x, 'mo', f'ds_mo_{l}.zarr')) \\\n",
    "        ['land_sea_mask'] \\\n",
    "        .astype('float32') \\\n",
    "        .rename(lat='y', lon='x') \\\n",
    "        .rio.to_raster(os.path.join(dir05x, 'mo' , f'da_mo_{l}.tif'))"
   ]
  },
  {
   "cell_type": "markdown",
   "id": "f391eecf-7381-4b98-b2e7-93bb0d30ed9b",
   "metadata": {},
   "source": [
    "---"
   ]
  },
  {
   "cell_type": "markdown",
   "id": "ff2c0b3a-0844-4a7a-8740-42aff0b22fbc",
   "metadata": {},
   "source": [
    "### Regridd to LUH2 resolution"
   ]
  },
  {
   "cell_type": "code",
   "execution_count": null,
   "id": "9f792f51-5ca1-40e3-9acc-c9cd0a4cb1c7",
   "metadata": {},
   "outputs": [],
   "source": [
    "# Import regridding function\n",
    "from regrid_high_res_v1_01 import regrid_high_res, prep_tif"
   ]
  },
  {
   "cell_type": "code",
   "execution_count": null,
   "id": "d87e0625-a17d-478d-a3e6-2d7fbdc6fbe1",
   "metadata": {},
   "outputs": [],
   "source": [
    "def regrid_da(f_source, dir_target, dir_source, dir_out, \n",
    "              size_tiles, fill_value=None, olap=1):  \n",
    "    \"\"\"Regrid large xarray dataarrays.\n",
    "\n",
    "    Args:\n",
    "        f_source (str): The filename (without extension) of the source .tif file to be regridded.\n",
    "        dir_target (str): Directory containing target grid .tif file.\n",
    "        dir_source (str): Directory containing the the source  .tif file.\n",
    "        dir_out (str): Directory to store the output and intermediate files.\n",
    "        size_tiles (int): Size of the regridding tiles in degrees.\n",
    "        fill_value (float, optional): Fill value to use in the regridding process. Defaults to None.\n",
    "        olap (int, optional): Overlap size in degrees for regridding tiles. Defaults to 1.\n",
    "        \n",
    "    Returns:\n",
    "        xarray.Dataset: The combined dataset after regridding.\n",
    "    \"\"\"\n",
    "    # Prepare the target and source data arrays from TIFF files\n",
    "    da_target = prep_tif(os.path.join(dir05x, 'luh2/da_luh2_prim_1700.tif'), 'prim_1700')\n",
    "    da_source = prep_tif(dir_source + f_source + '.tif', f_source)\n",
    "    # Regridd source array to target grid\n",
    "    regrid_high_res(da_target, da_source, dir_out,\n",
    "                    account='bm0891', partition='compute',\n",
    "                    size_tiles=size_tiles, olap=olap, fill_value = fill_value,\n",
    "                    type_export='zarr', del_interm=False)"
   ]
  },
  {
   "cell_type": "markdown",
   "id": "12ae9934-ff90-45ab-9ba8-e4fdfc332b3c",
   "metadata": {},
   "source": [
    "---"
   ]
  },
  {
   "cell_type": "code",
   "execution_count": null,
   "id": "4a63ecff-3dea-4eeb-9a44-acc0167ed05d",
   "metadata": {},
   "outputs": [],
   "source": [
    "# Regridd pot\n",
    "for i in ['s2_cveg', 's3_cveg', 's2_csoil', 's3_csoil', 'land']:\n",
    "    f_source = f'da_pot_{i}'\n",
    "    dir_target = dir05x\n",
    "    dir_source = os.path.join(dir05x, 'pot/')\n",
    "    dir_out = os.path.join(dir05x, 'pot/')\n",
    "    %time regrid_da(f_source, dir_target, dir_source, dir_out, 45, np.nan, olap=0.5)"
   ]
  },
  {
   "cell_type": "code",
   "execution_count": null,
   "id": "4be97565-4754-4719-8c5e-8c85451a92bd",
   "metadata": {},
   "outputs": [],
   "source": [
    "# Regridd Erb\n",
    "for i in['s2_cveg', 's3_cveg', 'land']:\n",
    "    f_source = f'da_erb_{i}'\n",
    "    dir_target = dir05x\n",
    "    dir_source = os.path.join(dir05x, 'erb/')\n",
    "    dir_out = os.path.join(dir05x, 'erb/')\n",
    "    %time regrid_da(f_source, dir_target, dir_source, dir_out, 45, np.nan, olap=0.5)"
   ]
  },
  {
   "cell_type": "code",
   "execution_count": null,
   "id": "fc2a73d1-8d1e-4c85-94a6-06c37f39b0bf",
   "metadata": {},
   "outputs": [],
   "source": [
    "for str_sand in ['sanderman030', 'sanderman100', 'sanderman200']:\n",
    "    for i in ['s2_csoil', 's3_csoil', 'land']:\n",
    "        f_source = f'da_{str_sand}_{i}'\n",
    "        dir_target = dir05x\n",
    "        dir_source = os.path.join(dir05x, f'{str_sand}/')\n",
    "        dir_out = os.path.join(dir05x, f'{str_sand}/')\n",
    "        %time regrid_da(f_source, dir_target, dir_source, dir_out, 45, -32767, olap=0.5)"
   ]
  },
  {
   "cell_type": "code",
   "execution_count": null,
   "id": "7c4467a2-7935-4a53-9d46-96175e4fa164",
   "metadata": {},
   "outputs": [],
   "source": [
    "# Regridd Erb\n",
    "for i in['s2_cveg', 's3_cveg', 's2_csoil', 's3_csoil', 'land']:\n",
    "    f_source = f'da_walker_{i}'\n",
    "    dir_target = dir05x\n",
    "    dir_source = os.path.join(dir05x, 'walker/')\n",
    "    dir_out = os.path.join(dir05x, 'walker/')\n",
    "    %time regrid_da(f_source, dir_target, dir_source, dir_out, 25, -32768, olap=0.5)"
   ]
  },
  {
   "cell_type": "code",
   "execution_count": null,
   "id": "0006a542-bc5b-4afa-8214-81da9239a261",
   "metadata": {},
   "outputs": [],
   "source": [
    "# Regridd Mo    \n",
    "for i in['s2_cveg', 's3_cveg', 'land', 'land_act', 'land_pot']:\n",
    "    f_source = f'da_mo_{i}'\n",
    "    dir_target = dir05x\n",
    "    dir_source = os.path.join(dir05x, 'mo/')\n",
    "    dir_out = os.path.join(dir05x, 'mo/')\n",
    "    %time regrid_da(f_source, dir_target, dir_source, dir_out, 25, np.nan, olap=0.5)"
   ]
  },
  {
   "cell_type": "markdown",
   "id": "8d0bfdd4-94d9-470f-8297-52bd9584b1e1",
   "metadata": {},
   "source": [
    "---"
   ]
  },
  {
   "cell_type": "markdown",
   "id": "f2e98b73-9c99-403e-94bb-a72f317197eb",
   "metadata": {},
   "source": [
    "### Regridd primary land data to other data resolution"
   ]
  },
  {
   "cell_type": "code",
   "execution_count": null,
   "id": "c35b5d7e-077a-4912-9fa1-a21f82b53e69",
   "metadata": {},
   "outputs": [],
   "source": [
    "def regrid_da(f_target, f_source, dir_target, dir_source, dir_out, \n",
    "              size_tiles, fill_value=None, olap=1):  \n",
    "    \"\"\"Regrid large xarray dataarrays.\n",
    "\n",
    "    Args:\n",
    "        f_target (str): The filename (without extension) of the target .tif file.\n",
    "        f_source (str): The filename (without extension) of the source .tif file to be regridded.\n",
    "        dir_target (str): Directory containing target grid .tif file.\n",
    "        dir_source (str): Directory containing the the source  .tif file.\n",
    "        dir_out (str): Directory to store the output and intermediate files.\n",
    "        size_tiles (int): Size of the regridding tiles in degrees.\n",
    "        fill_value (float, optional): Fill value to use in the regridding process. Defaults to None.\n",
    "        olap (int, optional): Overlap size in degrees for regridding tiles. Defaults to 1.\n",
    "        \n",
    "    Returns:\n",
    "        xarray.Dataset: The combined dataset after regridding.\n",
    "    \"\"\"\n",
    "    # Prepare the target and source data arrays from TIFF files\n",
    "    da_target = prep_tif(os.path.join(dir_target + f'da_{f_target}.tif'), f_target)\n",
    "    da_source = prep_tif(os.path.join(dir_source + f'da_{f_source}.tif'), f_source)\n",
    "    # Regridd source array to target grid\n",
    "    regrid_high_res(da_target, da_source, dir_out,\n",
    "                    account='bm0891', partition='compute',\n",
    "                    size_tiles=size_tiles, olap=olap, fill_value = fill_value,\n",
    "                    type_export='zarr', del_interm=False)"
   ]
  },
  {
   "cell_type": "code",
   "execution_count": null,
   "id": "6161590b-fb32-4171-b27d-12cb1f9f1f2c",
   "metadata": {},
   "outputs": [],
   "source": [
    "# Regridd primary land data to resolution of other data\n",
    "for m in ['pot', 'mo', 'erb', 'sanderman030', 'sanderman100', 'sanderman200', \n",
    "          'walker']:\n",
    "\n",
    "    f_target = f'{m}_land'\n",
    "    f_source = 'luh2_prim_1700'\n",
    "    dir_target = f'{dir05x}{m}/'\n",
    "    dir_source = f'{dir05x}luh2/'\n",
    "    dir_out = dir_target\n",
    "    \n",
    "    if m != 'walker':\n",
    "        size_tiles = 45\n",
    "    if m == 'walker':\n",
    "        size_tiles = 25\n",
    "\n",
    "    %time regrid_da(f_target, f_source, dir_target, dir_source, dir_out, \\\n",
    "                    size_tiles, fill_value=None, olap=1)"
   ]
  },
  {
   "cell_type": "markdown",
   "id": "88e2e910-0e4c-4553-804d-55b87c453e9a",
   "metadata": {},
   "source": [
    "---"
   ]
  },
  {
   "cell_type": "markdown",
   "id": "bef8f20d-92d3-44d6-8594-9c9e791b1b88",
   "metadata": {},
   "source": [
    "### Merge regridded other data"
   ]
  },
  {
   "cell_type": "code",
   "execution_count": null,
   "id": "a98a9450-3d29-4e9f-b5cf-eee77c01de17",
   "metadata": {},
   "outputs": [],
   "source": [
    "# Merge data at luh2 resolution\n",
    "for m in ['pot', 'erb', 'walker', 'mo', \n",
    "          'sanderman030', 'sanderman100', 'sanderman200']:\n",
    "    # Get data\n",
    "    ds = xr.open_mfdataset(\n",
    "        os.path.join(dir05x, m, f'ds_regridded_da_{m}_*.zarr'),\n",
    "        engine='zarr')\n",
    "    # Create dataset and add dataarrays\n",
    "    ds_out = xr.Dataset()\n",
    "    for i in ds.data_vars:\n",
    "        if 'land' not in i:\n",
    "            ds_out[i[13:]] = ds[i]\n",
    "    # Export\n",
    "    ds_out.to_netcdf(os.path.join(dir05x, m, f'ds_{m}_luh2res.nc'), mode='w')\n",
    "\n",
    "    # Export land sea mask seperately \n",
    "    ds['regridded_da_' + m + '_land'] \\\n",
    "        .rename('land_sea_mask') \\\n",
    "        .to_netcdf(os.path.join(dir05x, m, f'ds_{m}_land_luh2res.nc'), mode='w')"
   ]
  },
  {
   "cell_type": "code",
   "execution_count": null,
   "id": "f692af54-e472-4b06-8e0f-1d8ea98fb2e2",
   "metadata": {},
   "outputs": [],
   "source": [
    "# Get and export primary data at other data resolution\n",
    "for m in ['pot', 'erb', 'walker', 'mo', \n",
    "          'sanderman030', 'sanderman100', 'sanderman200']:\n",
    "    xr.open_zarr(os.path.join(dir05x, m, 'ds_regridded_luh2_prim_1700.zarr')) \\\n",
    "        .regridded_luh2_prim_1700 \\\n",
    "        .rename('prim_1700') \\\n",
    "        .to_zarr(os.path.join(dir05x, m, f'ds_{m}_prim.zarr'), mode='w')"
   ]
  },
  {
   "cell_type": "markdown",
   "id": "85e507c5-4e60-48fb-8509-46221914f0d0",
   "metadata": {},
   "source": [
    "---"
   ]
  }
 ],
 "metadata": {
  "kernelspec": {
   "display_name": "Python 3.12 (deficit)",
   "language": "python",
   "name": "deficit_python312"
  },
  "language_info": {
   "codemirror_mode": {
    "name": "ipython",
    "version": 3
   },
   "file_extension": ".py",
   "mimetype": "text/x-python",
   "name": "python",
   "nbconvert_exporter": "python",
   "pygments_lexer": "ipython3",
   "version": "3.12.6"
  }
 },
 "nbformat": 4,
 "nbformat_minor": 5
}
