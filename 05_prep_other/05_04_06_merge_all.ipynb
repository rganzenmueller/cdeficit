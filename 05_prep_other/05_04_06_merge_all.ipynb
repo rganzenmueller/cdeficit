{
 "cells": [
  {
   "cell_type": "markdown",
   "id": "08002397-c392-4cfa-8394-d690ea206400",
   "metadata": {},
   "source": [
    "# Create dataset with all data at luh2 resolution"
   ]
  },
  {
   "cell_type": "code",
   "execution_count": null,
   "id": "c1ed4afb-d9ea-4e4c-9276-4a99a96828c9",
   "metadata": {},
   "outputs": [],
   "source": [
    "# Libraries\n",
    "import os\n",
    "import xarray as xr"
   ]
  },
  {
   "cell_type": "code",
   "execution_count": null,
   "id": "af168d42-f433-4405-a21e-cb1456cf3634",
   "metadata": {},
   "outputs": [],
   "source": [
    "# Directories\n",
    "dir05x = '../paper_deficit/output/05_prep_other/fig_dgvm/'"
   ]
  },
  {
   "cell_type": "markdown",
   "id": "0b985e78-0321-4334-83d9-5a88c7b2cc98",
   "metadata": {},
   "source": [
    "---"
   ]
  },
  {
   "cell_type": "code",
   "execution_count": null,
   "id": "f1cbcde4-30b2-4af0-a3f3-a354e1ddfd41",
   "metadata": {},
   "outputs": [],
   "source": [
    "# List of dgvms\n",
    "list_dgvm = ['cablepop', 'classic', 'clm', 'dlem', 'ibis', 'isam', 'jsbach', \n",
    "             'jules', 'lpjguess', 'lpjwsl', 'orchidee']\n",
    "# list of dgvms and other data\n",
    "list_m = ['pot', 'erb', 'walker', 'mo', 'sanderman030', 'sanderman100', \n",
    "          'sanderman200', *list_dgvm]"
   ]
  },
  {
   "cell_type": "code",
   "execution_count": null,
   "id": "04d7226d-3b9c-45df-adf2-5138f638f8a5",
   "metadata": {},
   "outputs": [],
   "source": [
    "# Empty dataset\n",
    "ds = xr.Dataset()\n",
    "\n",
    "# Add data from dgvms and other data to empty dataset\n",
    "# Process datasets for each `m` in `list_m`\n",
    "for m in list_m:\n",
    "    # Open the datasets\n",
    "    dsm = xr.open_dataset(os.path.join(dir05x, m, f'ds_{m}_luh2res.nc'))\n",
    "    dsm_land = xr.open_dataset(os.path.join(dir05x, m, f'ds_{m}_land_luh2res.nc'))\n",
    "    \n",
    "    # Add all variables from dsm\n",
    "    ds = xr.merge([ds, dsm])\n",
    "    \n",
    "    # Add the land_sea_mask variable\n",
    "    ds[f'{m}_land'] = dsm_land['land_sea_mask']\n",
    "\n",
    "# Drop variables ending with 'clit' in one step\n",
    "ds = ds.drop_vars([var for var in ds.data_vars if var.endswith('clit')])\n",
    "\n",
    "# Rename variables starting with 'pot' to 'ganzenmueller'\n",
    "rename_dict = {var: f'ganzenmueller{var[3:]}' for var in ds.data_vars if var.startswith('pot')}\n",
    "ds = ds.rename_vars(rename_dict)"
   ]
  },
  {
   "cell_type": "code",
   "execution_count": null,
   "id": "357bc46c-fd08-4bb6-973c-8b1d17da5bea",
   "metadata": {},
   "outputs": [],
   "source": [
    "# Add luh2 primary land in 1700 array to dataset\n",
    "ds_prim = xr.open_dataset(os.path.join(dir05x, 'luh2/ds_luh2_prim_1700.nc'))\n",
    "ds['luh2_primary_1700'] = ds_prim.prim_1700"
   ]
  },
  {
   "cell_type": "code",
   "execution_count": null,
   "id": "0f366226-564a-4f8f-8d06-d4be8182eda2",
   "metadata": {},
   "outputs": [],
   "source": [
    "# Add grid cell area array to dataset\n",
    "ds_area = xr.open_dataset(os.path.join(dir05x, 'luh2/ds_luh2_grid_cell_area.nc'))\n",
    "ds['grid_cell_area_ha'] = ds_area.grid_cell_area_ha"
   ]
  },
  {
   "cell_type": "code",
   "execution_count": null,
   "id": "19d01632-beb4-4687-bf07-3481441d2ab8",
   "metadata": {},
   "outputs": [],
   "source": [
    "# Export\n",
    "ds.to_netcdf(os.path.join(dir05x, 'dgvms_and_other_luh2res.nc'), mode='w')"
   ]
  },
  {
   "cell_type": "markdown",
   "id": "5c73a163-528a-492d-9602-2d770d2b0250",
   "metadata": {},
   "source": [
    "---"
   ]
  }
 ],
 "metadata": {
  "kernelspec": {
   "display_name": "Python 3.12 (deficit)",
   "language": "python",
   "name": "deficit_python312"
  },
  "language_info": {
   "codemirror_mode": {
    "name": "ipython",
    "version": 3
   },
   "file_extension": ".py",
   "mimetype": "text/x-python",
   "name": "python",
   "nbconvert_exporter": "python",
   "pygments_lexer": "ipython3",
   "version": "3.12.6"
  }
 },
 "nbformat": 4,
 "nbformat_minor": 5
}
