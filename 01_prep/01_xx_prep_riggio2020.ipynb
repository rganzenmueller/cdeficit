{
 "cells": [
  {
   "cell_type": "markdown",
   "id": "65398005-5c2d-4d80-b409-19a225d5a21b",
   "metadata": {},
   "source": [
    "# Prepare Riggio data on human influence"
   ]
  },
  {
   "cell_type": "code",
   "execution_count": null,
   "id": "1b4aef39-8450-4128-8c5d-02e332a12da5",
   "metadata": {},
   "outputs": [],
   "source": [
    "# Libraries\n",
    "import os, time, shutil, rioxarray\n",
    "import numpy as np\n",
    "import xarray as xr\n",
    "from scipy import ndimage\n",
    "import matplotlib.pyplot as plt"
   ]
  },
  {
   "cell_type": "code",
   "execution_count": null,
   "id": "b3ffb70e-3311-4149-832a-f76c88e5ea01",
   "metadata": {},
   "outputs": [],
   "source": [
    "# Directories\n",
    "dir_data =  '../data/'\n",
    "dir01 = '../paper_deficit/output/01_prep/'"
   ]
  },
  {
   "cell_type": "markdown",
   "id": "0ae4870e-c4a4-4295-96c0-bb4139592437",
   "metadata": {},
   "source": [
    "---"
   ]
  },
  {
   "cell_type": "markdown",
   "id": "b1dac84b-886d-42fb-abb5-332e3a4232fa",
   "metadata": {},
   "source": [
    "### Pre-processing"
   ]
  },
  {
   "cell_type": "code",
   "execution_count": null,
   "id": "0beaa0cc-d3c6-4350-9397-bc126fe44ea9",
   "metadata": {},
   "outputs": [],
   "source": [
    "def prep_riggio():\n",
    "\n",
    "    \"\"\"Prepare riggio data for regridding\"\"\"\n",
    "\n",
    "    # Directory where riggio data is stored\n",
    "    dir_riggio = dir_data + 'riggio2020/Global_Human_Influence_Dryad/'\n",
    "    \n",
    "    # Mapping of human influence types to their file paths\n",
    "    hi_types = {\n",
    "        'vlhi': 'Figure2a_VeryLowHumanInfluence.tif',\n",
    "        'lhi': 'Figure2b_LowHumanInfluence.tif'\n",
    "    }\n",
    "    \n",
    "    for hi_type, file_name in hi_types.items():   \n",
    "        # Load data\n",
    "        da = rioxarray.open_rasterio(dir_riggio + file_name) \\\n",
    "            .rio.reproject('EPSG:4326') \\\n",
    "            .chunk(dict(y=5000, x=5000))\n",
    "            \n",
    "        # Prepare and export\n",
    "        for i in [0,1,2,3,4]:\n",
    "            xr.where(da == i, True, False) \\\n",
    "                .astype('float32') \\\n",
    "                .rename('riggio_' + hi_type + str(i)) \\\n",
    "                .rio.to_raster(dir01 + 'riggio_' + hi_type + str(i) + '.tif')"
   ]
  },
  {
   "cell_type": "code",
   "execution_count": null,
   "id": "e5a38707-9946-4677-9751-87cbd0ab48d9",
   "metadata": {},
   "outputs": [],
   "source": [
    "%time prep_riggio()"
   ]
  },
  {
   "cell_type": "markdown",
   "id": "0a0b3cb3-04ca-46a0-b04e-452337b48ea1",
   "metadata": {},
   "source": [
    "---"
   ]
  },
  {
   "cell_type": "markdown",
   "id": "e7ab829e-4b64-42fd-ab5d-e59505e07ccc",
   "metadata": {},
   "source": [
    "### Regridding"
   ]
  },
  {
   "cell_type": "code",
   "execution_count": null,
   "id": "2a9752cf-5f08-43f4-a2c1-9f0b5abca3f3",
   "metadata": {},
   "outputs": [],
   "source": [
    "# Import regridding function\n",
    "from regrid_high_res_v1_01 import regrid_high_res, prep_tif"
   ]
  },
  {
   "cell_type": "code",
   "execution_count": null,
   "id": "eef8f5ca-b0da-4228-ab34-be74fc602c2b",
   "metadata": {},
   "outputs": [],
   "source": [
    "def regrid_da(f_source, dir_target, dir_source, dir_out, \n",
    "              size_tiles, fill_value=None, olap=1):  \n",
    "    \"\"\"Regrid large xarray dataarrays.\n",
    "\n",
    "    Args:\n",
    "        f_source (str): The filename (without extension) of the source .tif file to be regridded.\n",
    "        dir_target (str): Directory containing target grid .tif file.\n",
    "        dir_source (str): Directory containing the the source  .tif file.\n",
    "        dir_out (str): Directory to store the output and intermediate files.\n",
    "        size_tiles (int): Size of the regridding tiles in degrees.\n",
    "        fill_value (float, optional): Fill value to use in the regridding process. Defaults to None.\n",
    "        olap (int, optional): Overlap size in degrees for regridding tiles. Defaults to 1.\n",
    "        \n",
    "    Returns:\n",
    "        xarray.Dataset: The combined dataset after regridding.\n",
    "    \"\"\"\n",
    "    # Prepare the target and source data arrays from TIFF files\n",
    "    da_target = prep_tif(dir_target + 'target_grid.tif', 'target_grid')\n",
    "    da_source = prep_tif(dir_source + f_source + '.tif', f_source)\n",
    "    # Regridd source array to target grid\n",
    "    regrid_high_res(da_target, da_source, dir_out,\n",
    "                    account='bm0891', partition='compute',\n",
    "                    size_tiles=size_tiles, olap=olap, fill_value = fill_value,\n",
    "                    type_export='zarr', del_interm=False)"
   ]
  },
  {
   "cell_type": "code",
   "execution_count": null,
   "id": "468ca596-5bcd-42ba-a941-3e2b6a83de24",
   "metadata": {},
   "outputs": [],
   "source": [
    "# Regridding\n",
    "for i in range(5):\n",
    "    %time regrid_da('riggio_vlhi' + str(i), dir01, dir01, dir01, 30, 127, 0.1)\n",
    "    %time regrid_da('riggio_lhi' + str(i), dir01, dir01, dir01, 30, 127, 0.1)\n",
    "# takes about 4-6min for one file"
   ]
  },
  {
   "cell_type": "markdown",
   "id": "76ca0f6f-306b-41f9-b053-5b02f7b65e7a",
   "metadata": {},
   "source": [
    "---"
   ]
  },
  {
   "cell_type": "markdown",
   "id": "13cdd026-3786-4f5f-b3ca-c3697fd1119f",
   "metadata": {},
   "source": [
    "### Fill nans"
   ]
  },
  {
   "cell_type": "code",
   "execution_count": null,
   "id": "3ed1cdc0-8da7-44df-affe-aeb7d9241eae",
   "metadata": {},
   "outputs": [],
   "source": [
    "def fill_nans(var, dir_out):\n",
    "    \"\"\"\n",
    "    Fills NaN values in the specified variable's dataset using the nearest valid \n",
    "    data, applies a land mask, and exports the result to a new Zarr dataset.\n",
    "\n",
    "    Args:\n",
    "        var (str): Name of the variable to process (e.g., 'temperature', 'precipitation').\n",
    "        dir_out (str): Directory where prepared data is stored and the filled dataset will be exported.\n",
    "\n",
    "    Returns:\n",
    "        None\n",
    "    \"\"\"\n",
    "\n",
    "    def fill_nans_array(data, invalid):\n",
    "        \"\"\"\n",
    "        Replace invalid (NaN) data cells by the value of the nearest valid data \n",
    "        cell.\n",
    "        \"\"\"\n",
    "        ind = ndimage.distance_transform_edt(invalid,\n",
    "                                             return_distances=False,\n",
    "                                             return_indices=True)\n",
    "        return data[tuple(ind)]\n",
    "\n",
    "    # Paths for input and output\n",
    "    land_mask_path = os.path.join(dir_out, 'ds_prep_copernicus_land_mask.zarr')\n",
    "    var_data_path = os.path.join(dir_out, f'ds_regridded_{var}.zarr')\n",
    "    output_path = os.path.join(dir_out, f'ds_prep_{var}.zarr')\n",
    "\n",
    "    # Read land mask data\n",
    "    da_land = xr.open_zarr(land_mask_path) \\\n",
    "                .chunk(dict(lat=5000, lon=5000)) \\\n",
    "                .copernicus_land_mask \\\n",
    "                .compute()\n",
    "\n",
    "    # Read variable data\n",
    "    da_var = xr.open_zarr(var_data_path)['regridded_' + var]\n",
    "\n",
    "    # Fill nan using function fill_nans_array\n",
    "    # If there are no NaNs, skip filling process\n",
    "    if not da_var.isnull().any():\n",
    "        da_fill = da_var.values  # No filling required\n",
    "    else:\n",
    "        da_fill = fill_nans_array(da_var.values, da_var.isnull().values)\n",
    "\n",
    "    # Create a new Dataset with filled data\n",
    "    ds_filled = xr.Dataset(dict(lat = da_var.lat, lon=da_var.lon))\n",
    "    ds_filled[var] = (('lat', 'lon'), da_fill)\n",
    "\n",
    "    # Apply land mask to the filled data\n",
    "    ds_filled = ds_filled.where(da_land)\n",
    "\n",
    "    # Export the filled dataset to Zarr format\n",
    "    ds_filled.chunk(dict(lat=5000, lon=5000)) \\\n",
    "             .to_zarr(output_path, mode='w')"
   ]
  },
  {
   "cell_type": "code",
   "execution_count": null,
   "id": "1307fb2e-95e8-4557-9dc1-48e6c7508754",
   "metadata": {},
   "outputs": [],
   "source": [
    "%%time\n",
    "for i in range(5):\n",
    "    %time fill_nans('riggio_vlhi' + str(i), dir01)\n",
    "    %time fill_nans('riggio_lhi' + str(i), dir01)"
   ]
  },
  {
   "cell_type": "markdown",
   "id": "c0bf9055-66a0-4b16-aaee-9601358406c6",
   "metadata": {},
   "source": [
    "---"
   ]
  },
  {
   "cell_type": "markdown",
   "id": "85346148-e359-49b9-9c76-cf04e5262243",
   "metadata": {},
   "source": [
    "### Check"
   ]
  },
  {
   "cell_type": "code",
   "execution_count": null,
   "id": "340aa5da-acfb-4321-b97e-0ff737be68f4",
   "metadata": {},
   "outputs": [],
   "source": [
    "# Plot to check\n",
    "for i in ['riggio_vlhi0', 'riggio_vlhi1', 'riggio_vlhi2', 'riggio_vlhi3',\n",
    "          'riggio_vlhi4']:\n",
    "    fig, ax = plt.subplots(figsize=(10, 5), ncols=1, nrows=1)\n",
    "    xr.open_zarr(dir01 + 'ds_prep_' + i + '.zarr')[i] \\\n",
    "        .plot.imshow(ax=ax)\n",
    "    ax.set_title(i)"
   ]
  },
  {
   "cell_type": "code",
   "execution_count": null,
   "id": "895b02da-3d7a-4e5e-96a3-805b45637f85",
   "metadata": {},
   "outputs": [],
   "source": [
    "# Plot to check\n",
    "for i in ['riggio_lhi0', 'riggio_lhi1', 'riggio_lhi2', 'riggio_lhi3',\n",
    "          'riggio_lhi4']:\n",
    "    fig, ax = plt.subplots(figsize=(10, 5), ncols=1, nrows=1)\n",
    "    xr.open_zarr(dir01 + 'ds_prep_' + i + '.zarr')[i] \\\n",
    "        .plot.imshow(ax=ax)\n",
    "    ax.set_title(i)"
   ]
  }
 ],
 "metadata": {
  "kernelspec": {
   "display_name": "Python 3.12 (deficit)",
   "language": "python",
   "name": "deficit_python312"
  },
  "language_info": {
   "codemirror_mode": {
    "name": "ipython",
    "version": 3
   },
   "file_extension": ".py",
   "mimetype": "text/x-python",
   "name": "python",
   "nbconvert_exporter": "python",
   "pygments_lexer": "ipython3",
   "version": "3.12.6"
  }
 },
 "nbformat": 4,
 "nbformat_minor": 5
}
