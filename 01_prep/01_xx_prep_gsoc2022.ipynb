{
 "cells": [
  {
   "cell_type": "markdown",
   "id": "2bbe828f-db04-4a75-8c3c-3dc9c054078c",
   "metadata": {},
   "source": [
    "# Prepare GSOC soil data (FAO)"
   ]
  },
  {
   "cell_type": "code",
   "execution_count": null,
   "id": "cc407229-561e-46e2-a87d-87ae49a3f392",
   "metadata": {},
   "outputs": [],
   "source": [
    "# Libraries\n",
    "import os, time, shutil, rioxarray\n",
    "import numpy as np\n",
    "import xarray as xr\n",
    "from scipy import ndimage\n",
    "import matplotlib.pyplot as plt"
   ]
  },
  {
   "cell_type": "code",
   "execution_count": null,
   "id": "7da15c66-942c-4b08-ad67-e1675a446555",
   "metadata": {},
   "outputs": [],
   "source": [
    "# Directories\n",
    "dir_data =  '../data/'\n",
    "dir01 = '../paper_deficit/output/01_prep/'"
   ]
  },
  {
   "cell_type": "markdown",
   "id": "e91e3083-9bff-48ea-9d01-f02fc9388a0e",
   "metadata": {},
   "source": [
    "---"
   ]
  },
  {
   "cell_type": "markdown",
   "id": "281c47cf-88db-4518-a28f-4b75bf4f206b",
   "metadata": {},
   "source": [
    "### Pre-processing"
   ]
  },
  {
   "cell_type": "code",
   "execution_count": null,
   "id": "211c7b9a-43af-485f-a913-7fc3bce70efd",
   "metadata": {},
   "outputs": [],
   "source": [
    "# Read data with chunking\n",
    "da_orig = rioxarray.open_rasterio(dir_data + 'gsoc/GSOCmap1.6.1.tif', \n",
    "                                  masked=True)"
   ]
  },
  {
   "cell_type": "code",
   "execution_count": null,
   "id": "acc3eca2-9d2a-42eb-a1e7-4f599e3fae82",
   "metadata": {},
   "outputs": [],
   "source": [
    "# Export the processed file\n",
    "da_orig \\\n",
    "    .sel(y = slice(80, -60)) \\\n",
    "    .rio.to_raster(dir01 + 'gsoc_ocs_0-30cm.tif')"
   ]
  },
  {
   "cell_type": "code",
   "execution_count": null,
   "id": "68c0aa5d-cca2-4055-8be8-01de713e1b8e",
   "metadata": {},
   "outputs": [],
   "source": [
    "# Wait for 60s for dask client to completely disconnect\n",
    "time.sleep(60)"
   ]
  },
  {
   "cell_type": "markdown",
   "id": "3455b4c0-d947-45a3-b3a1-95dcfc51010e",
   "metadata": {},
   "source": [
    "---"
   ]
  },
  {
   "cell_type": "markdown",
   "id": "1770f1f5-b885-417a-ab25-13e12d4417fe",
   "metadata": {},
   "source": [
    "### Regridding"
   ]
  },
  {
   "cell_type": "code",
   "execution_count": null,
   "id": "5b11340d-90dd-4cd8-970f-e212f8b839ba",
   "metadata": {},
   "outputs": [],
   "source": [
    "# Import regridding function\n",
    "from regrid_high_res_v1_01 import regrid_high_res, prep_tif"
   ]
  },
  {
   "cell_type": "code",
   "execution_count": null,
   "id": "c29b7998-469c-4334-90af-11038c50b810",
   "metadata": {},
   "outputs": [],
   "source": [
    "def regrid_da(f_source, dir_target, dir_source, dir_out, \n",
    "              size_tiles, fill_value=None, olap=1):  \n",
    "    \"\"\"Regrid large xarray dataarrays.\n",
    "\n",
    "    Args:\n",
    "        f_source (str): The filename (without extension) of the source .tif file to be regridded.\n",
    "        dir_target (str): Directory containing target grid .tif file.\n",
    "        dir_source (str): Directory containing the the source  .tif file.\n",
    "        dir_out (str): Directory to store the output and intermediate files.\n",
    "        size_tiles (int): Size of the regridding tiles in degrees.\n",
    "        fill_value (float, optional): Fill value to use in the regridding process. Defaults to None.\n",
    "        olap (int, optional): Overlap size in degrees for regridding tiles. Defaults to 1.\n",
    "        \n",
    "    Returns:\n",
    "        xarray.Dataset: The combined dataset after regridding.\n",
    "    \"\"\"\n",
    "    # Prepare the target and source data arrays from TIFF files\n",
    "    da_target = prep_tif(dir_target + 'target_grid.tif', 'target_grid')\n",
    "    da_source = prep_tif(dir_source + f_source + '.tif', f_source)\n",
    "    # Regridd source array to target grid\n",
    "    regrid_high_res(da_target, da_source, dir_out,\n",
    "                    account='bm0891', partition='compute',\n",
    "                    size_tiles=size_tiles, olap=olap, fill_value = fill_value,\n",
    "                    type_export='zarr', del_interm=False)"
   ]
  },
  {
   "cell_type": "code",
   "execution_count": null,
   "id": "6836c1ca-564c-464f-b34a-dad14fb65eea",
   "metadata": {},
   "outputs": [],
   "source": [
    "# regridding\n",
    "for i in ['gsoc_ocs_0-30cm']:\n",
    "    %time regrid_da(i, dir01, dir01, dir01, 15, np.nan, 1)"
   ]
  },
  {
   "cell_type": "code",
   "execution_count": null,
   "id": "e2a7e778-b867-4870-b465-1e2c3181c09c",
   "metadata": {},
   "outputs": [],
   "source": [
    "xr.open_zarr(dir01 + 'ds_regridded_gsoc_ocs_0-30cm.zarr')['regridded_gsoc_ocs_0-30cm'] \\\n",
    "    .plot.imshow(robust=True)"
   ]
  },
  {
   "cell_type": "code",
   "execution_count": null,
   "id": "95bc4773-e98f-4fec-a6ea-daf4b40708c9",
   "metadata": {},
   "outputs": [],
   "source": [
    "xr.open_zarr(dir01 + 'ds_regridded_gsoc_ocs_0-30cm.zarr')['regridded_gsoc_ocs_0-30cm'] \\\n",
    "    .sel(lat=slice(70, 50), lon=slice(-180, -150)) \\\n",
    "    .plot.imshow(robust=True)"
   ]
  },
  {
   "cell_type": "markdown",
   "id": "444c383b-04a5-4aa6-a9e3-e989e28fefb9",
   "metadata": {},
   "source": [
    "---"
   ]
  },
  {
   "cell_type": "markdown",
   "id": "8c60e535-19da-412a-8b54-f970798762d4",
   "metadata": {},
   "source": [
    "### Fill-nans"
   ]
  },
  {
   "cell_type": "code",
   "execution_count": null,
   "id": "8485beb6-7bbb-4375-9123-1f35f07095f5",
   "metadata": {},
   "outputs": [],
   "source": [
    "def fill_nans(var, dir_out):\n",
    "    \"\"\"\n",
    "    Fills NaN values in the specified variable's dataset using the nearest valid \n",
    "    data, applies a land mask, and exports the result to a new Zarr dataset.\n",
    "\n",
    "    Args:\n",
    "        var (str): Name of the variable to process (e.g., 'temperature', 'precipitation').\n",
    "        dir_out (str): Directory where prepared data is stored and the filled dataset will be exported.\n",
    "\n",
    "    Returns:\n",
    "        None\n",
    "    \"\"\"\n",
    "\n",
    "    def fill_nans_array(data, invalid):\n",
    "        \"\"\"\n",
    "        Replace invalid (NaN) data cells by the value of the nearest valid data \n",
    "        cell.\n",
    "        \"\"\"\n",
    "        ind = ndimage.distance_transform_edt(invalid,\n",
    "                                             return_distances=False,\n",
    "                                             return_indices=True)\n",
    "        return data[tuple(ind)]\n",
    "\n",
    "    # Paths for input and output\n",
    "    land_mask_path = os.path.join(dir_out, 'ds_prep_copernicus_land_mask.zarr')\n",
    "    var_data_path = os.path.join(dir_out, f'ds_regridded_{var}.zarr')\n",
    "    output_path = os.path.join(dir_out, f'ds_prep_{var}.zarr')\n",
    "\n",
    "    # Read land mask data\n",
    "    da_land = xr.open_zarr(land_mask_path) \\\n",
    "                .chunk(dict(lat=5000, lon=5000)) \\\n",
    "                .copernicus_land_mask \\\n",
    "                .compute()\n",
    "\n",
    "    # Read variable data\n",
    "    da_var = xr.open_zarr(var_data_path)['regridded_' + var] \\\n",
    "        .where(da_land == True) # mask land before filling\n",
    "\n",
    "    # Fill nan using function fill_nans_array\n",
    "    # If there are no NaNs, skip filling process\n",
    "    if not da_var.isnull().any():\n",
    "        da_fill = da_var.values  # No filling required\n",
    "    else:\n",
    "        da_fill = fill_nans_array(da_var.values, da_var.isnull().values)\n",
    "\n",
    "    # Create a new Dataset with filled data\n",
    "    ds_filled = xr.Dataset(dict(lat = da_var.lat, lon=da_var.lon))\n",
    "    ds_filled[var] = (('lat', 'lon'), da_fill)\n",
    "\n",
    "    # Apply land mask to the filled data\n",
    "    ds_filled = ds_filled.where(da_land)\n",
    "\n",
    "    # Export the filled dataset to Zarr format\n",
    "    ds_filled.chunk(dict(lat=5000, lon=5000)) \\\n",
    "             .to_zarr(output_path, mode='w')"
   ]
  },
  {
   "cell_type": "code",
   "execution_count": null,
   "id": "9e679921-9444-4f30-8f2b-605136d309ba",
   "metadata": {},
   "outputs": [],
   "source": [
    "for i in ['gsoc_ocs_0-30cm']:\n",
    "    %time fill_nans(i, dir01)"
   ]
  },
  {
   "cell_type": "markdown",
   "id": "c8265cd1-6a3a-4be4-bfc4-0f1bcc9f7982",
   "metadata": {},
   "source": [
    "---"
   ]
  },
  {
   "cell_type": "markdown",
   "id": "ce4cb6fe-6d15-4c45-80fc-6bb11ba34ba9",
   "metadata": {},
   "source": [
    "### Check"
   ]
  },
  {
   "cell_type": "code",
   "execution_count": null,
   "id": "2159388a-9f73-4a27-8bb7-45b5b9fb5fba",
   "metadata": {},
   "outputs": [],
   "source": [
    "# Plot to check\n",
    "for i in ['gsoc_ocs_0-30cm']:\n",
    "    fig, ax = plt.subplots(figsize=(10, 5), ncols=1, nrows=1)\n",
    "    xr.open_zarr(dir01 + 'ds_prep_' + i + '.zarr')[i] \\\n",
    "        .plot.imshow(ax=ax, robust=True)\n",
    "    ax.set_title(i)"
   ]
  },
  {
   "cell_type": "code",
   "execution_count": null,
   "id": "3b11e6e9-66c4-4ad2-9984-90c8eb6d4eb1",
   "metadata": {},
   "outputs": [],
   "source": [
    "da = rioxarray.open_rasterio(dir01 + 'gsoc_ocs_0-30cm.tif')[0]\n",
    "\n",
    "fig, ax = plt.subplots(figsize=(10, 5), ncols=1, nrows=1)\n",
    "da.where(da != da.attrs['_FillValue']).plot.imshow(ax=ax, robust=True)"
   ]
  },
  {
   "cell_type": "code",
   "execution_count": null,
   "id": "a6f27a96-876f-4544-a853-b3ae8a8be6a2",
   "metadata": {},
   "outputs": [],
   "source": [
    "rioxarray.open_rasterio(dir_data + 'gsoc/GSOCmap1.6.1.tif', masked=True)[0] \\\n",
    "    .plot.imshow(robust=True)"
   ]
  },
  {
   "cell_type": "code",
   "execution_count": null,
   "id": "491ae39f-b83c-4ab5-8cde-08a192a876d3",
   "metadata": {},
   "outputs": [],
   "source": [
    "rioxarray.open_rasterio(dir_data + 'gsoc/GSOCmap1.5.0.tif', masked=True)[0] \\\n",
    "    .plot.imshow(robust=True)"
   ]
  }
 ],
 "metadata": {
  "kernelspec": {
   "display_name": "Python 3.12 (deficit)",
   "language": "python",
   "name": "deficit_python312"
  },
  "language_info": {
   "codemirror_mode": {
    "name": "ipython",
    "version": 3
   },
   "file_extension": ".py",
   "mimetype": "text/x-python",
   "name": "python",
   "nbconvert_exporter": "python",
   "pygments_lexer": "ipython3",
   "version": "3.12.6"
  }
 },
 "nbformat": 4,
 "nbformat_minor": 5
}
