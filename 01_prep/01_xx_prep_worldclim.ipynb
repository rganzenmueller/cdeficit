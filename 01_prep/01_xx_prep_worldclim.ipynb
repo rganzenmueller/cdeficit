{
 "cells": [
  {
   "cell_type": "markdown",
   "id": "aeaa4e27-4ce8-4843-803e-4c2a08d4dbcd",
   "metadata": {},
   "source": [
    "# Prepare worldclim data (Fick)"
   ]
  },
  {
   "cell_type": "code",
   "execution_count": null,
   "id": "94acd363-24d1-4ac1-937c-bd6413cf9543",
   "metadata": {},
   "outputs": [],
   "source": [
    "# Libraries\n",
    "import os, time, shutil, rioxarray\n",
    "import numpy as np\n",
    "import xarray as xr\n",
    "from scipy import ndimage\n",
    "import matplotlib.pyplot as plt"
   ]
  },
  {
   "cell_type": "code",
   "execution_count": null,
   "id": "9ceaab47-45fb-4b9d-8a44-2e851f5024c8",
   "metadata": {},
   "outputs": [],
   "source": [
    "# Directories\n",
    "dir_data =  '../data/'\n",
    "dir01 = '../paper_deficit/output/01_prep/'"
   ]
  },
  {
   "cell_type": "markdown",
   "id": "48298383-bb67-4df1-912b-96ed217ec975",
   "metadata": {},
   "source": [
    "---"
   ]
  },
  {
   "cell_type": "markdown",
   "id": "1c89abf4-a541-4922-a0c7-93dff30dc31e",
   "metadata": {},
   "source": [
    "### Pre-processing"
   ]
  },
  {
   "cell_type": "code",
   "execution_count": null,
   "id": "f209d027-ac3f-4b4f-a1a4-12b444f586ca",
   "metadata": {},
   "outputs": [],
   "source": [
    "# Libraries\n",
    "from dask_jobqueue import SLURMCluster\n",
    "from dask.distributed import Client\n",
    "import dask\n",
    "\n",
    "# Initialize dask\n",
    "cluster = SLURMCluster(\n",
    "    queue='compute',                      # SLURM queue to use\n",
    "    cores=24,                             # Number of CPU cores per job\n",
    "    memory='256 GB',                      # Memory per job\n",
    "    account='bm0891',                     # Account allocation\n",
    "    interface=\"ib0\",                      # Network interface for communication\n",
    "    walltime='00:30:00',                  # Maximum runtime per job\n",
    "    local_directory='../dask/',           # Directory for local storage\n",
    "    job_extra_directives=[                # Additional SLURM directives for logging\n",
    "        '-o ../dask/LOG_worker_%j.o',     # Output log\n",
    "        '-e ../dask/LOG_worker_%j.e'      # Error log\n",
    "    ]\n",
    ")\n",
    "\n",
    "# Scale dask cluster\n",
    "cluster.scale(jobs=10)\n",
    "\n",
    "# Configurate dashboard url\n",
    "dask.config.config.get('distributed').get('dashboard').update(\n",
    "    {'link': '{JUPYTERHUB_SERVICE_PREFIX}/proxy/{port}/status'}\n",
    ")\n",
    "\n",
    "# Create client\n",
    "client = Client(cluster)\n",
    "\n",
    "client"
   ]
  },
  {
   "cell_type": "code",
   "execution_count": null,
   "id": "a5afbcde-70ee-49c9-b38b-c04eefd72478",
   "metadata": {},
   "outputs": [],
   "source": [
    "# Function to trim memory of workers\n",
    "def trim_memory() -> int:\n",
    "    import ctypes\n",
    "    libc = ctypes.CDLL(\"libc.so.6\")\n",
    "    return libc.malloc_trim(0)"
   ]
  },
  {
   "cell_type": "code",
   "execution_count": null,
   "id": "b6a47325-42a0-4a34-8c56-64e5454635ee",
   "metadata": {},
   "outputs": [],
   "source": [
    "def prep_worldclim():\n",
    "    \n",
    "    \"\"\"Prepare worldclim data\"\"\"\n",
    "\n",
    "    # File path of elevation file\n",
    "    file_path_elev = dir_data + 'worldclim/wc2.1_30s_elev/wc2.1_30s_elev.tif'\n",
    "    # Read elevation data\n",
    "    da_elev = rioxarray.open_rasterio(file_path_elev, \n",
    "                                      chunks=dict(y=5000, x=5000))\n",
    "    # Select land cells, limit to 90 to -60 latitude, export\n",
    "    da_elev.where(da_elev != da_elev.attrs['_FillValue']) \\\n",
    "        .rename('worldclim_elev') \\\n",
    "        .sel(y=slice(80, -60)) \\\n",
    "        .drop_vars('spatial_ref') \\\n",
    "        .chunk(dict(y=5000, x=5000)) \\\n",
    "        .rio.to_raster(dir01 + 'worldclim_elev.tif')   \n",
    "    \n",
    "    # List of bioclimate files\n",
    "    bio_list = sorted(os.listdir(dir_data + 'worldclim/wc2.1_30s_bio/'))\n",
    "    \n",
    "    for i in bio_list:\n",
    "        # File Path of bioclimatic files\n",
    "        file_path_biox = dir_data + 'worldclim/wc2.1_30s_bio/' + i\n",
    "        # File name\n",
    "        f_bio_x_str = ('worldclim_bio' + \n",
    "                       file_path_biox.split('_')[-1].split('.')[0])\n",
    "        # Read data\n",
    "        da = rioxarray.open_rasterio(file_path_biox, \n",
    "                                     chunks=dict(y=5000, x=5000))       \n",
    "        # Select land cells, limit to 90 to -60 latitude, export\n",
    "        da.where(da != da.attrs['_FillValue']) \\\n",
    "            .rename(f_bio_x_str) \\\n",
    "            .sel(y=slice(80, -60)) \\\n",
    "            .drop_vars('spatial_ref') \\\n",
    "            .chunk(dict(y=5000, x=5000)) \\\n",
    "            .rio.to_raster(dir01 + f_bio_x_str + '.tif') \n",
    "        # Release memory\n",
    "        client.run(trim_memory);"
   ]
  },
  {
   "cell_type": "code",
   "execution_count": null,
   "id": "3c472b4e-ac0d-4a83-8b97-8e2d1ceb0476",
   "metadata": {},
   "outputs": [],
   "source": [
    "%time prep_worldclim()"
   ]
  },
  {
   "cell_type": "code",
   "execution_count": null,
   "id": "26111a71-65ea-4095-b937-c940f6b6e48a",
   "metadata": {},
   "outputs": [],
   "source": [
    "# Close dask cluster\n",
    "cluster.close()"
   ]
  },
  {
   "cell_type": "markdown",
   "id": "c4c502fe-4b56-4e7a-9665-d73046b93002",
   "metadata": {},
   "source": [
    "---"
   ]
  },
  {
   "cell_type": "markdown",
   "id": "7c6a1212-0fdf-41cd-8657-e1365a84564a",
   "metadata": {},
   "source": [
    "### Post-processing"
   ]
  },
  {
   "cell_type": "code",
   "execution_count": null,
   "id": "23f4b46d-5611-4508-9c6f-b1e4cc28f7a9",
   "metadata": {},
   "outputs": [],
   "source": [
    "def fill_nans(da_var, var, dir_out):\n",
    "    \"\"\"\n",
    "    Fills NaN values in the specified variable's dataset using the nearest valid \n",
    "    data, applies a land mask, and exports the result to a new Zarr dataset.\n",
    "\n",
    "    Args:\n",
    "        var (str): Name of the variable to process (e.g., 'temperature', 'precipitation').\n",
    "        dir_out (str): Directory where prepared data is stored and the filled dataset will be exported.\n",
    "\n",
    "    Returns:\n",
    "        None\n",
    "    \"\"\"\n",
    "\n",
    "    def fill_nans_array(data, invalid):\n",
    "        \"\"\"\n",
    "        Replace invalid (NaN) data cells by the value of the nearest valid data \n",
    "        cell.\n",
    "        \"\"\"\n",
    "        ind = ndimage.distance_transform_edt(invalid,\n",
    "                                             return_distances=False,\n",
    "                                             return_indices=True)\n",
    "        return data[tuple(ind)]\n",
    "\n",
    "    # Paths for input and output\n",
    "    land_mask_path = os.path.join(dir_out, 'ds_prep_copernicus_land_mask.zarr')\n",
    "    output_path = os.path.join(dir_out, f'ds_prep_{var}.zarr')\n",
    "\n",
    "    # Read land mask data\n",
    "    da_land = xr.open_zarr(land_mask_path) \\\n",
    "                .chunk(dict(lat=5000, lon=5000)) \\\n",
    "                .copernicus_land_mask \\\n",
    "                .compute()\n",
    "\n",
    "    # Fill nan using function fill_nans_array\n",
    "    # If there are no NaNs, skip filling process\n",
    "    if not da_var.isnull().any():\n",
    "        da_fill = da_var.values  # No filling required\n",
    "    else:\n",
    "        da_fill = fill_nans_array(da_var.values, da_var.isnull().values)\n",
    "\n",
    "    # Create a new Dataset with filled data\n",
    "    ds_filled = xr.Dataset(dict(lat = da_var.lat, lon=da_var.lon))\n",
    "    ds_filled[var] = (('lat', 'lon'), da_fill)\n",
    "\n",
    "    # Apply land mask to the filled data\n",
    "    ds_filled = ds_filled.where(da_land)\n",
    "\n",
    "    # Export the filled dataset to Zarr format\n",
    "    ds_filled.chunk(dict(lat=5000, lon=5000)) \\\n",
    "             .to_zarr(output_path, mode='w')"
   ]
  },
  {
   "cell_type": "code",
   "execution_count": null,
   "id": "2cb95489-2f6c-4f16-840e-6af96b9a9c17",
   "metadata": {},
   "outputs": [],
   "source": [
    "for i in ['worldclim_bio1', 'worldclim_bio2', 'worldclim_bio3', \n",
    "          'worldclim_bio4', 'worldclim_bio5', 'worldclim_bio6',\n",
    "          'worldclim_bio7', 'worldclim_bio8', 'worldclim_bio9',\n",
    "          'worldclim_bio10', 'worldclim_bio11', 'worldclim_bio12',\n",
    "          'worldclim_bio13', 'worldclim_bio14', 'worldclim_bio15',\n",
    "          'worldclim_bio16', 'worldclim_bio17', 'worldclim_bio18',\n",
    "          'worldclim_bio19', 'worldclim_elev']:\n",
    "    # Read data\n",
    "    da_var = rioxarray.open_rasterio(dir01 + i + '.tif')[0] \\\n",
    "        .rename(dict(y='lat', x='lon'))\n",
    "    # Fill nans with nearest neighbour if there are nans\n",
    "    %time fill_nans(da_var, i, dir01)"
   ]
  },
  {
   "cell_type": "markdown",
   "id": "f6539f41-1083-469a-8cf5-d2915dba8a89",
   "metadata": {},
   "source": [
    "---"
   ]
  },
  {
   "cell_type": "markdown",
   "id": "bf5d071e-c415-4e8a-bb93-d2d0b02a613b",
   "metadata": {},
   "source": [
    "### Check"
   ]
  },
  {
   "cell_type": "code",
   "execution_count": null,
   "id": "98c4b822-e6a0-4ac6-a751-5ccd4b398936",
   "metadata": {},
   "outputs": [],
   "source": [
    "# Plot to check\n",
    "for i in ['worldclim_bio1', 'worldclim_bio2', 'worldclim_bio3', \n",
    "          'worldclim_bio4', 'worldclim_bio5', 'worldclim_bio6',\n",
    "          'worldclim_bio7', 'worldclim_bio8', 'worldclim_bio9',\n",
    "          'worldclim_bio10', 'worldclim_bio11', 'worldclim_bio12',\n",
    "          'worldclim_bio13', 'worldclim_bio14', 'worldclim_bio15',\n",
    "          'worldclim_bio16', 'worldclim_bio17', 'worldclim_bio18',\n",
    "          'worldclim_bio19', 'worldclim_elev']:\n",
    "    fig, ax = plt.subplots(figsize=(10, 5), ncols=1, nrows=1)\n",
    "    xr.open_zarr(dir01 + 'ds_prep_' + i + '.zarr')[i] \\\n",
    "        .plot.imshow(ax=ax)\n",
    "    ax.set_title(i)"
   ]
  }
 ],
 "metadata": {
  "kernelspec": {
   "display_name": "Python 3.12 (deficit)",
   "language": "python",
   "name": "deficit_python312"
  },
  "language_info": {
   "codemirror_mode": {
    "name": "ipython",
    "version": 3
   },
   "file_extension": ".py",
   "mimetype": "text/x-python",
   "name": "python",
   "nbconvert_exporter": "python",
   "pygments_lexer": "ipython3",
   "version": "3.12.6"
  }
 },
 "nbformat": 4,
 "nbformat_minor": 5
}
