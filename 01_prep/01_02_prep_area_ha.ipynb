{
 "cells": [
  {
   "cell_type": "markdown",
   "id": "1276465c-4b9f-40a9-afc1-374ff7711eba",
   "metadata": {},
   "source": [
    "# Create array with grid cell areas of target grid"
   ]
  },
  {
   "cell_type": "code",
   "execution_count": null,
   "id": "e0afa7f3-b963-45d2-bcd3-3a83c02486db",
   "metadata": {},
   "outputs": [],
   "source": [
    "# Library\n",
    "import xarray as xr\n",
    "\n",
    "# Import functions to calculate grid cell area\n",
    "from xgrid_utils import grid_cell_areas"
   ]
  },
  {
   "cell_type": "code",
   "execution_count": null,
   "id": "45391c4d-c680-4fab-9b02-aefea5a1d7fa",
   "metadata": {},
   "outputs": [],
   "source": [
    "# Directory\n",
    "dir01 = '../paper_deficit/output/01_prep/'"
   ]
  },
  {
   "cell_type": "code",
   "execution_count": null,
   "id": "f7e15c64-ccdf-4d88-b0c4-70cdf601acb4",
   "metadata": {},
   "outputs": [],
   "source": [
    "# Read land sea mask\n",
    "da = xr.open_zarr(dir01 + 'ds_prep_copernicus_land_mask.zarr') \\\n",
    "    .copernicus_land_mask\n",
    "\n",
    "# Create area array, convert from m2 to ha and rechunk\n",
    "da_area = xr.DataArray(data=grid_cell_areas(da.lon.data, da.lat.data),\n",
    "                       dims=('lat', 'lon'), \n",
    "                       coords=(da.lat.data, da.lon.data,)) \\\n",
    "    .chunk(dict(lat=5000, lon=5000)) * 0.0001\n",
    "\n",
    "da_area \\\n",
    "    .to_dataset(name='area_ha') \\\n",
    "    .to_zarr(dir01 + 'ds_prep_area_ha.zarr', mode='w');"
   ]
  }
 ],
 "metadata": {
  "kernelspec": {
   "display_name": "Python 3.12 (deficit)",
   "language": "python",
   "name": "deficit_python312"
  },
  "language_info": {
   "codemirror_mode": {
    "name": "ipython",
    "version": 3
   },
   "file_extension": ".py",
   "mimetype": "text/x-python",
   "name": "python",
   "nbconvert_exporter": "python",
   "pygments_lexer": "ipython3",
   "version": "3.12.6"
  }
 },
 "nbformat": 4,
 "nbformat_minor": 5
}
