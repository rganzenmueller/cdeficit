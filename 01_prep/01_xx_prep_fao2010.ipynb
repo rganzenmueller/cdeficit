{
 "cells": [
  {
   "cell_type": "markdown",
   "id": "e9387ee1-5b3d-4850-be46-15a8a4a4c3bd",
   "metadata": {},
   "source": [
    "# Prepare ecozone data (FAO global ecological zones)"
   ]
  },
  {
   "cell_type": "code",
   "execution_count": null,
   "id": "61e83c1f-3ced-4c42-a06a-f0839a73677d",
   "metadata": {},
   "outputs": [],
   "source": [
    "# libraries\n",
    "import os, time, shutil, rasterio, rioxarray\n",
    "import numpy as np\n",
    "import xarray as xr\n",
    "import geopandas as gpd\n",
    "from scipy import ndimage\n",
    "from dask.distributed import Lock\n",
    "import matplotlib.pyplot as plt"
   ]
  },
  {
   "cell_type": "code",
   "execution_count": null,
   "id": "fe0c16b8-cddf-4b8c-b1b4-a377931304a3",
   "metadata": {},
   "outputs": [],
   "source": [
    "# Directories\n",
    "dir_data =  '../data/'\n",
    "dir01 = '../paper_deficit/output/01_prep/'"
   ]
  },
  {
   "cell_type": "markdown",
   "id": "79548cdb-aba1-4e72-a6d6-a5f0e0417933",
   "metadata": {},
   "source": [
    "---"
   ]
  },
  {
   "cell_type": "markdown",
   "id": "23a7847e-a57d-4016-ad28-d2a2233c3153",
   "metadata": {},
   "source": [
    "### Pre-processing"
   ]
  },
  {
   "cell_type": "code",
   "execution_count": null,
   "id": "bb52cf92-d1f3-4e8b-ae6b-1aa8249d62ea",
   "metadata": {},
   "outputs": [],
   "source": [
    "# Ecozone shapefile to tif\n",
    "# File pathes\n",
    "path_rst = f'{dir_data}/worldclim/wc2.1_30s_elev/wc2.1_30s_elev.tif'\n",
    "path_shp = f'{dir_data}/fao2010gez/gez_2010_wgs84.shp'\n",
    "path_out = f'{dir01}/fao2010_gez.tif'\n",
    "\n",
    "# Read target tif\n",
    "rst = rasterio.open(path_rst)\n",
    "\n",
    "# Read shapefile\n",
    "shp = gpd.read_file(path_shp)\n",
    "\n",
    "# Reproject\n",
    "shp = shp.to_crs(\"EPSG:4326\")\n",
    "\n",
    "# Ret meta data from target raster\n",
    "meta = rst.meta.copy()\n",
    "meta.update(compress='lzw')\n",
    "# File\n",
    "# Burn shapefile on target grid and export\n",
    "with rasterio.open(path_out, 'w+', **meta) as out:\n",
    "    out_arr = out.read(1)\n",
    "\n",
    "    shapes = ((geom,value) for geom, value in \n",
    "              zip(shp.geometry, shp['gez_code']))\n",
    "\n",
    "    burned = rasterio.features.rasterize(shapes=shapes, \n",
    "                                fill=0, \n",
    "                                out=out_arr, \n",
    "                                transform=out.transform)\n",
    "\n",
    "    out.write_band(1, burned)\n",
    "\n",
    "# Read tif\n",
    "da = rioxarray.open_rasterio(path_out, chunks=True)\n",
    "# Set nan values\n",
    "da = da.where(da != da.attrs['_FillValue'])\n",
    "# Set attributes\n",
    "da.attrs['long_name'] = 'fao2010_gez'\n",
    "# Export as tif\n",
    "da.rio.to_raster(path_out);"
   ]
  },
  {
   "cell_type": "code",
   "execution_count": null,
   "id": "a2a6b84b-2b5a-43aa-b23d-181b8de8bb58",
   "metadata": {},
   "outputs": [],
   "source": [
    "# Reclassify\n",
    "# Read data\n",
    "da_gez = rioxarray.open_rasterio(dir01 + 'fao2010_gez.tif', \n",
    "                                 chunks=dict(y=5000, x=5000))\n",
    "# Drop band dimension\n",
    "da_gez = da_gez[0].drop_vars('band')\n",
    "\n",
    "# Group regions\n",
    "list_trop1 = [11]\n",
    "list_trop2 = [12, 13, 14, 15, 16]\n",
    "list_subt = [21, 22, 23, 24, 25]\n",
    "list_temp = [31, 32, 33, 34, 35]\n",
    "list_bore = [41, 42, 43]\n",
    "list_pola = [50]\n",
    "\n",
    "# Create dataset with each class as variable\n",
    "ds = xr.Dataset()\n",
    "ds['fao2010_trop1'] = xr.where(da_gez.isin(list_trop1), 1, 0).astype('int8')\n",
    "ds['fao2010_trop2'] = xr.where(da_gez.isin(list_trop2), 2, 0).astype('int8')\n",
    "ds['fao2010_subt'] = xr.where(da_gez.isin(list_subt), 3, 0).astype('int8')\n",
    "ds['fao2010_temp'] = xr.where(da_gez.isin(list_temp), 4, 0).astype('int8')\n",
    "ds['fao2010_bore'] = xr.where(da_gez.isin(list_bore), 5, 0).astype('int8')\n",
    "ds['fao2010_pola'] = xr.where(da_gez.isin(list_pola), 6, 0).astype('int8')\n",
    "\n",
    "# Transform dataset to dataarray\n",
    "da = ds.to_array().sum(\"variable\")\n",
    "# Set non-land to 0\n",
    "da = da.where(da > 0)\n",
    "# Select lat between 80 and -60\n",
    "da = da.sel(y=slice(80, -60))\n",
    "# Rename x and y\n",
    "da = da.rename(dict(y='lat', x='lon'))"
   ]
  },
  {
   "cell_type": "markdown",
   "id": "51643049-e9b4-4c43-bca5-5e1a66a544ed",
   "metadata": {},
   "source": [
    "---"
   ]
  },
  {
   "cell_type": "markdown",
   "id": "01ae0a6b-ccf1-4f0a-92bb-cae4efe82632",
   "metadata": {},
   "source": [
    "### Fill nan"
   ]
  },
  {
   "cell_type": "code",
   "execution_count": null,
   "id": "5c522558-6634-4e1f-a69f-f55c9d76fcaf",
   "metadata": {},
   "outputs": [],
   "source": [
    "def fill_nans(da_var, var, dir_out):\n",
    "    \"\"\"\n",
    "    Fills NaN values in the specified variable's dataset using the nearest valid \n",
    "    data, applies a land mask, and exports the result to a new Zarr dataset.\n",
    "\n",
    "    Args:\n",
    "        var (str): Name of the variable to process (e.g., 'temperature', 'precipitation').\n",
    "        dir_out (str): Directory where prepared data is stored and the filled dataset will be exported.\n",
    "\n",
    "    Returns:\n",
    "        None\n",
    "    \"\"\"\n",
    "\n",
    "    def fill_nans_array(data, invalid):\n",
    "        \"\"\"\n",
    "        Replace invalid (NaN) data cells by the value of the nearest valid data \n",
    "        cell.\n",
    "        \"\"\"\n",
    "        ind = ndimage.distance_transform_edt(invalid,\n",
    "                                             return_distances=False,\n",
    "                                             return_indices=True)\n",
    "        return data[tuple(ind)]\n",
    "\n",
    "    # Paths for input and output\n",
    "    land_mask_path = os.path.join(dir_out, 'ds_prep_copernicus_land_mask.zarr')\n",
    "    output_path = os.path.join(dir_out, f'ds_prep_{var}.zarr')\n",
    "\n",
    "    # Read land mask data\n",
    "    da_land = xr.open_zarr(land_mask_path) \\\n",
    "                .chunk(dict(lat=5000, lon=5000)) \\\n",
    "                .copernicus_land_mask \\\n",
    "                .compute()\n",
    "\n",
    "    # Fill nan using function fill_nans_array\n",
    "    # If there are no NaNs, skip filling process\n",
    "    if not da_var.isnull().any():\n",
    "        da_fill = da_var.values  # No filling required\n",
    "    else:\n",
    "        da_fill = fill_nans_array(da_var.values, da_var.isnull().values)\n",
    "\n",
    "    # Create a new Dataset with filled data\n",
    "    ds_filled = xr.Dataset(dict(lat = da_var.lat, lon=da_var.lon))\n",
    "    ds_filled[var] = (('lat', 'lon'), da_fill)\n",
    "\n",
    "    # Apply land mask to the filled data\n",
    "    ds_filled = ds_filled.where(da_land.values)\n",
    "\n",
    "    # Export the filled dataset to Zarr format\n",
    "    ds_filled.chunk(dict(lat=5000, lon=5000)) \\\n",
    "             .to_zarr(output_path, mode='w')"
   ]
  },
  {
   "cell_type": "code",
   "execution_count": null,
   "id": "20821f5b-d22f-491a-bc38-d9f275dcf8e0",
   "metadata": {},
   "outputs": [],
   "source": [
    "fill_nans(da, 'fao2010', dir01)"
   ]
  },
  {
   "cell_type": "markdown",
   "id": "ba455a10-06ec-4965-a284-a3425f1126b4",
   "metadata": {},
   "source": [
    "---"
   ]
  },
  {
   "cell_type": "markdown",
   "id": "9050e38e-63d0-4640-9073-f9d6aa765b6d",
   "metadata": {},
   "source": [
    "### Check"
   ]
  },
  {
   "cell_type": "code",
   "execution_count": null,
   "id": "469e1463-3367-4a22-9256-fabaa1033e3b",
   "metadata": {},
   "outputs": [],
   "source": [
    "xr.open_zarr(dir01 + 'ds_prep_' + 'fao2010' + '.zarr')"
   ]
  },
  {
   "cell_type": "code",
   "execution_count": null,
   "id": "93b1c005-dde9-48de-acf6-65bf6e08b554",
   "metadata": {},
   "outputs": [],
   "source": [
    "# Plot to check\n",
    "for i in ['fao2010']:\n",
    "    fig, ax = plt.subplots(figsize=(10, 5), ncols=1, nrows=1)\n",
    "    xr.open_zarr(dir01 + 'ds_prep_' + i + '.zarr')[i] \\\n",
    "        .plot.imshow(ax=ax)\n",
    "    ax.set_title(i)"
   ]
  }
 ],
 "metadata": {
  "kernelspec": {
   "display_name": "Python 3.12 (deficit)",
   "language": "python",
   "name": "deficit_python312"
  },
  "language_info": {
   "codemirror_mode": {
    "name": "ipython",
    "version": 3
   },
   "file_extension": ".py",
   "mimetype": "text/x-python",
   "name": "python",
   "nbconvert_exporter": "python",
   "pygments_lexer": "ipython3",
   "version": "3.12.6"
  }
 },
 "nbformat": 4,
 "nbformat_minor": 5
}
