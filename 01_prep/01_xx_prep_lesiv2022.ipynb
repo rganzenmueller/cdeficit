{
 "cells": [
  {
   "cell_type": "markdown",
   "id": "808cabd0-85bc-4b1c-885a-9405d2356d60",
   "metadata": {},
   "source": [
    "# Prepare forest management data (Lesiv)"
   ]
  },
  {
   "cell_type": "code",
   "execution_count": null,
   "id": "0078681e-f18e-4a5f-a9da-9c9e639834d5",
   "metadata": {},
   "outputs": [],
   "source": [
    "# Libraries\n",
    "import os, time, shutil, rioxarray\n",
    "import numpy as np\n",
    "import xarray as xr\n",
    "from scipy import ndimage\n",
    "from dask.distributed import Lock\n",
    "import matplotlib.pyplot as plt"
   ]
  },
  {
   "cell_type": "code",
   "execution_count": null,
   "id": "6170ae89-8f3e-47b6-b5bc-53a034a138d4",
   "metadata": {},
   "outputs": [],
   "source": [
    "# Directories\n",
    "dir_data =  '../data/'\n",
    "dir01 = '../paper_deficit/output/01_prep/'"
   ]
  },
  {
   "cell_type": "markdown",
   "id": "162f293f-48ed-4b8e-8569-89abb1b1a275",
   "metadata": {},
   "source": [
    "---"
   ]
  },
  {
   "cell_type": "code",
   "execution_count": null,
   "id": "dfb85d18-15ad-4246-9edd-754fd8948012",
   "metadata": {},
   "outputs": [],
   "source": [
    "# Libraries\n",
    "from dask_jobqueue import SLURMCluster\n",
    "from dask.distributed import Client\n",
    "import dask\n",
    "\n",
    "# Initialize dask\n",
    "cluster = SLURMCluster(\n",
    "    queue='compute',                      # SLURM queue to use\n",
    "    cores=24,                             # Number of CPU cores per job\n",
    "    memory='256 GB',                      # Memory per job\n",
    "    account='bm0891',                     # Account allocation\n",
    "    interface=\"ib0\",                      # Network interface for communication\n",
    "    walltime='00:30:00',                  # Maximum runtime per job\n",
    "    local_directory='../dask/',           # Directory for local storage\n",
    "    job_extra_directives=[                # Additional SLURM directives for logging\n",
    "        '-o ../dask/LOG_worker_%j.o',     # Output log\n",
    "        '-e ../dask/LOG_worker_%j.e'      # Error log\n",
    "    ]\n",
    ")\n",
    "\n",
    "# Scale dask cluster\n",
    "cluster.scale(jobs=2)\n",
    "\n",
    "# Configurate dashboard url\n",
    "dask.config.config.get('distributed').get('dashboard').update(\n",
    "    {'link': '{JUPYTERHUB_SERVICE_PREFIX}/proxy/{port}/status'}\n",
    ")\n",
    "\n",
    "# Create client\n",
    "client = Client(cluster)\n",
    "\n",
    "client"
   ]
  },
  {
   "cell_type": "code",
   "execution_count": null,
   "id": "05581f42-9d5d-423e-b892-f0d20a944480",
   "metadata": {},
   "outputs": [],
   "source": [
    "# prepare lesiv (forest management) data\n",
    "def prepare_lesiv_nat():\n",
    "    \"\"\" \n",
    "    Prepare Lesiv 2022 natural forest data\n",
    "    \"\"\"\n",
    "    #read forest management data\n",
    "    file_path = dir_data + 'lesiv2022/FML_v3-2_with-colorbar.tif'\n",
    "    \n",
    "    da_lesiv = rioxarray.open_rasterio(file_path, \n",
    "                                       chunks=dict(y=10000, x=10000), \n",
    "                                       lock=False)\n",
    "    \n",
    "    # create and export tif with natural forests\n",
    "    xr.where(da_lesiv == 11, 100, 0) \\\n",
    "        .rename('lesiv_nat') \\\n",
    "        .astype('int8') \\\n",
    "        .rio.to_raster(dir01 + 'lesiv_nat.tif', \n",
    "                       tiled=True, \n",
    "                       lock=Lock('rio'))\n",
    "\n",
    "\n",
    "prepare_lesiv_nat()"
   ]
  },
  {
   "cell_type": "code",
   "execution_count": null,
   "id": "42c42bae-5beb-42c5-a427-cbbe71c44a1d",
   "metadata": {},
   "outputs": [],
   "source": [
    "# Close dask cluster\n",
    "cluster.close()"
   ]
  },
  {
   "cell_type": "code",
   "execution_count": null,
   "id": "e5e41273-9d77-4c55-a580-8429acb8bdde",
   "metadata": {},
   "outputs": [],
   "source": [
    "# Wait for 60s for dask client to completely disconnect\n",
    "time.sleep(60)"
   ]
  },
  {
   "cell_type": "markdown",
   "id": "a17a9924-2d9a-4e72-b8d4-3e1507b4f5c7",
   "metadata": {},
   "source": [
    "---"
   ]
  },
  {
   "cell_type": "code",
   "execution_count": null,
   "id": "98ce27de-e9bc-42fb-9313-90aa0dc89a45",
   "metadata": {},
   "outputs": [],
   "source": [
    "# Import regridding function\n",
    "from regrid_high_res_v1_01 import regrid_high_res, prep_tif"
   ]
  },
  {
   "cell_type": "code",
   "execution_count": null,
   "id": "36bd5e07-56d2-4dc9-8556-1b4795855bf5",
   "metadata": {},
   "outputs": [],
   "source": [
    "def regrid_da(f_source, dir_target, dir_source, dir_out, \n",
    "              size_tiles, fill_value=None, olap=1):  \n",
    "    \"\"\"Regrid large xarray dataarrays.\n",
    "\n",
    "    Args:\n",
    "        f_source (str): The filename (without extension) of the source .tif file to be regridded.\n",
    "        dir_target (str): Directory containing target grid .tif file.\n",
    "        dir_source (str): Directory containing the the source  .tif file.\n",
    "        dir_out (str): Directory to store the output and intermediate files.\n",
    "        size_tiles (int): Size of the regridding tiles in degrees.\n",
    "        fill_value (float, optional): Fill value to use in the regridding process. Defaults to None.\n",
    "        olap (int, optional): Overlap size in degrees for regridding tiles. Defaults to 1.\n",
    "        \n",
    "    Returns:\n",
    "        xarray.Dataset: The combined dataset after regridding.\n",
    "    \"\"\"\n",
    "    # Prepare the target and source data arrays from TIFF files\n",
    "    da_target = prep_tif(dir_target + 'target_grid.tif', 'target_grid')\n",
    "    da_source = prep_tif(dir_source + f_source + '.tif', f_source)\n",
    "    # Regridd source array to target grid\n",
    "    regrid_high_res(da_target, da_source, dir_out,\n",
    "                    account='bm0891', partition='compute',\n",
    "                    size_tiles=size_tiles, olap=olap, fill_value = fill_value,\n",
    "                    type_export='zarr', del_interm=False)"
   ]
  },
  {
   "cell_type": "code",
   "execution_count": null,
   "id": "b2f019b6-0e37-4678-a4e3-3c0114eaba00",
   "metadata": {},
   "outputs": [],
   "source": [
    "# regridding\n",
    "for i in ['lesiv_nat']:\n",
    "    %time regrid_da(i, dir01, dir01, dir01, 10, -1, 0.1)"
   ]
  },
  {
   "cell_type": "markdown",
   "id": "10cb4132-57fb-4079-bb62-f3077c7d1696",
   "metadata": {},
   "source": [
    "---"
   ]
  },
  {
   "cell_type": "code",
   "execution_count": null,
   "id": "6684871d-7a86-4c46-a5c0-4e274de87b50",
   "metadata": {},
   "outputs": [],
   "source": [
    "xr.open_zarr(dir01 + 'ds_regridded_lesiv_nat.zarr').regridded_lesiv_nat.plot.imshow()"
   ]
  },
  {
   "cell_type": "code",
   "execution_count": null,
   "id": "b380d194-961a-4e8f-9347-1a7a14d6d977",
   "metadata": {},
   "outputs": [],
   "source": [
    "# read regridded data\n",
    "ds_lesiv = xr.open_zarr(dir01 + 'ds_regridded_lesiv_nat.zarr')\n",
    "\n",
    "# set grid cells with natural forest >= 90% to True, all other to 0\n",
    "# for all other forest areas a non-natural state is assumed\n",
    "# export as zarr\n",
    "xr.where(ds_lesiv.regridded_lesiv_nat >= 90, 1, 0) \\\n",
    "    .to_dataset(name='lesiv_nat') \\\n",
    "    .to_zarr(dir01 + 'ds_prep_lesiv_nat.zarr', mode='w');"
   ]
  },
  {
   "cell_type": "markdown",
   "id": "20994943-58a8-433d-838d-f35f07d0256b",
   "metadata": {},
   "source": [
    "---"
   ]
  },
  {
   "cell_type": "markdown",
   "id": "a3dd0d36-1d09-4b9b-88a3-e44c5e673648",
   "metadata": {},
   "source": [
    "### Check"
   ]
  },
  {
   "cell_type": "code",
   "execution_count": null,
   "id": "0bde634a-93b2-4afc-a0a7-59ced4ddf49e",
   "metadata": {},
   "outputs": [],
   "source": [
    "# Plot to check\n",
    "for i in ['lesiv_nat']:\n",
    "    fig, ax = plt.subplots(figsize=(10, 5), ncols=1, nrows=1)\n",
    "    xr.open_zarr(dir01 + 'ds_prep_' + i + '.zarr')[i] \\\n",
    "        .plot.imshow(ax=ax)\n",
    "    ax.set_title(i)"
   ]
  }
 ],
 "metadata": {
  "kernelspec": {
   "display_name": "Python 3.12 (deficit)",
   "language": "python",
   "name": "deficit_python312"
  },
  "language_info": {
   "codemirror_mode": {
    "name": "ipython",
    "version": 3
   },
   "file_extension": ".py",
   "mimetype": "text/x-python",
   "name": "python",
   "nbconvert_exporter": "python",
   "pygments_lexer": "ipython3",
   "version": "3.12.6"
  }
 },
 "nbformat": 4,
 "nbformat_minor": 5
}
