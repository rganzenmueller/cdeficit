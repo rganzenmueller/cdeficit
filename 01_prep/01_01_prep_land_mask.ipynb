{
 "cells": [
  {
   "cell_type": "markdown",
   "id": "84cbcde1-c34e-4115-9a77-13d680edb5c1",
   "metadata": {},
   "source": [
    "# Create land-sea mask from copernicus luc data"
   ]
  },
  {
   "cell_type": "markdown",
   "id": "3ad8667d-61f1-4b80-8514-6884456a37a0",
   "metadata": {},
   "source": [
    "Land-sea mask from copernicus luc data (orig. resolution: 100m)\\\n",
    "Extent limited to -60 to 80 latitude (further north and south almost only ice)\\\n",
    "Target grid from worldclim data (resolution: 1km)"
   ]
  },
  {
   "cell_type": "markdown",
   "id": "58951358-0f1e-48f7-9db0-4a18a67225d8",
   "metadata": {},
   "source": [
    "---"
   ]
  },
  {
   "cell_type": "code",
   "execution_count": null,
   "id": "cc054dfe-e4d2-4d88-b9a6-eb2c773a4db0",
   "metadata": {},
   "outputs": [],
   "source": [
    "# Libraries\n",
    "import time\n",
    "import xarray as xr\n",
    "import rioxarray\n",
    "import matplotlib.pyplot as plt"
   ]
  },
  {
   "cell_type": "code",
   "execution_count": null,
   "id": "89dde3cd-c23c-4217-9145-2d5456e9afba",
   "metadata": {},
   "outputs": [],
   "source": [
    "# Directories\n",
    "dir_data =  '../data/'\n",
    "dir01 = '../paper_deficit/output/01_prep/'"
   ]
  },
  {
   "cell_type": "markdown",
   "id": "75b245d5-87b8-4e48-a62a-569fd2fa7edc",
   "metadata": {},
   "source": [
    "---"
   ]
  },
  {
   "cell_type": "markdown",
   "id": "520e4e31-9667-4713-88cd-397d49d1a37e",
   "metadata": {
    "tags": []
   },
   "source": [
    "### Pre-processing"
   ]
  },
  {
   "cell_type": "code",
   "execution_count": null,
   "id": "b050cdb8-4c26-4792-993e-5c1fbebf0afa",
   "metadata": {},
   "outputs": [],
   "source": [
    "# Libraries\n",
    "from dask_jobqueue import SLURMCluster\n",
    "from dask.distributed import Client\n",
    "import dask\n",
    "\n",
    "# Initialize dask\n",
    "cluster = SLURMCluster(\n",
    "    queue='compute',                      # SLURM queue to use\n",
    "    cores=24,                             # Number of CPU cores per job\n",
    "    memory='256 GB',                      # Memory per job\n",
    "    account='bm0891',                     # Account allocation\n",
    "    interface=\"ib0\",                      # Network interface for communication\n",
    "    walltime='00:30:00',                  # Maximum runtime per job\n",
    "    local_directory='../dask/',           # Directory for local storage\n",
    "    job_extra_directives=[                # Additional SLURM directives for logging\n",
    "        '-o ../dask/LOG_worker_%j.o',     # Output log\n",
    "        '-e ../LOG_worker_%j.e'           # Error log\n",
    "    ]\n",
    ")\n",
    "\n",
    "# Scale dask cluster\n",
    "cluster.scale(jobs=2)\n",
    "\n",
    "# Configurate dashboard url\n",
    "dask.config.config.get('distributed').get('dashboard').update(\n",
    "    {'link': '{JUPYTERHUB_SERVICE_PREFIX}/proxy/{port}/status'}\n",
    ")\n",
    "\n",
    "# Create client\n",
    "client = Client(cluster)\n",
    "\n",
    "client"
   ]
  },
  {
   "cell_type": "code",
   "execution_count": null,
   "id": "7677a6c9-027f-4be8-95c9-1994b59a6771",
   "metadata": {},
   "outputs": [],
   "source": [
    "def prep_copernicus_land_mask():\n",
    "    \"\"\"Prepare land-sea mask from Copernicus LUC data for regridding\"\"\"\n",
    "    \n",
    "    # Read water array\n",
    "    da_water = rioxarray.open_rasterio(\n",
    "        dir_data + '/copernicus_luc/2019/PROBAV_LC100_global_v3.0.1_2019-nrt_' + \n",
    "        'PermanentWater-CoverFraction-layer_EPSG-4326.tif',\n",
    "        chunks=dict(y=5000, x=5000), lock=False)\n",
    "    \n",
    "    # Read snow array\n",
    "    da_snow = rioxarray.open_rasterio(\n",
    "        dir_data + '/copernicus_luc/2019/PROBAV_LC100_global_v3.0.1_2019-nrt_' + \n",
    "        'Snow-CoverFraction-layer_EPSG-4326.tif',\n",
    "        chunks=dict(y=5000, x=5000), lock=False)\n",
    "\n",
    "    # Create mask from water and snow array\n",
    "    da_mask = da_water + da_snow\n",
    "\n",
    "    # Set land grid cells to one and export as tif\n",
    "    # Set to integer (assuming mask == 0 is land, else water/snow)\n",
    "    xr.where(da_mask == 0, 100, 0) \\\n",
    "        .astype('int8') \\\n",
    "        .rio.to_raster(dir01 + 'copernicus_land_mask.tif')\n",
    "    \n",
    "# Call the function\n",
    "prep_copernicus_land_mask()"
   ]
  },
  {
   "cell_type": "code",
   "execution_count": null,
   "id": "b649f0de-d74f-46a0-bf9f-a056bd580807",
   "metadata": {},
   "outputs": [],
   "source": [
    "def prep_target_grid():\n",
    "    \"\"\"Prepare target grid for regridding using WorldClim elevation data.\"\"\"\n",
    "    \n",
    "    # Path to the WorldClim elevation file\n",
    "    f_wclim_elev = dir_data + 'worldclim/wc2.1_30s_elev/wc2.1_30s_elev.tif'\n",
    "    \n",
    "    # Read elevation file with chunking for efficient processing\n",
    "    da_elev = rioxarray.open_rasterio(f_wclim_elev, chunks=dict(y=5000, x=5000))\n",
    "    \n",
    "    # Limit extent to latitude between 80 and -60, exclude fill values, and export as a tif\n",
    "    # Use rioxarray's nodata attribute for fill value\n",
    "    # Rename the DataArray to 'target_grid'\n",
    "    # Limit the latitude extent to between 80 and -60\n",
    "    # Drop spatial_ref coordinate to simplify the output\n",
    "    # Save the result as a GeoTIFF file\n",
    "    da_elev.where(da_elev != da_elev.rio.nodata) \\\n",
    "           .rename('target_grid') \\\n",
    "           .sel(y=slice(80, -60)) \\\n",
    "           .drop_vars('spatial_ref') \\\n",
    "           .rio.to_raster(dir01 + 'target_grid.tif') \n",
    "    \n",
    "# Call the function\n",
    "prep_target_grid()"
   ]
  },
  {
   "cell_type": "code",
   "execution_count": null,
   "id": "7571f8be-24ca-417b-a94d-68c34e92ec23",
   "metadata": {},
   "outputs": [],
   "source": [
    "# close dask cluster\n",
    "cluster.close()"
   ]
  },
  {
   "cell_type": "code",
   "execution_count": null,
   "id": "cc7df4b3-a85c-4973-b840-3602f8fc0785",
   "metadata": {},
   "outputs": [],
   "source": [
    "# wait for 60s for dask client to completely disconnect\n",
    "time.sleep(60)"
   ]
  },
  {
   "cell_type": "markdown",
   "id": "7de2c5bd-a40f-4fd4-8d50-5391119a491f",
   "metadata": {},
   "source": [
    "---"
   ]
  },
  {
   "cell_type": "markdown",
   "id": "271a54ff-7f3c-4c45-9865-6c7ee6a6e2f2",
   "metadata": {
    "tags": []
   },
   "source": [
    "### Regridding"
   ]
  },
  {
   "cell_type": "code",
   "execution_count": null,
   "id": "bf5f2ff7-ff4e-4dcd-80a0-96d6f6bd4b75",
   "metadata": {},
   "outputs": [],
   "source": [
    "# Import regridding function\n",
    "from regrid_high_res_v1_01 import regrid_high_res, prep_tif"
   ]
  },
  {
   "cell_type": "code",
   "execution_count": null,
   "id": "ccb79c02-c52b-42fe-a2e5-ec5fc010c617",
   "metadata": {},
   "outputs": [],
   "source": [
    "def regrid_da(f_source, dir_target, dir_source, dir_out, \n",
    "              size_tiles, fill_value=None, olap=1):  \n",
    "    \"\"\"Regrid large xarray dataarrays.\n",
    "\n",
    "    Args:\n",
    "        f_source (str): The filename (without extension) of the source .tif file to be regridded.\n",
    "        dir_target (str): Directory containing target grid .tif file.\n",
    "        dir_source (str): Directory containing the the source  .tif file.\n",
    "        dir_out (str): Directory to store the output and intermediate files.\n",
    "        size_tiles (int): Size of the regridding tiles in degrees.\n",
    "        fill_value (float, optional): Fill value to use in the regridding process. Defaults to None.\n",
    "        olap (int, optional): Overlap size in degrees for regridding tiles. Defaults to 1.\n",
    "        \n",
    "    Returns:\n",
    "        xarray.Dataset: The combined dataset after regridding.\n",
    "    \"\"\"\n",
    "    # Prepare the target and source data arrays from TIFF files\n",
    "    da_target = prep_tif(dir_target + 'target_grid.tif', 'target_grid')\n",
    "    da_source = prep_tif(dir_source + f_source + '.tif', f_source)\n",
    "    # Regridd source array to target grid\n",
    "    regrid_high_res(da_target, da_source, dir_out,\n",
    "                    account='bm0891', partition='compute',\n",
    "                    size_tiles=size_tiles, olap=olap, fill_value = fill_value,\n",
    "                    type_export='zarr', del_interm=False)"
   ]
  },
  {
   "cell_type": "code",
   "execution_count": null,
   "id": "ceb95f4e-70ef-4b43-a130-083ba5b6cd40",
   "metadata": {},
   "outputs": [],
   "source": [
    "# Regrid\n",
    "%time regrid_da('copernicus_land_mask', dir01, dir01, dir01, 15, 127, 0.2)\n",
    "# takes about 22min"
   ]
  },
  {
   "cell_type": "markdown",
   "id": "9bf023f0-fd00-40d4-8b6e-3664cc3ad69b",
   "metadata": {},
   "source": [
    "---"
   ]
  },
  {
   "cell_type": "markdown",
   "id": "06f4cd49-d8c0-491d-a9d0-804d0e3f20df",
   "metadata": {},
   "source": [
    "### Post-processing"
   ]
  },
  {
   "cell_type": "code",
   "execution_count": null,
   "id": "4bdc86de-380b-4373-b50e-b7e8ca479bad",
   "metadata": {},
   "outputs": [],
   "source": [
    "def post_esa_land_mask():\n",
    "    \"\"\"Change to bool and set land where regridded mask is more than 50% land\"\"\"\n",
    "    \n",
    "    # Read regridded land-sea mask\n",
    "    ds = xr.open_zarr(dir01 + 'ds_regridded_copernicus_land_mask.zarr')\n",
    "\n",
    "    # Rename variable\n",
    "    ds = ds.rename(dict(regridded_copernicus_land_mask = 'copernicus_land_mask'))\n",
    "    \n",
    "    # Define treshold for land grid cells and export as zarr\n",
    "    xr.where(ds > 50, True, False) \\\n",
    "        .to_zarr(dir01 + 'ds_prep_copernicus_land_mask.zarr', mode='w')\n",
    "\n",
    "\n",
    "post_esa_land_mask()"
   ]
  },
  {
   "cell_type": "markdown",
   "id": "c8f58fec-8fd1-48cf-a147-6b70ca1b079d",
   "metadata": {},
   "source": [
    "---"
   ]
  },
  {
   "cell_type": "markdown",
   "id": "256488ae-4f80-4e93-91a2-e9e701e5f7d2",
   "metadata": {},
   "source": [
    "### Check"
   ]
  },
  {
   "cell_type": "code",
   "execution_count": null,
   "id": "a32ccb0d-eb2f-405e-bf8b-b7374807a18d",
   "metadata": {},
   "outputs": [],
   "source": [
    "#plot to check\n",
    "for i in ['copernicus_land_mask']:\n",
    "    fig, ax = plt.subplots(figsize=(10, 5), ncols=1, nrows=1)\n",
    "    xr.open_zarr(dir01 + 'ds_prep_' + i + '.zarr')[i] \\\n",
    "        .plot.imshow(ax=ax)\n",
    "    ax.set_title(i)"
   ]
  },
  {
   "cell_type": "markdown",
   "id": "badebc8d-d733-43a0-a1bf-2192e23bbb22",
   "metadata": {},
   "source": [
    "---"
   ]
  }
 ],
 "metadata": {
  "kernelspec": {
   "display_name": "Python 3.12 (deficit)",
   "language": "python",
   "name": "deficit_python312"
  },
  "language_info": {
   "codemirror_mode": {
    "name": "ipython",
    "version": 3
   },
   "file_extension": ".py",
   "mimetype": "text/x-python",
   "name": "python",
   "nbconvert_exporter": "python",
   "pygments_lexer": "ipython3",
   "version": "3.12.6"
  }
 },
 "nbformat": 4,
 "nbformat_minor": 5
}
